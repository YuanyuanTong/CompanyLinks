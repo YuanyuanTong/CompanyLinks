{
 "cells": [
  {
   "cell_type": "markdown",
   "metadata": {},
   "source": [
    "# Init"
   ]
  },
  {
   "cell_type": "code",
   "execution_count": 1,
   "metadata": {},
   "outputs": [],
   "source": [
    "# data_dir\n",
    "DATA_DIR = \"./data\"\n",
    "\n",
    "# create connection\n",
    "library(RPostgres)\n",
    "wrds <- dbConnect(Postgres(),\n",
    "                  host='wrds-pgdata.wharton.upenn.edu',\n",
    "                  port=9737,\n",
    "                  dbname='wrds',\n",
    "                  sslmode='require',\n",
    "                  user='xiaomowu',\n",
    "                  password='SLCyz2018')"
   ]
  },
  {
   "cell_type": "markdown",
   "metadata": {},
   "source": [
    "# WRDS"
   ]
  },
  {
   "cell_type": "markdown",
   "metadata": {},
   "source": [
    "## ind-profile\n",
    "\n",
    "402,835 obs\n",
    "\n",
    "Contains variables such as `gender`, `dob`, `nationality`..."
   ]
  },
  {
   "cell_type": "code",
   "execution_count": 8,
   "metadata": {},
   "outputs": [
    {
     "name": "stdout",
     "output_type": "stream",
     "text": [
      "-individual_profiles- saved  (3.55 secs)\n"
     ]
    }
   ],
   "source": [
    "library = 'boardex'\n",
    "dataset = 'na_wrds_dir_profile_details' # individual profiles\n",
    "\n",
    "res <- dbSendQuery(wrds, sprintf(\"select * from %s.%s\", library, dataset))\n",
    "individual_profiles <- dbFetch(res, n=-1) %>% setDT()\n",
    "dbClearResult(res)\n",
    "sv(individual_prof)"
   ]
  },
  {
   "cell_type": "markdown",
   "metadata": {},
   "source": [
    "## ind-edu\n",
    "\n",
    "1,341,622 obs"
   ]
  },
  {
   "cell_type": "code",
   "execution_count": 9,
   "metadata": {},
   "outputs": [
    {
     "name": "stdout",
     "output_type": "stream",
     "text": [
      "-individual_edu- saved  (6.68 secs)\n"
     ]
    }
   ],
   "source": [
    "library = 'boardex'\n",
    "dataset = 'na_dir_profile_education' # individual education\n",
    "\n",
    "res <- dbSendQuery(wrds, sprintf(\"select * from %s.%s\", library, dataset))\n",
    "individual_edu <- dbFetch(res, n=-1) %>% setDT()\n",
    "dbClearResult(res)\n",
    "sv(individual_edu)"
   ]
  },
  {
   "cell_type": "markdown",
   "metadata": {},
   "source": [
    "## ind-emp\n",
    "\n",
    "6,302,551 obs\n",
    "\n",
    "Contains \"which persons have served in the focal company\""
   ]
  },
  {
   "cell_type": "code",
   "execution_count": 12,
   "metadata": {},
   "outputs": [
    {
     "name": "stdout",
     "output_type": "stream",
     "text": [
      "-individual_emp- saved  (47.63 secs)\n"
     ]
    }
   ],
   "source": [
    "library = 'boardex'\n",
    "dataset = 'na_wrds_dir_profile_emp' # individual education\n",
    "\n",
    "res <- dbSendQuery(wrds, sprintf(\"select * from %s.%s\", library, dataset))\n",
    "individual_emp <- dbFetch(res, n=-1) %>% setDT()\n",
    "dbClearResult(res)\n",
    "sv(individual_emp)"
   ]
  },
  {
   "cell_type": "markdown",
   "metadata": {},
   "source": [
    "## firm-profile\n",
    "\n",
    "919,051 obs\n",
    "\n",
    "Which contains `firm-id` and its `ticker`"
   ]
  },
  {
   "cell_type": "code",
   "execution_count": 2,
   "metadata": {},
   "outputs": [
    {
     "name": "stdout",
     "output_type": "stream",
     "text": [
      "-firm_prof_from_boardex- saved  (6.06 secs)\n"
     ]
    }
   ],
   "source": [
    "library = 'boardex'\n",
    "dataset = 'na_wrds_company_profile' # individual education\n",
    "\n",
    "res <- dbSendQuery(wrds, sprintf(\"select * from %s.%s\", library, dataset))\n",
    "firm_prof_from_boardex <- dbFetch(res, n=-1) %>% setDT()\n",
    "dbClearResult(res)\n",
    "sv(firm_prof_from_boardex)"
   ]
  },
  {
   "cell_type": "code",
   "execution_count": null,
   "metadata": {},
   "outputs": [],
   "source": [
    "library = 'crspa'\n",
    "dataset = 'msf' # individual education\n",
    "\n",
    "res <- dbSendQuery(wrds, sprintf(\"select * from %s.%s\", library, dataset))\n",
    "firm_prof_from_crsp <- dbFetch(res, n=-1) %>% setDT()\n",
    "dbClearResult(res)\n",
    "sv(firm_prof_from_crsp)"
   ]
  },
  {
   "cell_type": "markdown",
   "metadata": {},
   "source": [
    "## firm-net\n",
    "\n",
    "3,631,160 obs"
   ]
  },
  {
   "cell_type": "code",
   "execution_count": 4,
   "metadata": {},
   "outputs": [
    {
     "name": "stdout",
     "output_type": "stream",
     "text": [
      "-firm_net- saved  (38.16 secs)\n"
     ]
    }
   ],
   "source": [
    "library = 'boardex'\n",
    "dataset = 'na_wrds_company_networks' # individual education\n",
    "\n",
    "res <- dbSendQuery(wrds, sprintf(\"select * from %s.%s\", library, dataset))\n",
    "firm_net <- dbFetch(res, n=-1) %>% setDT()\n",
    "dbClearResult(res)\n",
    "sv(firm_net)"
   ]
  },
  {
   "cell_type": "markdown",
   "metadata": {},
   "source": [
    "## ind-net (dep)\n",
    "\n",
    "Didn't use, because it's too large (806,646,080 obs) "
   ]
  },
  {
   "cell_type": "code",
   "execution_count": null,
   "metadata": {},
   "outputs": [],
   "source": [
    "library = 'boardex'\n",
    "dataset = 'na_wrds_individual_networks' # individual education\n",
    "\n",
    "res <- dbSendQuery(wrds, sprintf(\"select * from %s.%s\", library, dataset))\n",
    "individual_net <- dbFetch(res, n=-1) %>% setDT()\n",
    "dbClearResult(res)\n",
    "sv(individual_net)"
   ]
  },
  {
   "cell_type": "markdown",
   "metadata": {},
   "source": [
    "# Clean"
   ]
  },
  {
   "cell_type": "markdown",
   "metadata": {},
   "source": [
    "## ind_prof\n",
    "\n",
    "Table `f_ind_prof`\n",
    "- The profiles of the individuals that we may use. Each person has one exact observation. Note that we may not use all of them.\n",
    "- For demo of `f_ind_prof` please see the end of this section\n",
    "- `name`: the name of the individual\n",
    "- `name_id`: unique id for that individual\n",
    "- `dob`: date of birth\n",
    "- `dod`: date of death\n",
    "- `age`: the age given by the database. Seems to be calcualted by 2015.\n",
    "- `gender`: the gender of the individual\n",
    "- `nationality`: nationality of the individual"
   ]
  },
  {
   "cell_type": "code",
   "execution_count": 1,
   "metadata": {},
   "outputs": [
    {
     "name": "stdout",
     "output_type": "stream",
     "text": [
      "-individual_prof- loaded  (1.74 secs)\n"
     ]
    }
   ],
   "source": [
    "ld(individual_prof, force=T)"
   ]
  },
  {
   "cell_type": "code",
   "execution_count": 4,
   "metadata": {},
   "outputs": [
    {
     "data": {
      "text/html": [
       "<table>\n",
       "<thead><tr><th scope=col>name</th><th scope=col>name_id</th><th scope=col>dob</th><th scope=col>dod</th><th scope=col>age</th><th scope=col>gender</th><th scope=col>nationality</th></tr></thead>\n",
       "<tbody>\n",
       "\t<tr><td>David Shaw </td><td>16         </td><td>22 Apr 1951</td><td>n.a.       </td><td>68         </td><td>M          </td><td>American   </td></tr>\n",
       "</tbody>\n",
       "</table>\n"
      ],
      "text/latex": [
       "\\begin{tabular}{r|lllllll}\n",
       " name & name\\_id & dob & dod & age & gender & nationality\\\\\n",
       "\\hline\n",
       "\t David Shaw  & 16          & 22 Apr 1951 & n.a.        & 68          & M           & American   \\\\\n",
       "\\end{tabular}\n"
      ],
      "text/markdown": [
       "\n",
       "| name | name_id | dob | dod | age | gender | nationality |\n",
       "|---|---|---|---|---|---|---|\n",
       "| David Shaw  | 16          | 22 Apr 1951 | n.a.        | 68          | M           | American    |\n",
       "\n"
      ],
      "text/plain": [
       "  name       name_id dob         dod  age gender nationality\n",
       "1 David Shaw 16      22 Apr 1951 n.a. 68  M      American   "
      ]
     },
     "metadata": {},
     "output_type": "display_data"
    }
   ],
   "source": [
    "f_ind_prof = individual_prof[, \n",
    "    .(name=directorname, name_id=directorid, \n",
    "      dob=dob,\n",
    "      dod=dod, \n",
    "      age=as.integer(age)+4, gender=gender,\n",
    "      nationality=nationality)] %>%\n",
    "    unique()\n",
    "f_ind_prof[1]\n",
    "fwrite(f_ind_prof, './data/f_ind_prof.csv')"
   ]
  },
  {
   "cell_type": "markdown",
   "metadata": {},
   "source": [
    "## ind_edu\n",
    "\n",
    "Table `f_ind_edu`\n",
    "- Education of the individuals that we may use. Each person may have MULTIPLE observations, if they receive education from multiple institutions. Note that we may not use all of them.\n",
    "- For demo of `f_ind_edu` please see the end of this section\n",
    "- `name`: the name of the individual\n",
    "- `name_id`: unique id for that individual\n",
    "- `edu_type`: type of education. Could be \"Education\" or \"Professional Qualifications\"\n",
    "- `university`: the institution the individual receive education from. \n",
    "- `university_id`: the unique id for each `university`\n",
    "- `qualification`: the type of qualificatoin, e.g. BA, PhD... \n",
    "- `award_date`: the date to be awarded the qualification."
   ]
  },
  {
   "cell_type": "code",
   "execution_count": 6,
   "metadata": {},
   "outputs": [
    {
     "name": "stdout",
     "output_type": "stream",
     "text": [
      "-individual_edu- loaded  (1.64 secs)\n"
     ]
    },
    {
     "data": {
      "text/html": [
       "<table>\n",
       "<thead><tr><th scope=col>name</th><th scope=col>name_id</th><th scope=col>edu_type</th><th scope=col>university</th><th scope=col>university_id</th><th scope=col>qualification</th><th scope=col>award_date</th></tr></thead>\n",
       "<tbody>\n",
       "\t<tr><td>David Shaw                 </td><td>16                         </td><td>Education                  </td><td>University of New Hampshire</td><td>62520                      </td><td>BA                         </td><td>1973-01-01                 </td></tr>\n",
       "</tbody>\n",
       "</table>\n"
      ],
      "text/latex": [
       "\\begin{tabular}{r|lllllll}\n",
       " name & name\\_id & edu\\_type & university & university\\_id & qualification & award\\_date\\\\\n",
       "\\hline\n",
       "\t David Shaw                  & 16                          & Education                   & University of New Hampshire & 62520                       & BA                          & 1973-01-01                 \\\\\n",
       "\\end{tabular}\n"
      ],
      "text/markdown": [
       "\n",
       "| name | name_id | edu_type | university | university_id | qualification | award_date |\n",
       "|---|---|---|---|---|---|---|\n",
       "| David Shaw                  | 16                          | Education                   | University of New Hampshire | 62520                       | BA                          | 1973-01-01                  |\n",
       "\n"
      ],
      "text/plain": [
       "  name       name_id edu_type  university                  university_id\n",
       "1 David Shaw 16      Education University of New Hampshire 62520        \n",
       "  qualification award_date\n",
       "1 BA            1973-01-01"
      ]
     },
     "metadata": {},
     "output_type": "display_data"
    }
   ],
   "source": [
    "ld(individual_edu, force=T)\n",
    "f_ind_edu = individual_edu[,\n",
    "    .(name=directorname, name_id=directorid, edu_type=rowtype,\n",
    "      university=companyname, university_id=companyid,\n",
    "      qualification=qualification, award_date=awarddate)] %>%\n",
    "    unique()\n",
    "f_ind_edu[1]\n",
    "fwrite(f_ind_edu, './data/f_ind_edu.csv')"
   ]
  },
  {
   "cell_type": "markdown",
   "metadata": {},
   "source": [
    "## ind_emp\n",
    "\n",
    "Table `f_ind_emp`\n",
    "- Employment history of each individual. One individual may have MULTIPLE observations, if he/she has served in multiple companies.\n",
    "- For demo of `f_ind_emp` please see the end of this section\n",
    "- `name`: the name of the individual\n",
    "- `name_id`: unique id for that individual\n",
    "- `company`: the name of the company that the individual has served in.\n",
    "- `company_id`: unique id for each `company`.\n",
    "- `in_board`: \"Yes\" if the individual was in the \"board of directors\", otherwise \"No\".\n",
    "- `in_supervisory`: \"Yes\" if the individual was in the \"supervisory board\", otherwise \"No\". \n",
    "- `role`: the role of the indiviudal when he/she was in the company\n",
    "- `role_start_date`: the date when the individual started his/her role\n",
    "- `role_end_date`: the date when the individual ended his/her role."
   ]
  },
  {
   "cell_type": "code",
   "execution_count": 7,
   "metadata": {},
   "outputs": [
    {
     "name": "stdout",
     "output_type": "stream",
     "text": [
      "-individual_emp- loaded  (20.55 secs)\n"
     ]
    }
   ],
   "source": [
    "ld(individual_emp, force=T)"
   ]
  },
  {
   "cell_type": "code",
   "execution_count": 8,
   "metadata": {},
   "outputs": [
    {
     "data": {
      "text/html": [
       "<table>\n",
       "<thead><tr><th scope=col>name</th><th scope=col>name_id</th><th scope=col>company</th><th scope=col>company_id</th><th scope=col>in_board</th><th scope=col>in_supervisory</th><th scope=col>role</th><th scope=col>role_start_date</th><th scope=col>role_end_date</th></tr></thead>\n",
       "<tbody>\n",
       "\t<tr><td>Ambassador Gerald Carmen                                     </td><td>372547                                                       </td><td>Home Shopping Latino Inc (1 800 Autotow Inc prior to 11/2006)</td><td>2                                                            </td><td>Yes                                                          </td><td>Yes                                                          </td><td>Director - SD                                                </td><td>1998-07-01                                                   </td><td>NA                                                           </td></tr>\n",
       "</tbody>\n",
       "</table>\n"
      ],
      "text/latex": [
       "\\begin{tabular}{r|lllllllll}\n",
       " name & name\\_id & company & company\\_id & in\\_board & in\\_supervisory & role & role\\_start\\_date & role\\_end\\_date\\\\\n",
       "\\hline\n",
       "\t Ambassador Gerald Carmen                                      & 372547                                                        & Home Shopping Latino Inc (1 800 Autotow Inc prior to 11/2006) & 2                                                             & Yes                                                           & Yes                                                           & Director - SD                                                 & 1998-07-01                                                    & NA                                                           \\\\\n",
       "\\end{tabular}\n"
      ],
      "text/markdown": [
       "\n",
       "| name | name_id | company | company_id | in_board | in_supervisory | role | role_start_date | role_end_date |\n",
       "|---|---|---|---|---|---|---|---|---|\n",
       "| Ambassador Gerald Carmen                                      | 372547                                                        | Home Shopping Latino Inc (1 800 Autotow Inc prior to 11/2006) | 2                                                             | Yes                                                           | Yes                                                           | Director - SD                                                 | 1998-07-01                                                    | NA                                                            |\n",
       "\n"
      ],
      "text/plain": [
       "  name                     name_id\n",
       "1 Ambassador Gerald Carmen 372547 \n",
       "  company                                                       company_id\n",
       "1 Home Shopping Latino Inc (1 800 Autotow Inc prior to 11/2006) 2         \n",
       "  in_board in_supervisory role          role_start_date role_end_date\n",
       "1 Yes      Yes            Director - SD 1998-07-01      <NA>         "
      ]
     },
     "metadata": {},
     "output_type": "display_data"
    }
   ],
   "source": [
    "f_ind_emp = individual_emp[,\n",
    "    .(name=directorname, name_id=directorid,\n",
    "      company=companyname, company_id=companyid, \n",
    "      in_board=brdposition, in_supervisory=ned, role=rolename,\n",
    "      role_start_date=datestartrole, role_end_date=dateendrole)] %>%\n",
    "    unique()\n",
    "fwrite(f_ind_emp, './data/f_ind_emp.csv')\n",
    "# sv(f_ind_emp)\n",
    "f_ind_emp[1]"
   ]
  },
  {
   "cell_type": "markdown",
   "metadata": {},
   "source": [
    "## firm_prof\n",
    "\n",
    "Table `f_firm_prof`\n",
    "- Profiles for the companies that we may use. Each company has exactly one observation\n",
    "- For demo of `f_firm_prof` please see the end of this section\n",
    "- `company`: the name of the company\n",
    "- `company_id`: unique id for each `company`.\n",
    "- `ticker`: ticker of the company, e.g. \"MSFT\" for Microsoft"
   ]
  },
  {
   "cell_type": "code",
   "execution_count": 49,
   "metadata": {},
   "outputs": [
    {
     "name": "stdout",
     "output_type": "stream",
     "text": [
      "-firm_prof_from_boardex- loaded  (3.46 secs)\n"
     ]
    }
   ],
   "source": [
    "ld(firm_prof_from_boardex, force=T)"
   ]
  },
  {
   "cell_type": "code",
   "execution_count": 57,
   "metadata": {},
   "outputs": [
    {
     "name": "stdout",
     "output_type": "stream",
     "text": [
      "-f_firm_prof- saved  (0.07 secs)\n"
     ]
    },
    {
     "data": {
      "text/html": [
       "<table>\n",
       "<thead><tr><th scope=col>company</th><th scope=col>company_id</th><th scope=col>sector</th><th scope=col>headoffice_address</th><th scope=col>communication_address</th><th scope=col>market_cap</th><th scope=col>n_employee</th><th scope=col>revenue</th></tr></thead>\n",
       "<tbody>\n",
       "\t<tr><td>MICROSOFT CORP                                                                                           </td><td>20601                                                                                                    </td><td>Software &amp; Computer Services                                                                         </td><td><span style=white-space:pre-wrap>One Microsoft Way Redmond  Washington WA 98052-6399 United States</span></td><td><span style=white-space:pre-wrap>One Microsoft Way Redmond  Washington WA 98052-6399 United States</span></td><td>1060781                                                                                                  </td><td>131000                                                                                                   </td><td>110360                                                                                                   </td></tr>\n",
       "</tbody>\n",
       "</table>\n"
      ],
      "text/latex": [
       "\\begin{tabular}{r|llllllll}\n",
       " company & company\\_id & sector & headoffice\\_address & communication\\_address & market\\_cap & n\\_employee & revenue\\\\\n",
       "\\hline\n",
       "\t MICROSOFT CORP                                                    & 20601                                                             & Software \\& Computer Services                                    & One Microsoft Way Redmond  Washington WA 98052-6399 United States & One Microsoft Way Redmond  Washington WA 98052-6399 United States & 1060781                                                           & 131000                                                            & 110360                                                           \\\\\n",
       "\\end{tabular}\n"
      ],
      "text/markdown": [
       "\n",
       "| company | company_id | sector | headoffice_address | communication_address | market_cap | n_employee | revenue |\n",
       "|---|---|---|---|---|---|---|---|\n",
       "| MICROSOFT CORP                                                    | 20601                                                             | Software & Computer Services                                      | One Microsoft Way Redmond  Washington WA 98052-6399 United States | One Microsoft Way Redmond  Washington WA 98052-6399 United States | 1060781                                                           | 131000                                                            | 110360                                                            |\n",
       "\n"
      ],
      "text/plain": [
       "  company        company_id sector                      \n",
       "1 MICROSOFT CORP 20601      Software & Computer Services\n",
       "  headoffice_address                                               \n",
       "1 One Microsoft Way Redmond  Washington WA 98052-6399 United States\n",
       "  communication_address                                             market_cap\n",
       "1 One Microsoft Way Redmond  Washington WA 98052-6399 United States 1060781   \n",
       "  n_employee revenue\n",
       "1 131000     110360 "
      ]
     },
     "metadata": {},
     "output_type": "display_data"
    }
   ],
   "source": [
    "cols = c('hoaddress1', 'hoaddress2', 'hoaddress3', 'hoaddress4', 'hoaddress5', 'hocountryname', 'ccaddress1', 'ccaddress2', 'ccaddress3', 'ccaddress4', 'ccaddress5', 'cccountryname')\n",
    "\n",
    "f_firm_prof = firm_prof_from_boardex[\n",
    "    countryofquote=='U.S.A.' & hocountryname=='United States'\n",
    "    ][, c(cols) := lapply(.SD, str_replace_na, ''), .SDcols=cols\n",
    "    ][, .(company=boardname, company_id=boardid, sector,\n",
    "      headoffice_address=str_c(\n",
    "        hoaddress1, hoaddress2, hoaddress3,\n",
    "        hoaddress4, hoaddress5, hocountryname, sep=' '),\n",
    "      communication_address=str_c(\n",
    "        ccaddress1, ccaddress2, ccaddress3,\n",
    "        ccaddress4, ccaddress5, cccountryname, sep=' '),\n",
    "      market_cap=mktcapitalisation,\n",
    "      n_employee=noemployees,\n",
    "      revenue)\n",
    "    ][order(-market_cap)] %>% unique()\n",
    "fwrite(f_firm_prof, './data/f_firm_prof.csv')\n",
    "sv(f_firm_prof)\n",
    "f_firm_prof[1]"
   ]
  },
  {
   "cell_type": "code",
   "execution_count": 54,
   "metadata": {
    "scrolled": true
   },
   "outputs": [
    {
     "data": {
      "text/html": [
       "<table>\n",
       "<thead><tr><th scope=col>company</th><th scope=col>company_id</th><th scope=col>sector</th><th scope=col>headoffice_address</th><th scope=col>communication_address</th><th scope=col>market_cap</th><th scope=col>n_employee</th><th scope=col>revenue</th></tr></thead>\n",
       "<tbody>\n",
       "\t<tr><td><span style=white-space:pre-wrap>MICROSOFT CORP                                    </span>                          </td><td><span style=white-space:pre-wrap>  20601</span>                                                                     </td><td><span style=white-space:pre-wrap>Software &amp; Computer Services     </span>                                       </td><td><span style=white-space:pre-wrap>One Microsoft Way Redmond  Washington WA 98052-6399 United States           </span></td><td><span style=white-space:pre-wrap>One Microsoft Way Redmond  Washington WA 98052-6399 United States           </span></td><td>1060781                                                                                                             </td><td> 131000                                                                                                             </td><td>110360                                                                                                              </td></tr>\n",
       "\t<tr><td>AMAZON.COM INC                                                              </td><td>   1703                                                                     </td><td>General Retailers                                                           </td><td>410 Terry Avenue North Seattle  Washington WA 98109-5210 United States      </td><td>410 Terry Avenue North Seattle  Washington WA 98109-5210 United States      </td><td> 894229                                                                     </td><td> 647500                                                                     </td><td>232887                                                                      </td></tr>\n",
       "\t<tr><td>APPLE INC (Apple Computer Inc prior to 01/2007)                             </td><td>   2355                                                                     </td><td>Information Technology Hardware                                             </td><td>One Apple Park Way Cupertino  California CA 95014 United States             </td><td>1 Infinite Loop Cupertino  California CA 95014 United States                </td><td> 888113                                                                     </td><td> 132000                                                                     </td><td>265595                                                                      </td></tr>\n",
       "\t<tr><td><span style=white-space:pre-wrap>ALPHABET INC (Google Inc prior to 10/2015)        </span>                          </td><td> 116351                                                                                                             </td><td><span style=white-space:pre-wrap>Software &amp; Computer Services     </span>                                       </td><td><span style=white-space:pre-wrap>1600 Amphitheatre Parkway Mountain View  California CA 94043 United States  </span></td><td><span style=white-space:pre-wrap>1600 Amphitheatre Parkway Mountain View  California CA 94043 United States  </span></td><td> 776176                                                                                                             </td><td><span style=white-space:pre-wrap>  98771</span>                                                                     </td><td>136819                                                                                                              </td></tr>\n",
       "\t<tr><td>BERKSHIRE HATHAWAY INC                                                      </td><td>   4080                                                                     </td><td>Insurance                                                                   </td><td>3555 Farnam Street Omaha  Nebraska NE 68131 United States                   </td><td>3555 Farnam Street Omaha   68131 United States                              </td><td> 491060                                                                     </td><td> 389000                                                                     </td><td>247837                                                                      </td></tr>\n",
       "\t<tr><td><span style=white-space:pre-wrap>FACEBOOK INC                                      </span>                          </td><td>1820060                                                                                                             </td><td><span style=white-space:pre-wrap>Software &amp; Computer Services     </span>                                       </td><td><span style=white-space:pre-wrap>1601 Willow Road Menlo Park  California CA 94025 United States              </span></td><td><span style=white-space:pre-wrap>1601 Willow Road Menlo Park  California CA 94025 United States              </span></td><td> 457557                                                                                                             </td><td><span style=white-space:pre-wrap>  35587</span>                                                                     </td><td> 55838                                                                                                              </td></tr>\n",
       "\t<tr><td><span style=white-space:pre-wrap>JPMORGAN CHASE &amp; CO                               </span>                      </td><td><span style=white-space:pre-wrap>  17528</span>                                                                     </td><td><span style=white-space:pre-wrap>Banks                            </span>                                           </td><td><span style=white-space:pre-wrap>383 Madison Avenue   New York NY 10179-0001 United States                   </span></td><td><span style=white-space:pre-wrap>383 Madison Avenue    10179-0001 United States                              </span></td><td> 354223                                                                                                             </td><td> 256105                                                                                                             </td><td>109029                                                                                                              </td></tr>\n",
       "\t<tr><td><span style=white-space:pre-wrap>JOHNSON &amp; JOHNSON                                 </span>                          </td><td><span style=white-space:pre-wrap>  17478</span>                                                                         </td><td>Pharmaceuticals and Biotechnology                                                                                       </td><td><span style=white-space:pre-wrap>One Johnson &amp; Johnson Plaza New Brunswick  New Jersey NJ 08933 United States</span></td><td><span style=white-space:pre-wrap>One Johnson &amp; Johnson Plaza New Brunswick  New Jersey NJ 08933 United States</span></td><td> 343247                                                                                                                 </td><td> 135100                                                                                                                 </td><td> 81581                                                                                                                  </td></tr>\n",
       "\t<tr><td>WALMART INC (Wal-Mart Stores Inc prior to 02/2018)                          </td><td>  33046                                                                     </td><td>General Retailers                                                           </td><td>702 Southwest 8th Street Bentonville  Arkansas AR 72716-0215 United States  </td><td>702 Southwest 8th Street Bentonville  Arkansas AR 72716 United States       </td><td> 330613                                                                     </td><td>2200000                                                                     </td><td>514405                                                                      </td></tr>\n",
       "\t<tr><td><span style=white-space:pre-wrap>EXXON MOBIL CORP                                  </span>                          </td><td><span style=white-space:pre-wrap>  11430</span>                                                                     </td><td><span style=white-space:pre-wrap>Oil &amp; Gas                        </span>                                       </td><td><span style=white-space:pre-wrap>5959 Las Colinas Boulevard Irving  Texas TX 75039-2298 United States        </span></td><td><span style=white-space:pre-wrap>5959 Las Colinas Boulevard Irving  Texas TX 75039-2298 United States        </span></td><td> 306311                                                                                                             </td><td><span style=white-space:pre-wrap>  71100</span>                                                                     </td><td>290212                                                                                                              </td></tr>\n",
       "</tbody>\n",
       "</table>\n"
      ],
      "text/latex": [
       "\\begin{tabular}{r|llllllll}\n",
       " company & company\\_id & sector & headoffice\\_address & communication\\_address & market\\_cap & n\\_employee & revenue\\\\\n",
       "\\hline\n",
       "\t MICROSOFT CORP                                                               &   20601                                                                      & Software \\& Computer Services                                               & One Microsoft Way Redmond  Washington WA 98052-6399 United States            & One Microsoft Way Redmond  Washington WA 98052-6399 United States            & 1060781                                                                      &  131000                                                                      & 110360                                                                      \\\\\n",
       "\t AMAZON.COM INC                                                               &    1703                                                                      & General Retailers                                                            & 410 Terry Avenue North Seattle  Washington WA 98109-5210 United States       & 410 Terry Avenue North Seattle  Washington WA 98109-5210 United States       &  894229                                                                      &  647500                                                                      & 232887                                                                      \\\\\n",
       "\t APPLE INC (Apple Computer Inc prior to 01/2007)                              &    2355                                                                      & Information Technology Hardware                                              & One Apple Park Way Cupertino  California CA 95014 United States              & 1 Infinite Loop Cupertino  California CA 95014 United States                 &  888113                                                                      &  132000                                                                      & 265595                                                                      \\\\\n",
       "\t ALPHABET INC (Google Inc prior to 10/2015)                                   &  116351                                                                      & Software \\& Computer Services                                               & 1600 Amphitheatre Parkway Mountain View  California CA 94043 United States   & 1600 Amphitheatre Parkway Mountain View  California CA 94043 United States   &  776176                                                                      &   98771                                                                      & 136819                                                                      \\\\\n",
       "\t BERKSHIRE HATHAWAY INC                                                       &    4080                                                                      & Insurance                                                                    & 3555 Farnam Street Omaha  Nebraska NE 68131 United States                    & 3555 Farnam Street Omaha   68131 United States                               &  491060                                                                      &  389000                                                                      & 247837                                                                      \\\\\n",
       "\t FACEBOOK INC                                                                 & 1820060                                                                      & Software \\& Computer Services                                               & 1601 Willow Road Menlo Park  California CA 94025 United States               & 1601 Willow Road Menlo Park  California CA 94025 United States               &  457557                                                                      &   35587                                                                      &  55838                                                                      \\\\\n",
       "\t JPMORGAN CHASE \\& CO                                                        &   17528                                                                      & Banks                                                                        & 383 Madison Avenue   New York NY 10179-0001 United States                    & 383 Madison Avenue    10179-0001 United States                               &  354223                                                                      &  256105                                                                      & 109029                                                                      \\\\\n",
       "\t JOHNSON \\& JOHNSON                                                            &   17478                                                                        & Pharmaceuticals and Biotechnology                                              & One Johnson \\& Johnson Plaza New Brunswick  New Jersey NJ 08933 United States & One Johnson \\& Johnson Plaza New Brunswick  New Jersey NJ 08933 United States &  343247                                                                        &  135100                                                                        &  81581                                                                        \\\\\n",
       "\t WALMART INC (Wal-Mart Stores Inc prior to 02/2018)                           &   33046                                                                      & General Retailers                                                            & 702 Southwest 8th Street Bentonville  Arkansas AR 72716-0215 United States   & 702 Southwest 8th Street Bentonville  Arkansas AR 72716 United States        &  330613                                                                      & 2200000                                                                      & 514405                                                                      \\\\\n",
       "\t EXXON MOBIL CORP                                                             &   11430                                                                      & Oil \\& Gas                                                                  & 5959 Las Colinas Boulevard Irving  Texas TX 75039-2298 United States         & 5959 Las Colinas Boulevard Irving  Texas TX 75039-2298 United States         &  306311                                                                      &   71100                                                                      & 290212                                                                      \\\\\n",
       "\\end{tabular}\n"
      ],
      "text/markdown": [
       "\n",
       "| company | company_id | sector | headoffice_address | communication_address | market_cap | n_employee | revenue |\n",
       "|---|---|---|---|---|---|---|---|\n",
       "| MICROSOFT CORP                                                               |   20601                                                                      | Software & Computer Services                                                 | One Microsoft Way Redmond  Washington WA 98052-6399 United States            | One Microsoft Way Redmond  Washington WA 98052-6399 United States            | 1060781                                                                      |  131000                                                                      | 110360                                                                       |\n",
       "| AMAZON.COM INC                                                               |    1703                                                                      | General Retailers                                                            | 410 Terry Avenue North Seattle  Washington WA 98109-5210 United States       | 410 Terry Avenue North Seattle  Washington WA 98109-5210 United States       |  894229                                                                      |  647500                                                                      | 232887                                                                       |\n",
       "| APPLE INC (Apple Computer Inc prior to 01/2007)                              |    2355                                                                      | Information Technology Hardware                                              | One Apple Park Way Cupertino  California CA 95014 United States              | 1 Infinite Loop Cupertino  California CA 95014 United States                 |  888113                                                                      |  132000                                                                      | 265595                                                                       |\n",
       "| ALPHABET INC (Google Inc prior to 10/2015)                                   |  116351                                                                      | Software & Computer Services                                                 | 1600 Amphitheatre Parkway Mountain View  California CA 94043 United States   | 1600 Amphitheatre Parkway Mountain View  California CA 94043 United States   |  776176                                                                      |   98771                                                                      | 136819                                                                       |\n",
       "| BERKSHIRE HATHAWAY INC                                                       |    4080                                                                      | Insurance                                                                    | 3555 Farnam Street Omaha  Nebraska NE 68131 United States                    | 3555 Farnam Street Omaha   68131 United States                               |  491060                                                                      |  389000                                                                      | 247837                                                                       |\n",
       "| FACEBOOK INC                                                                 | 1820060                                                                      | Software & Computer Services                                                 | 1601 Willow Road Menlo Park  California CA 94025 United States               | 1601 Willow Road Menlo Park  California CA 94025 United States               |  457557                                                                      |   35587                                                                      |  55838                                                                       |\n",
       "| JPMORGAN CHASE & CO                                                          |   17528                                                                      | Banks                                                                        | 383 Madison Avenue   New York NY 10179-0001 United States                    | 383 Madison Avenue    10179-0001 United States                               |  354223                                                                      |  256105                                                                      | 109029                                                                       |\n",
       "| JOHNSON & JOHNSON                                                            |   17478                                                                      | Pharmaceuticals and Biotechnology                                            | One Johnson & Johnson Plaza New Brunswick  New Jersey NJ 08933 United States | One Johnson & Johnson Plaza New Brunswick  New Jersey NJ 08933 United States |  343247                                                                      |  135100                                                                      |  81581                                                                       |\n",
       "| WALMART INC (Wal-Mart Stores Inc prior to 02/2018)                           |   33046                                                                      | General Retailers                                                            | 702 Southwest 8th Street Bentonville  Arkansas AR 72716-0215 United States   | 702 Southwest 8th Street Bentonville  Arkansas AR 72716 United States        |  330613                                                                      | 2200000                                                                      | 514405                                                                       |\n",
       "| EXXON MOBIL CORP                                                             |   11430                                                                      | Oil & Gas                                                                    | 5959 Las Colinas Boulevard Irving  Texas TX 75039-2298 United States         | 5959 Las Colinas Boulevard Irving  Texas TX 75039-2298 United States         |  306311                                                                      |   71100                                                                      | 290212                                                                       |\n",
       "\n"
      ],
      "text/plain": [
       "   company                                            company_id\n",
       "1  MICROSOFT CORP                                       20601   \n",
       "2  AMAZON.COM INC                                        1703   \n",
       "3  APPLE INC (Apple Computer Inc prior to 01/2007)       2355   \n",
       "4  ALPHABET INC (Google Inc prior to 10/2015)          116351   \n",
       "5  BERKSHIRE HATHAWAY INC                                4080   \n",
       "6  FACEBOOK INC                                       1820060   \n",
       "7  JPMORGAN CHASE & CO                                  17528   \n",
       "8  JOHNSON & JOHNSON                                    17478   \n",
       "9  WALMART INC (Wal-Mart Stores Inc prior to 02/2018)   33046   \n",
       "10 EXXON MOBIL CORP                                     11430   \n",
       "   sector                           \n",
       "1  Software & Computer Services     \n",
       "2  General Retailers                \n",
       "3  Information Technology Hardware  \n",
       "4  Software & Computer Services     \n",
       "5  Insurance                        \n",
       "6  Software & Computer Services     \n",
       "7  Banks                            \n",
       "8  Pharmaceuticals and Biotechnology\n",
       "9  General Retailers                \n",
       "10 Oil & Gas                        \n",
       "   headoffice_address                                                          \n",
       "1  One Microsoft Way Redmond  Washington WA 98052-6399 United States           \n",
       "2  410 Terry Avenue North Seattle  Washington WA 98109-5210 United States      \n",
       "3  One Apple Park Way Cupertino  California CA 95014 United States             \n",
       "4  1600 Amphitheatre Parkway Mountain View  California CA 94043 United States  \n",
       "5  3555 Farnam Street Omaha  Nebraska NE 68131 United States                   \n",
       "6  1601 Willow Road Menlo Park  California CA 94025 United States              \n",
       "7  383 Madison Avenue   New York NY 10179-0001 United States                   \n",
       "8  One Johnson & Johnson Plaza New Brunswick  New Jersey NJ 08933 United States\n",
       "9  702 Southwest 8th Street Bentonville  Arkansas AR 72716-0215 United States  \n",
       "10 5959 Las Colinas Boulevard Irving  Texas TX 75039-2298 United States        \n",
       "   communication_address                                                       \n",
       "1  One Microsoft Way Redmond  Washington WA 98052-6399 United States           \n",
       "2  410 Terry Avenue North Seattle  Washington WA 98109-5210 United States      \n",
       "3  1 Infinite Loop Cupertino  California CA 95014 United States                \n",
       "4  1600 Amphitheatre Parkway Mountain View  California CA 94043 United States  \n",
       "5  3555 Farnam Street Omaha   68131 United States                              \n",
       "6  1601 Willow Road Menlo Park  California CA 94025 United States              \n",
       "7  383 Madison Avenue    10179-0001 United States                              \n",
       "8  One Johnson & Johnson Plaza New Brunswick  New Jersey NJ 08933 United States\n",
       "9  702 Southwest 8th Street Bentonville  Arkansas AR 72716 United States       \n",
       "10 5959 Las Colinas Boulevard Irving  Texas TX 75039-2298 United States        \n",
       "   market_cap n_employee revenue\n",
       "1  1060781     131000    110360 \n",
       "2   894229     647500    232887 \n",
       "3   888113     132000    265595 \n",
       "4   776176      98771    136819 \n",
       "5   491060     389000    247837 \n",
       "6   457557      35587     55838 \n",
       "7   354223     256105    109029 \n",
       "8   343247     135100     81581 \n",
       "9   330613    2200000    514405 \n",
       "10  306311      71100    290212 "
      ]
     },
     "metadata": {},
     "output_type": "display_data"
    }
   ],
   "source": [
    "f_firm_prof[order(-market_cap)][1:10]"
   ]
  },
  {
   "cell_type": "code",
   "execution_count": 38,
   "metadata": {
    "scrolled": true
   },
   "outputs": [
    {
     "data": {
      "text/html": [
       "<table>\n",
       "<thead><tr><th scope=col>sector</th><th scope=col>N</th></tr></thead>\n",
       "<tbody>\n",
       "\t<tr><td><span style=white-space:pre-wrap>Aerospace &amp; Defence              </span></td><td> 57                                                                          </td></tr>\n",
       "\t<tr><td><span style=white-space:pre-wrap>Automobiles &amp; Parts              </span></td><td> 77                                                                          </td></tr>\n",
       "\t<tr><td>Banks                            </td><td>854                              </td></tr>\n",
       "\t<tr><td>Beverages                        </td><td> 31                              </td></tr>\n",
       "\t<tr><td>Blank Check / Shell Companies    </td><td>123                              </td></tr>\n",
       "\t<tr><td>Business Services                </td><td>382                              </td></tr>\n",
       "\t<tr><td>Chemicals                        </td><td>178                              </td></tr>\n",
       "\t<tr><td><span style=white-space:pre-wrap>Clothing &amp; Personal Products     </span></td><td> 87                                                                          </td></tr>\n",
       "\t<tr><td>Construction &amp; Building Materials</td><td>150                                  </td></tr>\n",
       "\t<tr><td>Consumer Services                </td><td> 42                              </td></tr>\n",
       "\t<tr><td><span style=white-space:pre-wrap>Containers &amp; Packaging           </span></td><td> 27                                                                          </td></tr>\n",
       "\t<tr><td>Diversified Industrials          </td><td> 34                              </td></tr>\n",
       "\t<tr><td>Education                        </td><td> 33                              </td></tr>\n",
       "\t<tr><td>Electricity                      </td><td> 54                              </td></tr>\n",
       "\t<tr><td>Electronic &amp; Electrical Equipment</td><td>539                                  </td></tr>\n",
       "\t<tr><td><span style=white-space:pre-wrap>Engineering &amp; Machinery          </span></td><td>237                                                                          </td></tr>\n",
       "\t<tr><td><span style=white-space:pre-wrap>Food &amp; Drug Retailers            </span></td><td> 41                                                                          </td></tr>\n",
       "\t<tr><td><span style=white-space:pre-wrap>Food Producers &amp; Processors      </span></td><td>141                                                                          </td></tr>\n",
       "\t<tr><td><span style=white-space:pre-wrap>Forestry &amp; Paper                 </span></td><td> 48                                                                          </td></tr>\n",
       "\t<tr><td>General Retailers                </td><td>241                              </td></tr>\n",
       "\t<tr><td>Health                           </td><td>487                              </td></tr>\n",
       "\t<tr><td>Household Products               </td><td> 86                              </td></tr>\n",
       "\t<tr><td>Information Technology Hardware  </td><td>220                              </td></tr>\n",
       "\t<tr><td>Insurance                        </td><td>190                              </td></tr>\n",
       "\t<tr><td>Investment Companies             </td><td>201                              </td></tr>\n",
       "\t<tr><td><span style=white-space:pre-wrap>Leisure &amp; Hotels                 </span></td><td>247                                                                          </td></tr>\n",
       "\t<tr><td>Leisure Goods                    </td><td> 27                              </td></tr>\n",
       "\t<tr><td>Life Assurance                   </td><td> 14                              </td></tr>\n",
       "\t<tr><td><span style=white-space:pre-wrap>Media &amp; Entertainment            </span></td><td>170                                                                          </td></tr>\n",
       "\t<tr><td>Mining                           </td><td> 78                              </td></tr>\n",
       "\t<tr><td><span style=white-space:pre-wrap>Oil &amp; Gas                        </span></td><td>457                                                                          </td></tr>\n",
       "\t<tr><td>Pharmaceuticals and Biotechnology</td><td>777                              </td></tr>\n",
       "\t<tr><td>Private Equity                   </td><td> 23                              </td></tr>\n",
       "\t<tr><td>Publishing                       </td><td> 50                              </td></tr>\n",
       "\t<tr><td>Real Estate                      </td><td>379                              </td></tr>\n",
       "\t<tr><td>Renewable Energy                 </td><td> 66                              </td></tr>\n",
       "\t<tr><td><span style=white-space:pre-wrap>Software &amp; Computer Services     </span></td><td>569                                                                          </td></tr>\n",
       "\t<tr><td><span style=white-space:pre-wrap>Speciality &amp; Other Finance       </span></td><td>321                                                                          </td></tr>\n",
       "\t<tr><td><span style=white-space:pre-wrap>Steel &amp; Other Metals             </span></td><td> 65                                                                          </td></tr>\n",
       "\t<tr><td>Telecommunication Services       </td><td>207                              </td></tr>\n",
       "\t<tr><td>Tobacco                          </td><td> 10                              </td></tr>\n",
       "\t<tr><td>Transport                        </td><td>164                              </td></tr>\n",
       "\t<tr><td>Utilities - Other                </td><td>125                              </td></tr>\n",
       "\t<tr><td>Wholesale Trade                  </td><td> 53                              </td></tr>\n",
       "</tbody>\n",
       "</table>\n"
      ],
      "text/latex": [
       "\\begin{tabular}{r|ll}\n",
       " sector & N\\\\\n",
       "\\hline\n",
       "\t Aerospace \\& Defence               &  57                                \\\\\n",
       "\t Automobiles \\& Parts               &  77                                \\\\\n",
       "\t Banks                             & 854                              \\\\\n",
       "\t Beverages                         &  31                              \\\\\n",
       "\t Blank Check / Shell Companies     & 123                              \\\\\n",
       "\t Business Services                 & 382                              \\\\\n",
       "\t Chemicals                         & 178                              \\\\\n",
       "\t Clothing \\& Personal Products      &  87                                \\\\\n",
       "\t Construction \\& Building Materials & 150                                \\\\\n",
       "\t Consumer Services                 &  42                              \\\\\n",
       "\t Containers \\& Packaging            &  27                                \\\\\n",
       "\t Diversified Industrials           &  34                              \\\\\n",
       "\t Education                         &  33                              \\\\\n",
       "\t Electricity                       &  54                              \\\\\n",
       "\t Electronic \\& Electrical Equipment & 539                                \\\\\n",
       "\t Engineering \\& Machinery           & 237                                \\\\\n",
       "\t Food \\& Drug Retailers             &  41                                \\\\\n",
       "\t Food Producers \\& Processors       & 141                                \\\\\n",
       "\t Forestry \\& Paper                  &  48                                \\\\\n",
       "\t General Retailers                 & 241                              \\\\\n",
       "\t Health                            & 487                              \\\\\n",
       "\t Household Products                &  86                              \\\\\n",
       "\t Information Technology Hardware   & 220                              \\\\\n",
       "\t Insurance                         & 190                              \\\\\n",
       "\t Investment Companies              & 201                              \\\\\n",
       "\t Leisure \\& Hotels                  & 247                                \\\\\n",
       "\t Leisure Goods                     &  27                              \\\\\n",
       "\t Life Assurance                    &  14                              \\\\\n",
       "\t Media \\& Entertainment             & 170                                \\\\\n",
       "\t Mining                            &  78                              \\\\\n",
       "\t Oil \\& Gas                         & 457                                \\\\\n",
       "\t Pharmaceuticals and Biotechnology & 777                              \\\\\n",
       "\t Private Equity                    &  23                              \\\\\n",
       "\t Publishing                        &  50                              \\\\\n",
       "\t Real Estate                       & 379                              \\\\\n",
       "\t Renewable Energy                  &  66                              \\\\\n",
       "\t Software \\& Computer Services      & 569                                \\\\\n",
       "\t Speciality \\& Other Finance        & 321                                \\\\\n",
       "\t Steel \\& Other Metals              &  65                                \\\\\n",
       "\t Telecommunication Services        & 207                              \\\\\n",
       "\t Tobacco                           &  10                              \\\\\n",
       "\t Transport                         & 164                              \\\\\n",
       "\t Utilities - Other                 & 125                              \\\\\n",
       "\t Wholesale Trade                   &  53                              \\\\\n",
       "\\end{tabular}\n"
      ],
      "text/markdown": [
       "\n",
       "| sector | N |\n",
       "|---|---|\n",
       "| Aerospace & Defence               |  57                               |\n",
       "| Automobiles & Parts               |  77                               |\n",
       "| Banks                             | 854                               |\n",
       "| Beverages                         |  31                               |\n",
       "| Blank Check / Shell Companies     | 123                               |\n",
       "| Business Services                 | 382                               |\n",
       "| Chemicals                         | 178                               |\n",
       "| Clothing & Personal Products      |  87                               |\n",
       "| Construction & Building Materials | 150                               |\n",
       "| Consumer Services                 |  42                               |\n",
       "| Containers & Packaging            |  27                               |\n",
       "| Diversified Industrials           |  34                               |\n",
       "| Education                         |  33                               |\n",
       "| Electricity                       |  54                               |\n",
       "| Electronic & Electrical Equipment | 539                               |\n",
       "| Engineering & Machinery           | 237                               |\n",
       "| Food & Drug Retailers             |  41                               |\n",
       "| Food Producers & Processors       | 141                               |\n",
       "| Forestry & Paper                  |  48                               |\n",
       "| General Retailers                 | 241                               |\n",
       "| Health                            | 487                               |\n",
       "| Household Products                |  86                               |\n",
       "| Information Technology Hardware   | 220                               |\n",
       "| Insurance                         | 190                               |\n",
       "| Investment Companies              | 201                               |\n",
       "| Leisure & Hotels                  | 247                               |\n",
       "| Leisure Goods                     |  27                               |\n",
       "| Life Assurance                    |  14                               |\n",
       "| Media & Entertainment             | 170                               |\n",
       "| Mining                            |  78                               |\n",
       "| Oil & Gas                         | 457                               |\n",
       "| Pharmaceuticals and Biotechnology | 777                               |\n",
       "| Private Equity                    |  23                               |\n",
       "| Publishing                        |  50                               |\n",
       "| Real Estate                       | 379                               |\n",
       "| Renewable Energy                  |  66                               |\n",
       "| Software & Computer Services      | 569                               |\n",
       "| Speciality & Other Finance        | 321                               |\n",
       "| Steel & Other Metals              |  65                               |\n",
       "| Telecommunication Services        | 207                               |\n",
       "| Tobacco                           |  10                               |\n",
       "| Transport                         | 164                               |\n",
       "| Utilities - Other                 | 125                               |\n",
       "| Wholesale Trade                   |  53                               |\n",
       "\n"
      ],
      "text/plain": [
       "   sector                            N  \n",
       "1  Aerospace & Defence                57\n",
       "2  Automobiles & Parts                77\n",
       "3  Banks                             854\n",
       "4  Beverages                          31\n",
       "5  Blank Check / Shell Companies     123\n",
       "6  Business Services                 382\n",
       "7  Chemicals                         178\n",
       "8  Clothing & Personal Products       87\n",
       "9  Construction & Building Materials 150\n",
       "10 Consumer Services                  42\n",
       "11 Containers & Packaging             27\n",
       "12 Diversified Industrials            34\n",
       "13 Education                          33\n",
       "14 Electricity                        54\n",
       "15 Electronic & Electrical Equipment 539\n",
       "16 Engineering & Machinery           237\n",
       "17 Food & Drug Retailers              41\n",
       "18 Food Producers & Processors       141\n",
       "19 Forestry & Paper                   48\n",
       "20 General Retailers                 241\n",
       "21 Health                            487\n",
       "22 Household Products                 86\n",
       "23 Information Technology Hardware   220\n",
       "24 Insurance                         190\n",
       "25 Investment Companies              201\n",
       "26 Leisure & Hotels                  247\n",
       "27 Leisure Goods                      27\n",
       "28 Life Assurance                     14\n",
       "29 Media & Entertainment             170\n",
       "30 Mining                             78\n",
       "31 Oil & Gas                         457\n",
       "32 Pharmaceuticals and Biotechnology 777\n",
       "33 Private Equity                     23\n",
       "34 Publishing                         50\n",
       "35 Real Estate                       379\n",
       "36 Renewable Energy                   66\n",
       "37 Software & Computer Services      569\n",
       "38 Speciality & Other Finance        321\n",
       "39 Steel & Other Metals               65\n",
       "40 Telecommunication Services        207\n",
       "41 Tobacco                            10\n",
       "42 Transport                         164\n",
       "43 Utilities - Other                 125\n",
       "44 Wholesale Trade                    53"
      ]
     },
     "metadata": {},
     "output_type": "display_data"
    }
   ],
   "source": [
    "f_firm_prof[, table(sector)] %>% as.data.table() "
   ]
  },
  {
   "cell_type": "markdown",
   "metadata": {},
   "source": [
    "## firm_net\n",
    "\n",
    "Table `f_firm_net`\n",
    "- Network between firms. Perhapse the most import table in our analysis.\n",
    "- Each line stands for one link from the `from_company` to the `to_company`\n",
    "- Definition of company link: if one person has served both in company A and company B (not necessarily at the same time), then we say a link has be established from A to B through the person.\n",
    "- For demo of `f_firm_net` please see the end of this section\n",
    "- `from_company`: the start company of the link.\n",
    "- `from_company_id`: the unque id for the `from_company`\n",
    "- `to_company`: the end company of the link.\n",
    "- `to_company_id`: the unique id for the `to_company`. \n",
    "- `name`: the name of the individual that established the link\n",
    "- `name_id`: unique id for `name`.\n",
    "- `role_in_from_company`: the role of the individual when he/she is in the `from_company`.\n",
    "- `role_in_from_company_start_date`: the date when the individual started his/her role in the `from_company` \n",
    "- `role_in_from_company_end_date`: the date when the individual ended his/her role in the `from_company` \n",
    "- `role_in_to_company`: the role of the individual when he/she is in the `to_company`.\n",
    "- `role_in_to_company_start_date`: the date when the individual started his/her role in the `to_company` \n",
    "- `role_in_to_company_end_date`: the date when the individual ended his/her role in the `to_company`"
   ]
  },
  {
   "cell_type": "code",
   "execution_count": 11,
   "metadata": {},
   "outputs": [
    {
     "name": "stdout",
     "output_type": "stream",
     "text": [
      "-firm_net- loaded  (11.14 secs)\n"
     ]
    },
    {
     "data": {
      "text/html": [
       "<table>\n",
       "<thead><tr><th scope=col>from_company</th><th scope=col>from_company_id</th><th scope=col>to_company</th><th scope=col>to_company_id</th><th scope=col>name</th><th scope=col>name_id</th><th scope=col>role_in_from_company</th><th scope=col>role_in_from_company_start_date</th><th scope=col>role_in_from_company_end_date</th><th scope=col>role_in_to_company</th><th scope=col>role_in_to_company_start_date</th><th scope=col>role_in_to_company_end_date</th></tr></thead>\n",
       "<tbody>\n",
       "\t<tr><td>GREENHILL &amp; CO INC                </td><td>40757                                 </td><td>1 800 CONTACTS INC (De-listed 09/2007)</td><td>3                                     </td><td>Steve Key                             </td><td>59796                                 </td><td>Independent Director (Brd) (SD)       </td><td>2004-05-01                            </td><td>NA                                    </td><td>Independent Director (Brd) (SD)       </td><td>2005-07-28                            </td><td>2007-09-07                            </td></tr>\n",
       "</tbody>\n",
       "</table>\n"
      ],
      "text/latex": [
       "\\begin{tabular}{r|llllllllllll}\n",
       " from\\_company & from\\_company\\_id & to\\_company & to\\_company\\_id & name & name\\_id & role\\_in\\_from\\_company & role\\_in\\_from\\_company\\_start\\_date & role\\_in\\_from\\_company\\_end\\_date & role\\_in\\_to\\_company & role\\_in\\_to\\_company\\_start\\_date & role\\_in\\_to\\_company\\_end\\_date\\\\\n",
       "\\hline\n",
       "\t GREENHILL \\& CO INC                   & 40757                                  & 1 800 CONTACTS INC (De-listed 09/2007) & 3                                      & Steve Key                              & 59796                                  & Independent Director (Brd) (SD)        & 2004-05-01                             & NA                                     & Independent Director (Brd) (SD)        & 2005-07-28                             & 2007-09-07                            \\\\\n",
       "\\end{tabular}\n"
      ],
      "text/markdown": [
       "\n",
       "| from_company | from_company_id | to_company | to_company_id | name | name_id | role_in_from_company | role_in_from_company_start_date | role_in_from_company_end_date | role_in_to_company | role_in_to_company_start_date | role_in_to_company_end_date |\n",
       "|---|---|---|---|---|---|---|---|---|---|---|---|\n",
       "| GREENHILL & CO INC                     | 40757                                  | 1 800 CONTACTS INC (De-listed 09/2007) | 3                                      | Steve Key                              | 59796                                  | Independent Director (Brd) (SD)        | 2004-05-01                             | NA                                     | Independent Director (Brd) (SD)        | 2005-07-28                             | 2007-09-07                             |\n",
       "\n"
      ],
      "text/plain": [
       "  from_company       from_company_id to_company                            \n",
       "1 GREENHILL & CO INC 40757           1 800 CONTACTS INC (De-listed 09/2007)\n",
       "  to_company_id name      name_id role_in_from_company           \n",
       "1 3             Steve Key 59796   Independent Director (Brd) (SD)\n",
       "  role_in_from_company_start_date role_in_from_company_end_date\n",
       "1 2004-05-01                      <NA>                         \n",
       "  role_in_to_company              role_in_to_company_start_date\n",
       "1 Independent Director (Brd) (SD) 2005-07-28                   \n",
       "  role_in_to_company_end_date\n",
       "1 2007-09-07                 "
      ]
     },
     "metadata": {},
     "output_type": "display_data"
    }
   ],
   "source": [
    "ld(firm_net, force=T)\n",
    "f_firm_net = firm_net[,\n",
    "    .(from_company=boardname, from_company_id=boardid,\n",
    "      to_company=companyname, to_company_id=companyid,\n",
    "      name=directorname, name_id=directorid,\n",
    "      role_in_from_company=role,\n",
    "      role_in_from_company_start_date=startcompanydatestartrole,\n",
    "      role_in_from_company_end_date=startcompanydateendrole,\n",
    "      role_in_to_company=associatedrole,\n",
    "      role_in_to_company_start_date=conncompanydatestartrole,\n",
    "      role_in_to_company_end_date=conncompanydateendrole)] %>%\n",
    "    unique()\n",
    "fwrite(f_firm_net, './data/f_firm_net.csv')\n",
    "# sv(f_firm_net)\n",
    "f_firm_net[1]"
   ]
  }
 ],
 "metadata": {
  "kernelspec": {
   "display_name": "MRO-3.5.3",
   "language": "R",
   "name": "ir353"
  },
  "language_info": {
   "codemirror_mode": "r",
   "file_extension": ".r",
   "mimetype": "text/x-r-source",
   "name": "R",
   "pygments_lexer": "r",
   "version": "3.5.3"
  },
  "toc-autonumbering": true
 },
 "nbformat": 4,
 "nbformat_minor": 4
}
