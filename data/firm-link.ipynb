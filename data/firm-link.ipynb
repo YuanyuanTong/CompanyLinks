{
 "cells": [
  {
   "cell_type": "markdown",
   "metadata": {},
   "source": [
    "# Init"
   ]
  },
  {
   "cell_type": "code",
   "execution_count": 200,
   "metadata": {},
   "outputs": [],
   "source": [
    "# data_dir\n",
    "DATA_DIR = \"./data\"\n",
    "\n",
    "# create connection\n",
    "library(RPostgres)\n",
    "wrds <- dbConnect(Postgres(),\n",
    "                  host='wrds-pgdata.wharton.upenn.edu',\n",
    "                  port=9737,\n",
    "                  dbname='wrds',\n",
    "                  sslmode='require',\n",
    "                  user='xiaomowu',\n",
    "                  password='SLCyz2018')"
   ]
  },
  {
   "cell_type": "markdown",
   "metadata": {
    "toc-hr-collapsed": false
   },
   "source": [
    "# WRDS"
   ]
  },
  {
   "cell_type": "markdown",
   "metadata": {},
   "source": [
    "## ind-profile\n",
    "\n",
    "402,835 obs\n",
    "\n",
    "Contains variables such as `gender`, `dob`, `nationality`..."
   ]
  },
  {
   "cell_type": "code",
   "execution_count": 207,
   "metadata": {},
   "outputs": [
    {
     "name": "stdout",
     "output_type": "stream",
     "text": [
      "-individual_prof- saved  (5.95 secs)\n"
     ]
    }
   ],
   "source": [
    "library = 'boardex'\n",
    "dataset = 'na_dir_profile_details' # individual profiles\n",
    "\n",
    "res <- dbSendQuery(wrds, sprintf(\"select * from %s.%s\", library, dataset))\n",
    "individual_prof <- dbFetch(res, n=-1) %>% setDT()\n",
    "dbClearResult(res)\n",
    "sv(individual_prof, path='.')"
   ]
  },
  {
   "cell_type": "markdown",
   "metadata": {},
   "source": [
    "## ind-edu\n",
    "\n",
    "1,341,622 obs"
   ]
  },
  {
   "cell_type": "code",
   "execution_count": 9,
   "metadata": {},
   "outputs": [
    {
     "name": "stdout",
     "output_type": "stream",
     "text": [
      "-individual_edu- saved  (6.68 secs)\n"
     ]
    }
   ],
   "source": [
    "library = 'boardex'\n",
    "dataset = 'na_dir_profile_education' # individual education\n",
    "\n",
    "res <- dbSendQuery(wrds, sprintf(\"select * from %s.%s\", library, dataset))\n",
    "individual_edu <- dbFetch(res, n=-1) %>% setDT()\n",
    "dbClearResult(res)\n",
    "sv(individual_edu)"
   ]
  },
  {
   "cell_type": "markdown",
   "metadata": {},
   "source": [
    "## ind-emp\n",
    "\n",
    "6,302,551 obs\n",
    "\n",
    "Contains \"which persons have served in the focal company\""
   ]
  },
  {
   "cell_type": "code",
   "execution_count": 12,
   "metadata": {},
   "outputs": [
    {
     "name": "stdout",
     "output_type": "stream",
     "text": [
      "-individual_emp- saved  (47.63 secs)\n"
     ]
    }
   ],
   "source": [
    "library = 'boardex'\n",
    "dataset = 'na_wrds_dir_profile_emp' # individual education\n",
    "\n",
    "res <- dbSendQuery(wrds, sprintf(\"select * from %s.%s\", library, dataset))\n",
    "individual_emp <- dbFetch(res, n=-1) %>% setDT()\n",
    "dbClearResult(res)\n",
    "sv(individual_emp)"
   ]
  },
  {
   "cell_type": "markdown",
   "metadata": {},
   "source": [
    "## firm-profile\n",
    "\n",
    "919,051 obs\n",
    "\n",
    "Which contains `firm-id` and its `ticker`"
   ]
  },
  {
   "cell_type": "code",
   "execution_count": 2,
   "metadata": {},
   "outputs": [
    {
     "name": "stdout",
     "output_type": "stream",
     "text": [
      "-firm_prof_from_boardex- saved  (6.06 secs)\n"
     ]
    }
   ],
   "source": [
    "library = 'boardex'\n",
    "dataset = 'na_wrds_company_profile' # individual education\n",
    "\n",
    "res <- dbSendQuery(wrds, sprintf(\"select * from %s.%s\", library, dataset))\n",
    "firm_prof_from_boardex <- dbFetch(res, n=-1) %>% setDT()\n",
    "dbClearResult(res)\n",
    "sv(firm_prof_from_boardex)"
   ]
  },
  {
   "cell_type": "code",
   "execution_count": null,
   "metadata": {},
   "outputs": [],
   "source": [
    "library = 'crspa'\n",
    "dataset = 'msf' # individual education\n",
    "\n",
    "res <- dbSendQuery(wrds, sprintf(\"select * from %s.%s\", library, dataset))\n",
    "firm_prof_from_crsp <- dbFetch(res, n=-1) %>% setDT()\n",
    "dbClearResult(res)\n",
    "sv(firm_prof_from_crsp)"
   ]
  },
  {
   "cell_type": "markdown",
   "metadata": {},
   "source": [
    "## firm-net\n",
    "\n",
    "3,631,160 obs"
   ]
  },
  {
   "cell_type": "code",
   "execution_count": 4,
   "metadata": {},
   "outputs": [
    {
     "name": "stdout",
     "output_type": "stream",
     "text": [
      "-firm_net- saved  (38.16 secs)\n"
     ]
    }
   ],
   "source": [
    "library = 'boardex'\n",
    "dataset = 'na_wrds_company_networks' # individual education\n",
    "\n",
    "res <- dbSendQuery(wrds, sprintf(\"select * from %s.%s\", library, dataset))\n",
    "firm_net <- dbFetch(res, n=-1) %>% setDT()\n",
    "dbClearResult(res)\n",
    "sv(firm_net)"
   ]
  },
  {
   "cell_type": "markdown",
   "metadata": {},
   "source": [
    "## ind-net (dep)\n",
    "\n",
    "Didn't use, because it's too large (806,646,080 obs) "
   ]
  },
  {
   "cell_type": "code",
   "execution_count": null,
   "metadata": {},
   "outputs": [],
   "source": [
    "library = 'boardex'\n",
    "dataset = 'na_wrds_individual_networks' # individual education\n",
    "\n",
    "res <- dbSendQuery(wrds, sprintf(\"select * from %s.%s\", library, dataset))\n",
    "individual_net <- dbFetch(res, n=-1) %>% setDT()\n",
    "dbClearResult(res)\n",
    "sv(individual_net)"
   ]
  },
  {
   "cell_type": "markdown",
   "metadata": {},
   "source": [
    "# Clean"
   ]
  },
  {
   "cell_type": "markdown",
   "metadata": {},
   "source": [
    "## ind_prof\n",
    "\n",
    "Table `f_ind_prof`\n",
    "- The profiles of the individuals that we may use. Each person has one exact observation. Note that we may not use all of them.\n",
    "- For demo of `f_ind_prof` please see the end of this section\n",
    "- `name`: the name of the individual\n",
    "- `name_id`: unique id for that individual\n",
    "- `dob`: date of birth\n",
    "- `dod`: date of death\n",
    "- `age`: the age given by the database. Seems to be calcualted by 2015.\n",
    "- `gender`: the gender of the individual\n",
    "- `nationality`: nationality of the individual"
   ]
  },
  {
   "cell_type": "code",
   "execution_count": 208,
   "metadata": {},
   "outputs": [
    {
     "name": "stdout",
     "output_type": "stream",
     "text": [
      "-individual_prof- loaded  (3.07 secs)\n"
     ]
    }
   ],
   "source": [
    "ld(individual_prof, force=T, path='.')"
   ]
  },
  {
   "cell_type": "code",
   "execution_count": 210,
   "metadata": {},
   "outputs": [
    {
     "data": {
      "text/html": [
       "<table>\n",
       "<thead><tr><th scope=col>name</th><th scope=col>name_id</th><th scope=col>dob</th><th scope=col>dod</th><th scope=col>age</th><th scope=col>gender</th><th scope=col>nationality</th></tr></thead>\n",
       "<tbody>\n",
       "\t<tr><td>David Shaw </td><td>16         </td><td>22 Apr 1951</td><td>n.a.       </td><td>72         </td><td>M          </td><td>American   </td></tr>\n",
       "</tbody>\n",
       "</table>\n"
      ],
      "text/latex": [
       "\\begin{tabular}{r|lllllll}\n",
       " name & name\\_id & dob & dod & age & gender & nationality\\\\\n",
       "\\hline\n",
       "\t David Shaw  & 16          & 22 Apr 1951 & n.a.        & 72          & M           & American   \\\\\n",
       "\\end{tabular}\n"
      ],
      "text/markdown": [
       "\n",
       "| name | name_id | dob | dod | age | gender | nationality |\n",
       "|---|---|---|---|---|---|---|\n",
       "| David Shaw  | 16          | 22 Apr 1951 | n.a.        | 72          | M           | American    |\n",
       "\n"
      ],
      "text/plain": [
       "  name       name_id dob         dod  age gender nationality\n",
       "1 David Shaw 16      22 Apr 1951 n.a. 72  M      American   "
      ]
     },
     "metadata": {},
     "output_type": "display_data"
    },
    {
     "name": "stdout",
     "output_type": "stream",
     "text": [
      "-f_ind_prof- saved  (2.96 secs)\n"
     ]
    }
   ],
   "source": [
    "f_ind_prof = individual_prof[, \n",
    "    .(name=directorname, name_id=directorid, \n",
    "      dob=dob,\n",
    "      dod=dod, \n",
    "      age=as.integer(age)+4, gender=gender,\n",
    "      nationality=nationality)] %>%\n",
    "    unique()\n",
    "f_ind_prof[1]\n",
    "sv(f_ind_prof, path='.')\n",
    "# fwrite(f_ind_prof, './data/f_ind_prof.csv')"
   ]
  },
  {
   "cell_type": "markdown",
   "metadata": {},
   "source": [
    "## ind_edu\n",
    "\n",
    "Table `f_ind_edu`\n",
    "- Education of the individuals that we may use. Each person may have MULTIPLE observations, if they receive education from multiple institutions. Note that we may not use all of them.\n",
    "- For demo of `f_ind_edu` please see the end of this section\n",
    "- `name`: the name of the individual\n",
    "- `name_id`: unique id for that individual\n",
    "- `edu_type`: type of education. Could be \"Education\" or \"Professional Qualifications\"\n",
    "- `university`: the institution the individual receive education from. \n",
    "- `university_id`: the unique id for each `university`\n",
    "- `qualification`: the type of qualificatoin, e.g. BA, PhD... \n",
    "- `award_date`: the date to be awarded the qualification."
   ]
  },
  {
   "cell_type": "code",
   "execution_count": 6,
   "metadata": {},
   "outputs": [
    {
     "name": "stdout",
     "output_type": "stream",
     "text": [
      "-individual_edu- loaded  (1.64 secs)\n"
     ]
    },
    {
     "data": {
      "text/html": [
       "<table>\n",
       "<thead><tr><th scope=col>name</th><th scope=col>name_id</th><th scope=col>edu_type</th><th scope=col>university</th><th scope=col>university_id</th><th scope=col>qualification</th><th scope=col>award_date</th></tr></thead>\n",
       "<tbody>\n",
       "\t<tr><td>David Shaw                 </td><td>16                         </td><td>Education                  </td><td>University of New Hampshire</td><td>62520                      </td><td>BA                         </td><td>1973-01-01                 </td></tr>\n",
       "</tbody>\n",
       "</table>\n"
      ],
      "text/latex": [
       "\\begin{tabular}{r|lllllll}\n",
       " name & name\\_id & edu\\_type & university & university\\_id & qualification & award\\_date\\\\\n",
       "\\hline\n",
       "\t David Shaw                  & 16                          & Education                   & University of New Hampshire & 62520                       & BA                          & 1973-01-01                 \\\\\n",
       "\\end{tabular}\n"
      ],
      "text/markdown": [
       "\n",
       "| name | name_id | edu_type | university | university_id | qualification | award_date |\n",
       "|---|---|---|---|---|---|---|\n",
       "| David Shaw                  | 16                          | Education                   | University of New Hampshire | 62520                       | BA                          | 1973-01-01                  |\n",
       "\n"
      ],
      "text/plain": [
       "  name       name_id edu_type  university                  university_id\n",
       "1 David Shaw 16      Education University of New Hampshire 62520        \n",
       "  qualification award_date\n",
       "1 BA            1973-01-01"
      ]
     },
     "metadata": {},
     "output_type": "display_data"
    }
   ],
   "source": [
    "ld(individual_edu, force=T)\n",
    "f_ind_edu = individual_edu[,\n",
    "    .(name=directorname, name_id=directorid, edu_type=rowtype,\n",
    "      university=companyname, university_id=companyid,\n",
    "      qualification=qualification, award_date=awarddate)] %>%\n",
    "    unique()\n",
    "f_ind_edu[1]\n",
    "fwrite(f_ind_edu, './data/f_ind_edu.csv')"
   ]
  },
  {
   "cell_type": "code",
   "execution_count": 7,
   "metadata": {},
   "outputs": [
    {
     "name": "stdout",
     "output_type": "stream",
     "text": [
      "-f_ind_edu- loaded  (6.02 secs)\n"
     ]
    }
   ],
   "source": [
    "ld(f_ind_edu)"
   ]
  },
  {
   "cell_type": "code",
   "execution_count": 11,
   "metadata": {
    "scrolled": true
   },
   "outputs": [
    {
     "data": {
      "text/html": [
       "32440"
      ],
      "text/latex": [
       "32440"
      ],
      "text/markdown": [
       "32440"
      ],
      "text/plain": [
       "[1] 32440"
      ]
     },
     "metadata": {},
     "output_type": "display_data"
    },
    {
     "data": {
      "text/html": [
       "<table>\n",
       "<thead><tr><th scope=col>university</th><th scope=col>N</th></tr></thead>\n",
       "<tbody>\n",
       "\t<tr><td>American Institute of Certified Public Accountants (AICPA)</td><td>44398                                                     </td></tr>\n",
       "\t<tr><td>Unknown Organisation                                      </td><td>20290                                                     </td></tr>\n",
       "\t<tr><td>Harvard Business School                                   </td><td>14617                                                     </td></tr>\n",
       "\t<tr><td>Stanford University                                       </td><td>12736                                                     </td></tr>\n",
       "\t<tr><td>Wharton School University of Pennsylvania                 </td><td>12726                                                     </td></tr>\n",
       "\t<tr><td>Harvard University                                        </td><td>10956                                                     </td></tr>\n",
       "\t<tr><td>University of Michigan                                    </td><td> 9955                                                     </td></tr>\n",
       "\t<tr><td>University of California Berkeley                         </td><td> 8730                                                     </td></tr>\n",
       "\t<tr><td>Cornell University                                        </td><td> 8693                                                     </td></tr>\n",
       "\t<tr><td>University of Texas at Austin                             </td><td> 8024                                                     </td></tr>\n",
       "\t<tr><td>Columbia University                                       </td><td> 7972                                                     </td></tr>\n",
       "\t<tr><td>Massachusetts Institute of Technology (MIT)               </td><td> 7520                                                     </td></tr>\n",
       "\t<tr><td>Yale University                                           </td><td> 7067                                                     </td></tr>\n",
       "\t<tr><td>University of Pennsylvania                                </td><td> 7011                                                     </td></tr>\n",
       "\t<tr><td>Harvard Law School                                        </td><td> 6992                                                     </td></tr>\n",
       "\t<tr><td>University of California Los Angeles (UCLA)               </td><td> 6979                                                     </td></tr>\n",
       "\t<tr><td>Kellogg School of Management Northwestern University      </td><td> 6614                                                     </td></tr>\n",
       "\t<tr><td>New York University (NYU)                                 </td><td> 6557                                                     </td></tr>\n",
       "\t<tr><td>University of Virginia                                    </td><td> 6225                                                     </td></tr>\n",
       "\t<tr><td>Pennsylvania State University (Penn State University)     </td><td> 6002                                                     </td></tr>\n",
       "\t<tr><td>Duke University                                           </td><td> 5964                                                     </td></tr>\n",
       "\t<tr><td>University of Southern California (USC)                   </td><td> 5848                                                     </td></tr>\n",
       "\t<tr><td>Princeton University                                      </td><td> 5797                                                     </td></tr>\n",
       "\t<tr><td>University of Toronto                                     </td><td> 5730                                                     </td></tr>\n",
       "\t<tr><td>Institute of Chartered Financial Analysts (ICFA) (USA)    </td><td> 5698                                                     </td></tr>\n",
       "\t<tr><td>University of Ntre Dame                                   </td><td> 5396                                                     </td></tr>\n",
       "\t<tr><td>Northwestern University                                   </td><td> 5330                                                     </td></tr>\n",
       "\t<tr><td>Georgetown University                                     </td><td> 5283                                                     </td></tr>\n",
       "\t<tr><td>New York University School of Law                         </td><td> 5263                                                     </td></tr>\n",
       "\t<tr><td>University of Chicago                                     </td><td> 5195                                                     </td></tr>\n",
       "\t<tr><td>University of Florida                                     </td><td> 5108                                                     </td></tr>\n",
       "\t<tr><td>McGill University (Canada)                                </td><td> 4965                                                     </td></tr>\n",
       "\t<tr><td><span style=white-space:pre-wrap>Texas A&amp;M University                                      </span></td><td> 4773                                                                                                 </td></tr>\n",
       "\t<tr><td>University of Illinois (UIC)                              </td><td> 4628                                                     </td></tr>\n",
       "\t<tr><td>George Washington University                              </td><td> 4615                                                     </td></tr>\n",
       "\t<tr><td>Boston University                                         </td><td> 4550                                                     </td></tr>\n",
       "\t<tr><td>Ohio State University (OSU)                               </td><td> 4481                                                     </td></tr>\n",
       "\t<tr><td>Michigan State University (MSU)                           </td><td> 4414                                                     </td></tr>\n",
       "\t<tr><td>Dartmouth College                                         </td><td> 4319                                                     </td></tr>\n",
       "\t<tr><td>University of Maryland College Park                       </td><td> 4236                                                     </td></tr>\n",
       "\t<tr><td>University of Minnesota                                   </td><td> 4233                                                     </td></tr>\n",
       "\t<tr><td>University of Wisconsin-Madison                           </td><td> 4178                                                     </td></tr>\n",
       "\t<tr><td>Purdue University                                         </td><td> 4141                                                     </td></tr>\n",
       "\t<tr><td>Stanford University Graduate School of Business           </td><td> 4113                                                     </td></tr>\n",
       "\t<tr><td>University of Washington                                  </td><td> 4029                                                     </td></tr>\n",
       "\t<tr><td>University of British Columbia (UBC)                      </td><td> 3944                                                     </td></tr>\n",
       "\t<tr><td>Queen's University                                        </td><td> 3901                                                     </td></tr>\n",
       "\t<tr><td>Boston College                                            </td><td> 3824                                                     </td></tr>\n",
       "\t<tr><td>Brigham Young University                                  </td><td> 3804                                                     </td></tr>\n",
       "\t<tr><td>Brown University                                          </td><td> 3793                                                     </td></tr>\n",
       "\t<tr><td>...</td><td>...</td></tr>\n",
       "\t<tr><td>Young Professionals Group (YPG)                                                                                </td><td>1                                                                                                              </td></tr>\n",
       "\t<tr><td>Young Scientist University (YSU)                                                                               </td><td>1                                                                                                              </td></tr>\n",
       "\t<tr><td>Youngjin College                                                                                               </td><td>1                                                                                                              </td></tr>\n",
       "\t<tr><td>Youth Leadership Sarasota County                                                                               </td><td>1                                                                                                              </td></tr>\n",
       "\t<tr><td>YOW Canada Inc                                                                                                 </td><td>1                                                                                                              </td></tr>\n",
       "\t<tr><td>Yrkeshgskolan Arcada (University of Applied Sciences Arcada)                                                   </td><td>1                                                                                                              </td></tr>\n",
       "\t<tr><td>Yuan Chi University School of Economics                                                                        </td><td>1                                                                                                              </td></tr>\n",
       "\t<tr><td>Yuba Junior College                                                                                            </td><td>1                                                                                                              </td></tr>\n",
       "\t<tr><td>Yuet Wah College                                                                                               </td><td>1                                                                                                              </td></tr>\n",
       "\t<tr><td>Yukon Public Schools (YPS)                                                                                     </td><td>1                                                                                                              </td></tr>\n",
       "\t<tr><td>Yunnan Normal University                                                                                       </td><td>1                                                                                                              </td></tr>\n",
       "\t<tr><td>YWCA of Greater Cincinnati                                                                                     </td><td>1                                                                                                              </td></tr>\n",
       "\t<tr><td>Zahret El- Ihsan                                                                                               </td><td>1                                                                                                              </td></tr>\n",
       "\t<tr><td>Zakir Husain College of Engineering and Technology (ZHCET)                                                     </td><td>1                                                                                                              </td></tr>\n",
       "\t<tr><td><span style=white-space:pre-wrap>Zambia Institute of Banking &amp; Financial Services (ZIBFS)                                                       </span></td><td>1                                                                                                                                                          </td></tr>\n",
       "\t<tr><td>Zambia Institute of Chartered Accountants                                                                      </td><td>1                                                                                                              </td></tr>\n",
       "\t<tr><td>Zane State College                                                                                             </td><td>1                                                                                                              </td></tr>\n",
       "\t<tr><td>Zanesville High School                                                                                         </td><td>1                                                                                                              </td></tr>\n",
       "\t<tr><td>Zaporozhye State University (ZSU)                                                                              </td><td>1                                                                                                              </td></tr>\n",
       "\t<tr><td>Zaragoza Logistics Center (ZLC)                                                                                </td><td>1                                                                                                              </td></tr>\n",
       "\t<tr><td>Zayed Military College                                                                                         </td><td>1                                                                                                              </td></tr>\n",
       "\t<tr><td>zel St Georg Avusturya Lisesi Ve Ticaret Okulu                                                                 </td><td>1                                                                                                              </td></tr>\n",
       "\t<tr><td>Zend Technologies Inc                                                                                          </td><td>1                                                                                                              </td></tr>\n",
       "\t<tr><td>Zenger Folkman Inc                                                                                             </td><td>1                                                                                                              </td></tr>\n",
       "\t<tr><td>Zeus Technology Ltd                                                                                            </td><td>1                                                                                                              </td></tr>\n",
       "\t<tr><td>ZfU-International Business School                                                                              </td><td>1                                                                                                              </td></tr>\n",
       "\t<tr><td>ZHAW School of Management and Law (SML)                                                                        </td><td>1                                                                                                              </td></tr>\n",
       "\t<tr><td><span style=white-space:pre-wrap>Zhejiang Finance &amp; Economics Institute                                                                         </span></td><td>1                                                                                                                                                          </td></tr>\n",
       "\t<tr><td>Zhejiang Financial College (Formerly known as Zhejiang Banking College)                                        </td><td>1                                                                                                              </td></tr>\n",
       "\t<tr><td>Zhejiang Gongshang University (ZJGSU)                                                                          </td><td>1                                                                                                              </td></tr>\n",
       "\t<tr><td>Zhejiang Provincial Government School                                                                          </td><td>1                                                                                                              </td></tr>\n",
       "\t<tr><td><span style=white-space:pre-wrap>Zhejiang Radio &amp; TV University                                                                                 </span></td><td>1                                                                                                                                                          </td></tr>\n",
       "\t<tr><td>Zhejiang Sci-Tech University (ZSTU) (Zhejiang Engineering College prior to 05/2004)                            </td><td>1                                                                                                              </td></tr>\n",
       "\t<tr><td>Zhejiang University of Finance and Economics (ZUFE)                                                            </td><td>1                                                                                                              </td></tr>\n",
       "\t<tr><td>Zhejiang University School of Medicine (ZUSM)                                                                  </td><td>1                                                                                                              </td></tr>\n",
       "\t<tr><td>Zhengzhou Institute of Technology                                                                              </td><td>1                                                                                                              </td></tr>\n",
       "\t<tr><td>Zhengzhou University of Aeronautics (Formerly known as Zhengzhou Institute of Aeronautical Industry Management)</td><td>1                                                                                                              </td></tr>\n",
       "\t<tr><td>Zhi Shan Industrial Technical College                                                                          </td><td>1                                                                                                              </td></tr>\n",
       "\t<tr><td>Zhong-Nan University                                                                                           </td><td>1                                                                                                              </td></tr>\n",
       "\t<tr><td>Zhongzhou University                                                                                           </td><td>1                                                                                                              </td></tr>\n",
       "\t<tr><td>Ziglar Inc                                                                                                     </td><td>1                                                                                                              </td></tr>\n",
       "\t<tr><td>Zik Institute of Commerce Onitsha                                                                              </td><td>1                                                                                                              </td></tr>\n",
       "\t<tr><td>Zimmer Institute                                                                                               </td><td>1                                                                                                              </td></tr>\n",
       "\t<tr><td>Zoe Christian Fellowship of Whittier                                                                           </td><td>1                                                                                                              </td></tr>\n",
       "\t<tr><td>Zrcher Hochschule der Knste (ZHdK)                                                                             </td><td>1                                                                                                              </td></tr>\n",
       "\t<tr><td>Zrich Law School                                                                                               </td><td>1                                                                                                              </td></tr>\n",
       "\t<tr><td>Zuleka Coaching and Consulting Services (Pty) Ltd                                                              </td><td>1                                                                                                              </td></tr>\n",
       "\t<tr><td>Zurich International School                                                                                    </td><td>1                                                                                                              </td></tr>\n",
       "\t<tr><td>Zurich Management School                                                                                       </td><td>1                                                                                                              </td></tr>\n",
       "\t<tr><td>Zurich Services Corporation                                                                                    </td><td>1                                                                                                              </td></tr>\n",
       "</tbody>\n",
       "</table>\n"
      ],
      "text/latex": [
       "\\begin{tabular}{r|ll}\n",
       " university & N\\\\\n",
       "\\hline\n",
       "\t American Institute of Certified Public Accountants (AICPA) & 44398                                                     \\\\\n",
       "\t Unknown Organisation                                       & 20290                                                     \\\\\n",
       "\t Harvard Business School                                    & 14617                                                     \\\\\n",
       "\t Stanford University                                        & 12736                                                     \\\\\n",
       "\t Wharton School University of Pennsylvania                  & 12726                                                     \\\\\n",
       "\t Harvard University                                         & 10956                                                     \\\\\n",
       "\t University of Michigan                                     &  9955                                                     \\\\\n",
       "\t University of California Berkeley                          &  8730                                                     \\\\\n",
       "\t Cornell University                                         &  8693                                                     \\\\\n",
       "\t University of Texas at Austin                              &  8024                                                     \\\\\n",
       "\t Columbia University                                        &  7972                                                     \\\\\n",
       "\t Massachusetts Institute of Technology (MIT)                &  7520                                                     \\\\\n",
       "\t Yale University                                            &  7067                                                     \\\\\n",
       "\t University of Pennsylvania                                 &  7011                                                     \\\\\n",
       "\t Harvard Law School                                         &  6992                                                     \\\\\n",
       "\t University of California Los Angeles (UCLA)                &  6979                                                     \\\\\n",
       "\t Kellogg School of Management Northwestern University       &  6614                                                     \\\\\n",
       "\t New York University (NYU)                                  &  6557                                                     \\\\\n",
       "\t University of Virginia                                     &  6225                                                     \\\\\n",
       "\t Pennsylvania State University (Penn State University)      &  6002                                                     \\\\\n",
       "\t Duke University                                            &  5964                                                     \\\\\n",
       "\t University of Southern California (USC)                    &  5848                                                     \\\\\n",
       "\t Princeton University                                       &  5797                                                     \\\\\n",
       "\t University of Toronto                                      &  5730                                                     \\\\\n",
       "\t Institute of Chartered Financial Analysts (ICFA) (USA)     &  5698                                                     \\\\\n",
       "\t University of Ntre Dame                                    &  5396                                                     \\\\\n",
       "\t Northwestern University                                    &  5330                                                     \\\\\n",
       "\t Georgetown University                                      &  5283                                                     \\\\\n",
       "\t New York University School of Law                          &  5263                                                     \\\\\n",
       "\t University of Chicago                                      &  5195                                                     \\\\\n",
       "\t University of Florida                                      &  5108                                                     \\\\\n",
       "\t McGill University (Canada)                                 &  4965                                                     \\\\\n",
       "\t Texas A\\&M University                                       &  4773                                                       \\\\\n",
       "\t University of Illinois (UIC)                               &  4628                                                     \\\\\n",
       "\t George Washington University                               &  4615                                                     \\\\\n",
       "\t Boston University                                          &  4550                                                     \\\\\n",
       "\t Ohio State University (OSU)                                &  4481                                                     \\\\\n",
       "\t Michigan State University (MSU)                            &  4414                                                     \\\\\n",
       "\t Dartmouth College                                          &  4319                                                     \\\\\n",
       "\t University of Maryland College Park                        &  4236                                                     \\\\\n",
       "\t University of Minnesota                                    &  4233                                                     \\\\\n",
       "\t University of Wisconsin-Madison                            &  4178                                                     \\\\\n",
       "\t Purdue University                                          &  4141                                                     \\\\\n",
       "\t Stanford University Graduate School of Business            &  4113                                                     \\\\\n",
       "\t University of Washington                                   &  4029                                                     \\\\\n",
       "\t University of British Columbia (UBC)                       &  3944                                                     \\\\\n",
       "\t Queen's University                                         &  3901                                                     \\\\\n",
       "\t Boston College                                             &  3824                                                     \\\\\n",
       "\t Brigham Young University                                   &  3804                                                     \\\\\n",
       "\t Brown University                                           &  3793                                                     \\\\\n",
       "\t ... & ...\\\\\n",
       "\t Young Professionals Group (YPG)                                                                                 & 1                                                                                                              \\\\\n",
       "\t Young Scientist University (YSU)                                                                                & 1                                                                                                              \\\\\n",
       "\t Youngjin College                                                                                                & 1                                                                                                              \\\\\n",
       "\t Youth Leadership Sarasota County                                                                                & 1                                                                                                              \\\\\n",
       "\t YOW Canada Inc                                                                                                  & 1                                                                                                              \\\\\n",
       "\t Yrkeshgskolan Arcada (University of Applied Sciences Arcada)                                                    & 1                                                                                                              \\\\\n",
       "\t Yuan Chi University School of Economics                                                                         & 1                                                                                                              \\\\\n",
       "\t Yuba Junior College                                                                                             & 1                                                                                                              \\\\\n",
       "\t Yuet Wah College                                                                                                & 1                                                                                                              \\\\\n",
       "\t Yukon Public Schools (YPS)                                                                                      & 1                                                                                                              \\\\\n",
       "\t Yunnan Normal University                                                                                        & 1                                                                                                              \\\\\n",
       "\t YWCA of Greater Cincinnati                                                                                      & 1                                                                                                              \\\\\n",
       "\t Zahret El- Ihsan                                                                                                & 1                                                                                                              \\\\\n",
       "\t Zakir Husain College of Engineering and Technology (ZHCET)                                                      & 1                                                                                                              \\\\\n",
       "\t Zambia Institute of Banking \\& Financial Services (ZIBFS)                                                        & 1                                                                                                                \\\\\n",
       "\t Zambia Institute of Chartered Accountants                                                                       & 1                                                                                                              \\\\\n",
       "\t Zane State College                                                                                              & 1                                                                                                              \\\\\n",
       "\t Zanesville High School                                                                                          & 1                                                                                                              \\\\\n",
       "\t Zaporozhye State University (ZSU)                                                                               & 1                                                                                                              \\\\\n",
       "\t Zaragoza Logistics Center (ZLC)                                                                                 & 1                                                                                                              \\\\\n",
       "\t Zayed Military College                                                                                          & 1                                                                                                              \\\\\n",
       "\t zel St Georg Avusturya Lisesi Ve Ticaret Okulu                                                                  & 1                                                                                                              \\\\\n",
       "\t Zend Technologies Inc                                                                                           & 1                                                                                                              \\\\\n",
       "\t Zenger Folkman Inc                                                                                              & 1                                                                                                              \\\\\n",
       "\t Zeus Technology Ltd                                                                                             & 1                                                                                                              \\\\\n",
       "\t ZfU-International Business School                                                                               & 1                                                                                                              \\\\\n",
       "\t ZHAW School of Management and Law (SML)                                                                         & 1                                                                                                              \\\\\n",
       "\t Zhejiang Finance \\& Economics Institute                                                                          & 1                                                                                                                \\\\\n",
       "\t Zhejiang Financial College (Formerly known as Zhejiang Banking College)                                         & 1                                                                                                              \\\\\n",
       "\t Zhejiang Gongshang University (ZJGSU)                                                                           & 1                                                                                                              \\\\\n",
       "\t Zhejiang Provincial Government School                                                                           & 1                                                                                                              \\\\\n",
       "\t Zhejiang Radio \\& TV University                                                                                  & 1                                                                                                                \\\\\n",
       "\t Zhejiang Sci-Tech University (ZSTU) (Zhejiang Engineering College prior to 05/2004)                             & 1                                                                                                              \\\\\n",
       "\t Zhejiang University of Finance and Economics (ZUFE)                                                             & 1                                                                                                              \\\\\n",
       "\t Zhejiang University School of Medicine (ZUSM)                                                                   & 1                                                                                                              \\\\\n",
       "\t Zhengzhou Institute of Technology                                                                               & 1                                                                                                              \\\\\n",
       "\t Zhengzhou University of Aeronautics (Formerly known as Zhengzhou Institute of Aeronautical Industry Management) & 1                                                                                                              \\\\\n",
       "\t Zhi Shan Industrial Technical College                                                                           & 1                                                                                                              \\\\\n",
       "\t Zhong-Nan University                                                                                            & 1                                                                                                              \\\\\n",
       "\t Zhongzhou University                                                                                            & 1                                                                                                              \\\\\n",
       "\t Ziglar Inc                                                                                                      & 1                                                                                                              \\\\\n",
       "\t Zik Institute of Commerce Onitsha                                                                               & 1                                                                                                              \\\\\n",
       "\t Zimmer Institute                                                                                                & 1                                                                                                              \\\\\n",
       "\t Zoe Christian Fellowship of Whittier                                                                            & 1                                                                                                              \\\\\n",
       "\t Zrcher Hochschule der Knste (ZHdK)                                                                              & 1                                                                                                              \\\\\n",
       "\t Zrich Law School                                                                                                & 1                                                                                                              \\\\\n",
       "\t Zuleka Coaching and Consulting Services (Pty) Ltd                                                               & 1                                                                                                              \\\\\n",
       "\t Zurich International School                                                                                     & 1                                                                                                              \\\\\n",
       "\t Zurich Management School                                                                                        & 1                                                                                                              \\\\\n",
       "\t Zurich Services Corporation                                                                                     & 1                                                                                                              \\\\\n",
       "\\end{tabular}\n"
      ],
      "text/markdown": [
       "\n",
       "| university | N |\n",
       "|---|---|\n",
       "| American Institute of Certified Public Accountants (AICPA) | 44398                                                      |\n",
       "| Unknown Organisation                                       | 20290                                                      |\n",
       "| Harvard Business School                                    | 14617                                                      |\n",
       "| Stanford University                                        | 12736                                                      |\n",
       "| Wharton School University of Pennsylvania                  | 12726                                                      |\n",
       "| Harvard University                                         | 10956                                                      |\n",
       "| University of Michigan                                     |  9955                                                      |\n",
       "| University of California Berkeley                          |  8730                                                      |\n",
       "| Cornell University                                         |  8693                                                      |\n",
       "| University of Texas at Austin                              |  8024                                                      |\n",
       "| Columbia University                                        |  7972                                                      |\n",
       "| Massachusetts Institute of Technology (MIT)                |  7520                                                      |\n",
       "| Yale University                                            |  7067                                                      |\n",
       "| University of Pennsylvania                                 |  7011                                                      |\n",
       "| Harvard Law School                                         |  6992                                                      |\n",
       "| University of California Los Angeles (UCLA)                |  6979                                                      |\n",
       "| Kellogg School of Management Northwestern University       |  6614                                                      |\n",
       "| New York University (NYU)                                  |  6557                                                      |\n",
       "| University of Virginia                                     |  6225                                                      |\n",
       "| Pennsylvania State University (Penn State University)      |  6002                                                      |\n",
       "| Duke University                                            |  5964                                                      |\n",
       "| University of Southern California (USC)                    |  5848                                                      |\n",
       "| Princeton University                                       |  5797                                                      |\n",
       "| University of Toronto                                      |  5730                                                      |\n",
       "| Institute of Chartered Financial Analysts (ICFA) (USA)     |  5698                                                      |\n",
       "| University of Ntre Dame                                    |  5396                                                      |\n",
       "| Northwestern University                                    |  5330                                                      |\n",
       "| Georgetown University                                      |  5283                                                      |\n",
       "| New York University School of Law                          |  5263                                                      |\n",
       "| University of Chicago                                      |  5195                                                      |\n",
       "| University of Florida                                      |  5108                                                      |\n",
       "| McGill University (Canada)                                 |  4965                                                      |\n",
       "| Texas A&M University                                       |  4773                                                      |\n",
       "| University of Illinois (UIC)                               |  4628                                                      |\n",
       "| George Washington University                               |  4615                                                      |\n",
       "| Boston University                                          |  4550                                                      |\n",
       "| Ohio State University (OSU)                                |  4481                                                      |\n",
       "| Michigan State University (MSU)                            |  4414                                                      |\n",
       "| Dartmouth College                                          |  4319                                                      |\n",
       "| University of Maryland College Park                        |  4236                                                      |\n",
       "| University of Minnesota                                    |  4233                                                      |\n",
       "| University of Wisconsin-Madison                            |  4178                                                      |\n",
       "| Purdue University                                          |  4141                                                      |\n",
       "| Stanford University Graduate School of Business            |  4113                                                      |\n",
       "| University of Washington                                   |  4029                                                      |\n",
       "| University of British Columbia (UBC)                       |  3944                                                      |\n",
       "| Queen's University                                         |  3901                                                      |\n",
       "| Boston College                                             |  3824                                                      |\n",
       "| Brigham Young University                                   |  3804                                                      |\n",
       "| Brown University                                           |  3793                                                      |\n",
       "| ... | ... |\n",
       "| Young Professionals Group (YPG)                                                                                 | 1                                                                                                               |\n",
       "| Young Scientist University (YSU)                                                                                | 1                                                                                                               |\n",
       "| Youngjin College                                                                                                | 1                                                                                                               |\n",
       "| Youth Leadership Sarasota County                                                                                | 1                                                                                                               |\n",
       "| YOW Canada Inc                                                                                                  | 1                                                                                                               |\n",
       "| Yrkeshgskolan Arcada (University of Applied Sciences Arcada)                                                    | 1                                                                                                               |\n",
       "| Yuan Chi University School of Economics                                                                         | 1                                                                                                               |\n",
       "| Yuba Junior College                                                                                             | 1                                                                                                               |\n",
       "| Yuet Wah College                                                                                                | 1                                                                                                               |\n",
       "| Yukon Public Schools (YPS)                                                                                      | 1                                                                                                               |\n",
       "| Yunnan Normal University                                                                                        | 1                                                                                                               |\n",
       "| YWCA of Greater Cincinnati                                                                                      | 1                                                                                                               |\n",
       "| Zahret El- Ihsan                                                                                                | 1                                                                                                               |\n",
       "| Zakir Husain College of Engineering and Technology (ZHCET)                                                      | 1                                                                                                               |\n",
       "| Zambia Institute of Banking & Financial Services (ZIBFS)                                                        | 1                                                                                                               |\n",
       "| Zambia Institute of Chartered Accountants                                                                       | 1                                                                                                               |\n",
       "| Zane State College                                                                                              | 1                                                                                                               |\n",
       "| Zanesville High School                                                                                          | 1                                                                                                               |\n",
       "| Zaporozhye State University (ZSU)                                                                               | 1                                                                                                               |\n",
       "| Zaragoza Logistics Center (ZLC)                                                                                 | 1                                                                                                               |\n",
       "| Zayed Military College                                                                                          | 1                                                                                                               |\n",
       "| zel St Georg Avusturya Lisesi Ve Ticaret Okulu                                                                  | 1                                                                                                               |\n",
       "| Zend Technologies Inc                                                                                           | 1                                                                                                               |\n",
       "| Zenger Folkman Inc                                                                                              | 1                                                                                                               |\n",
       "| Zeus Technology Ltd                                                                                             | 1                                                                                                               |\n",
       "| ZfU-International Business School                                                                               | 1                                                                                                               |\n",
       "| ZHAW School of Management and Law (SML)                                                                         | 1                                                                                                               |\n",
       "| Zhejiang Finance & Economics Institute                                                                          | 1                                                                                                               |\n",
       "| Zhejiang Financial College (Formerly known as Zhejiang Banking College)                                         | 1                                                                                                               |\n",
       "| Zhejiang Gongshang University (ZJGSU)                                                                           | 1                                                                                                               |\n",
       "| Zhejiang Provincial Government School                                                                           | 1                                                                                                               |\n",
       "| Zhejiang Radio & TV University                                                                                  | 1                                                                                                               |\n",
       "| Zhejiang Sci-Tech University (ZSTU) (Zhejiang Engineering College prior to 05/2004)                             | 1                                                                                                               |\n",
       "| Zhejiang University of Finance and Economics (ZUFE)                                                             | 1                                                                                                               |\n",
       "| Zhejiang University School of Medicine (ZUSM)                                                                   | 1                                                                                                               |\n",
       "| Zhengzhou Institute of Technology                                                                               | 1                                                                                                               |\n",
       "| Zhengzhou University of Aeronautics (Formerly known as Zhengzhou Institute of Aeronautical Industry Management) | 1                                                                                                               |\n",
       "| Zhi Shan Industrial Technical College                                                                           | 1                                                                                                               |\n",
       "| Zhong-Nan University                                                                                            | 1                                                                                                               |\n",
       "| Zhongzhou University                                                                                            | 1                                                                                                               |\n",
       "| Ziglar Inc                                                                                                      | 1                                                                                                               |\n",
       "| Zik Institute of Commerce Onitsha                                                                               | 1                                                                                                               |\n",
       "| Zimmer Institute                                                                                                | 1                                                                                                               |\n",
       "| Zoe Christian Fellowship of Whittier                                                                            | 1                                                                                                               |\n",
       "| Zrcher Hochschule der Knste (ZHdK)                                                                              | 1                                                                                                               |\n",
       "| Zrich Law School                                                                                                | 1                                                                                                               |\n",
       "| Zuleka Coaching and Consulting Services (Pty) Ltd                                                               | 1                                                                                                               |\n",
       "| Zurich International School                                                                                     | 1                                                                                                               |\n",
       "| Zurich Management School                                                                                        | 1                                                                                                               |\n",
       "| Zurich Services Corporation                                                                                     | 1                                                                                                               |\n",
       "\n"
      ],
      "text/plain": [
       "      university                                                                                                     \n",
       "1     American Institute of Certified Public Accountants (AICPA)                                                     \n",
       "2     Unknown Organisation                                                                                           \n",
       "3     Harvard Business School                                                                                        \n",
       "4     Stanford University                                                                                            \n",
       "5     Wharton School University of Pennsylvania                                                                      \n",
       "6     Harvard University                                                                                             \n",
       "7     University of Michigan                                                                                         \n",
       "8     University of California Berkeley                                                                              \n",
       "9     Cornell University                                                                                             \n",
       "10    University of Texas at Austin                                                                                  \n",
       "11    Columbia University                                                                                            \n",
       "12    Massachusetts Institute of Technology (MIT)                                                                    \n",
       "13    Yale University                                                                                                \n",
       "14    University of Pennsylvania                                                                                     \n",
       "15    Harvard Law School                                                                                             \n",
       "16    University of California Los Angeles (UCLA)                                                                    \n",
       "17    Kellogg School of Management Northwestern University                                                           \n",
       "18    New York University (NYU)                                                                                      \n",
       "19    University of Virginia                                                                                         \n",
       "20    Pennsylvania State University (Penn State University)                                                          \n",
       "21    Duke University                                                                                                \n",
       "22    University of Southern California (USC)                                                                        \n",
       "23    Princeton University                                                                                           \n",
       "24    University of Toronto                                                                                          \n",
       "25    Institute of Chartered Financial Analysts (ICFA) (USA)                                                         \n",
       "26    University of Ntre Dame                                                                                        \n",
       "27    Northwestern University                                                                                        \n",
       "28    Georgetown University                                                                                          \n",
       "29    New York University School of Law                                                                              \n",
       "30    University of Chicago                                                                                          \n",
       "31    University of Florida                                                                                          \n",
       "32    McGill University (Canada)                                                                                     \n",
       "33    Texas A&M University                                                                                           \n",
       "34    University of Illinois (UIC)                                                                                   \n",
       "35    George Washington University                                                                                   \n",
       "36    Boston University                                                                                              \n",
       "37    Ohio State University (OSU)                                                                                    \n",
       "38    Michigan State University (MSU)                                                                                \n",
       "39    Dartmouth College                                                                                              \n",
       "40    University of Maryland College Park                                                                            \n",
       "41    University of Minnesota                                                                                        \n",
       "42    University of Wisconsin-Madison                                                                                \n",
       "43    Purdue University                                                                                              \n",
       "44    Stanford University Graduate School of Business                                                                \n",
       "45    University of Washington                                                                                       \n",
       "46    University of British Columbia (UBC)                                                                           \n",
       "47    Queen's University                                                                                             \n",
       "48    Boston College                                                                                                 \n",
       "49    Brigham Young University                                                                                       \n",
       "50    Brown University                                                                                               \n",
       "...   ...                                                                                                            \n",
       "32391 Young Professionals Group (YPG)                                                                                \n",
       "32392 Young Scientist University (YSU)                                                                               \n",
       "32393 Youngjin College                                                                                               \n",
       "32394 Youth Leadership Sarasota County                                                                               \n",
       "32395 YOW Canada Inc                                                                                                 \n",
       "32396 Yrkeshgskolan Arcada (University of Applied Sciences Arcada)                                                   \n",
       "32397 Yuan Chi University School of Economics                                                                        \n",
       "32398 Yuba Junior College                                                                                            \n",
       "32399 Yuet Wah College                                                                                               \n",
       "32400 Yukon Public Schools (YPS)                                                                                     \n",
       "32401 Yunnan Normal University                                                                                       \n",
       "32402 YWCA of Greater Cincinnati                                                                                     \n",
       "32403 Zahret El- Ihsan                                                                                               \n",
       "32404 Zakir Husain College of Engineering and Technology (ZHCET)                                                     \n",
       "32405 Zambia Institute of Banking & Financial Services (ZIBFS)                                                       \n",
       "32406 Zambia Institute of Chartered Accountants                                                                      \n",
       "32407 Zane State College                                                                                             \n",
       "32408 Zanesville High School                                                                                         \n",
       "32409 Zaporozhye State University (ZSU)                                                                              \n",
       "32410 Zaragoza Logistics Center (ZLC)                                                                                \n",
       "32411 Zayed Military College                                                                                         \n",
       "32412 zel St Georg Avusturya Lisesi Ve Ticaret Okulu                                                                 \n",
       "32413 Zend Technologies Inc                                                                                          \n",
       "32414 Zenger Folkman Inc                                                                                             \n",
       "32415 Zeus Technology Ltd                                                                                            \n",
       "32416 ZfU-International Business School                                                                              \n",
       "32417 ZHAW School of Management and Law (SML)                                                                        \n",
       "32418 Zhejiang Finance & Economics Institute                                                                         \n",
       "32419 Zhejiang Financial College (Formerly known as Zhejiang Banking College)                                        \n",
       "32420 Zhejiang Gongshang University (ZJGSU)                                                                          \n",
       "32421 Zhejiang Provincial Government School                                                                          \n",
       "32422 Zhejiang Radio & TV University                                                                                 \n",
       "32423 Zhejiang Sci-Tech University (ZSTU) (Zhejiang Engineering College prior to 05/2004)                            \n",
       "32424 Zhejiang University of Finance and Economics (ZUFE)                                                            \n",
       "32425 Zhejiang University School of Medicine (ZUSM)                                                                  \n",
       "32426 Zhengzhou Institute of Technology                                                                              \n",
       "32427 Zhengzhou University of Aeronautics (Formerly known as Zhengzhou Institute of Aeronautical Industry Management)\n",
       "32428 Zhi Shan Industrial Technical College                                                                          \n",
       "32429 Zhong-Nan University                                                                                           \n",
       "32430 Zhongzhou University                                                                                           \n",
       "32431 Ziglar Inc                                                                                                     \n",
       "32432 Zik Institute of Commerce Onitsha                                                                              \n",
       "32433 Zimmer Institute                                                                                               \n",
       "32434 Zoe Christian Fellowship of Whittier                                                                           \n",
       "32435 Zrcher Hochschule der Knste (ZHdK)                                                                             \n",
       "32436 Zrich Law School                                                                                               \n",
       "32437 Zuleka Coaching and Consulting Services (Pty) Ltd                                                              \n",
       "32438 Zurich International School                                                                                    \n",
       "32439 Zurich Management School                                                                                       \n",
       "32440 Zurich Services Corporation                                                                                    \n",
       "      N    \n",
       "1     44398\n",
       "2     20290\n",
       "3     14617\n",
       "4     12736\n",
       "5     12726\n",
       "6     10956\n",
       "7      9955\n",
       "8      8730\n",
       "9      8693\n",
       "10     8024\n",
       "11     7972\n",
       "12     7520\n",
       "13     7067\n",
       "14     7011\n",
       "15     6992\n",
       "16     6979\n",
       "17     6614\n",
       "18     6557\n",
       "19     6225\n",
       "20     6002\n",
       "21     5964\n",
       "22     5848\n",
       "23     5797\n",
       "24     5730\n",
       "25     5698\n",
       "26     5396\n",
       "27     5330\n",
       "28     5283\n",
       "29     5263\n",
       "30     5195\n",
       "31     5108\n",
       "32     4965\n",
       "33     4773\n",
       "34     4628\n",
       "35     4615\n",
       "36     4550\n",
       "37     4481\n",
       "38     4414\n",
       "39     4319\n",
       "40     4236\n",
       "41     4233\n",
       "42     4178\n",
       "43     4141\n",
       "44     4113\n",
       "45     4029\n",
       "46     3944\n",
       "47     3901\n",
       "48     3824\n",
       "49     3804\n",
       "50     3793\n",
       "...   ...  \n",
       "32391 1    \n",
       "32392 1    \n",
       "32393 1    \n",
       "32394 1    \n",
       "32395 1    \n",
       "32396 1    \n",
       "32397 1    \n",
       "32398 1    \n",
       "32399 1    \n",
       "32400 1    \n",
       "32401 1    \n",
       "32402 1    \n",
       "32403 1    \n",
       "32404 1    \n",
       "32405 1    \n",
       "32406 1    \n",
       "32407 1    \n",
       "32408 1    \n",
       "32409 1    \n",
       "32410 1    \n",
       "32411 1    \n",
       "32412 1    \n",
       "32413 1    \n",
       "32414 1    \n",
       "32415 1    \n",
       "32416 1    \n",
       "32417 1    \n",
       "32418 1    \n",
       "32419 1    \n",
       "32420 1    \n",
       "32421 1    \n",
       "32422 1    \n",
       "32423 1    \n",
       "32424 1    \n",
       "32425 1    \n",
       "32426 1    \n",
       "32427 1    \n",
       "32428 1    \n",
       "32429 1    \n",
       "32430 1    \n",
       "32431 1    \n",
       "32432 1    \n",
       "32433 1    \n",
       "32434 1    \n",
       "32435 1    \n",
       "32436 1    \n",
       "32437 1    \n",
       "32438 1    \n",
       "32439 1    \n",
       "32440 1    "
      ]
     },
     "metadata": {},
     "output_type": "display_data"
    }
   ],
   "source": [
    "x = f_ind_edu[, table(university)] %>% as.data.table()\n",
    "nrow(x)\n",
    "x[order(-N)]"
   ]
  },
  {
   "cell_type": "markdown",
   "metadata": {},
   "source": [
    "## ind_emp\n",
    "\n",
    "Table `f_ind_emp`\n",
    "- Employment history of each individual. One individual may have MULTIPLE observations, if he/she has served in multiple companies.\n",
    "- For demo of `f_ind_emp` please see the end of this section\n",
    "- `name`: the name of the individual\n",
    "- `name_id`: unique id for that individual\n",
    "- `company`: the name of the company that the individual has served in.\n",
    "- `company_id`: unique id for each `company`.\n",
    "- `in_board`: \"Yes\" if the individual was in the \"board of directors\", otherwise \"No\".\n",
    "- `in_supervisory`: \"Yes\" if the individual was in the \"supervisory board\", otherwise \"No\". \n",
    "- `role`: the role of the indiviudal when he/she was in the company\n",
    "- `role_start_date`: the date when the individual started his/her role\n",
    "- `role_end_date`: the date when the individual ended his/her role."
   ]
  },
  {
   "cell_type": "code",
   "execution_count": 7,
   "metadata": {},
   "outputs": [
    {
     "name": "stdout",
     "output_type": "stream",
     "text": [
      "-individual_emp- loaded  (20.55 secs)\n"
     ]
    }
   ],
   "source": [
    "ld(individual_emp, force=T)"
   ]
  },
  {
   "cell_type": "code",
   "execution_count": 8,
   "metadata": {},
   "outputs": [
    {
     "data": {
      "text/html": [
       "<table>\n",
       "<thead><tr><th scope=col>name</th><th scope=col>name_id</th><th scope=col>company</th><th scope=col>company_id</th><th scope=col>in_board</th><th scope=col>in_supervisory</th><th scope=col>role</th><th scope=col>role_start_date</th><th scope=col>role_end_date</th></tr></thead>\n",
       "<tbody>\n",
       "\t<tr><td>Ambassador Gerald Carmen                                     </td><td>372547                                                       </td><td>Home Shopping Latino Inc (1 800 Autotow Inc prior to 11/2006)</td><td>2                                                            </td><td>Yes                                                          </td><td>Yes                                                          </td><td>Director - SD                                                </td><td>1998-07-01                                                   </td><td>NA                                                           </td></tr>\n",
       "</tbody>\n",
       "</table>\n"
      ],
      "text/latex": [
       "\\begin{tabular}{r|lllllllll}\n",
       " name & name\\_id & company & company\\_id & in\\_board & in\\_supervisory & role & role\\_start\\_date & role\\_end\\_date\\\\\n",
       "\\hline\n",
       "\t Ambassador Gerald Carmen                                      & 372547                                                        & Home Shopping Latino Inc (1 800 Autotow Inc prior to 11/2006) & 2                                                             & Yes                                                           & Yes                                                           & Director - SD                                                 & 1998-07-01                                                    & NA                                                           \\\\\n",
       "\\end{tabular}\n"
      ],
      "text/markdown": [
       "\n",
       "| name | name_id | company | company_id | in_board | in_supervisory | role | role_start_date | role_end_date |\n",
       "|---|---|---|---|---|---|---|---|---|\n",
       "| Ambassador Gerald Carmen                                      | 372547                                                        | Home Shopping Latino Inc (1 800 Autotow Inc prior to 11/2006) | 2                                                             | Yes                                                           | Yes                                                           | Director - SD                                                 | 1998-07-01                                                    | NA                                                            |\n",
       "\n"
      ],
      "text/plain": [
       "  name                     name_id\n",
       "1 Ambassador Gerald Carmen 372547 \n",
       "  company                                                       company_id\n",
       "1 Home Shopping Latino Inc (1 800 Autotow Inc prior to 11/2006) 2         \n",
       "  in_board in_supervisory role          role_start_date role_end_date\n",
       "1 Yes      Yes            Director - SD 1998-07-01      <NA>         "
      ]
     },
     "metadata": {},
     "output_type": "display_data"
    }
   ],
   "source": [
    "f_ind_emp = individual_emp[,\n",
    "    .(name=directorname, name_id=directorid,\n",
    "      company=companyname, company_id=companyid, \n",
    "      in_board=brdposition, in_supervisory=ned, role=rolename,\n",
    "      role_start_date=datestartrole, role_end_date=dateendrole)] %>%\n",
    "    unique()\n",
    "fwrite(f_ind_emp, './data/f_ind_emp.csv')\n",
    "# sv(f_ind_emp)\n",
    "f_ind_emp[1]"
   ]
  },
  {
   "cell_type": "markdown",
   "metadata": {},
   "source": [
    "## firm_prof\n",
    "\n",
    "Table `f_firm_prof`\n",
    "- Profiles for the companies that we may use. Each company has exactly one observation\n",
    "- For demo of `f_firm_prof` please see the end of this section\n",
    "- `company`: the name of the company\n",
    "- `company_id`: unique id for each `company`.\n",
    "- `ticker`: ticker of the company, e.g. \"MSFT\" for Microsoft"
   ]
  },
  {
   "cell_type": "code",
   "execution_count": 177,
   "metadata": {},
   "outputs": [
    {
     "name": "stdout",
     "output_type": "stream",
     "text": [
      "-firm_prof_from_boardex- loaded  (5.79 secs)\n"
     ]
    }
   ],
   "source": [
    "ld(firm_prof_from_boardex, force=T, path='.')"
   ]
  },
  {
   "cell_type": "code",
   "execution_count": 181,
   "metadata": {},
   "outputs": [
    {
     "data": {
      "text/html": [
       "<table>\n",
       "<thead><tr><th scope=col>boardname</th><th scope=col>hoaddress1</th><th scope=col>hoaddress2</th><th scope=col>hoaddress3</th><th scope=col>hoaddress4</th><th scope=col>hoaddress5</th><th scope=col>hocountryname</th><th scope=col>hotelnumber</th><th scope=col>hofaxnumber</th><th scope=col>hourl</th><th scope=col>financialurl</th><th scope=col>companypolicy</th><th scope=col>ccaddress1</th><th scope=col>ccaddress2</th><th scope=col>ccaddress3</th><th scope=col>ccaddress4</th><th scope=col>ccaddress5</th><th scope=col>cccountryname</th><th scope=col>cctelnumber</th><th scope=col>ccfaxnumber</th><th scope=col>cikcode</th><th scope=col>sector</th><th scope=col>index</th><th scope=col>orgvisible</th><th scope=col>orgtype</th><th scope=col>boardid</th><th scope=col>clientcompanyid</th><th scope=col>ticker</th><th scope=col>isin</th><th scope=col>countryofquote</th><th scope=col>currency</th><th scope=col>revenuevaluedate</th><th scope=col>mktcapitalisation</th><th scope=col>noemployees</th><th scope=col>revenue</th><th scope=col>advisorname</th><th scope=col>advtypedesc</th></tr></thead>\n",
       "<tbody>\n",
       "\t<tr><td>CONYERS PARK II ACQUISITION CORP             </td><td>1 Greenwich Office Park                      </td><td>2nd Floor                                    </td><td>Greenwich                                    </td><td>Connecticut CT                               </td><td>06831                                        </td><td>United States                                </td><td>NA                                           </td><td>NA                                           </td><td>NA                                           </td><td>NA                                           </td><td>NA                                           </td><td>NA                                           </td><td>NA                                           </td><td>NA                                           </td><td>NA                                           </td><td>NA                                           </td><td>NA                                           </td><td>NA                                           </td><td>NA                                           </td><td>0001776661                                   </td><td>Blank Check / Shell Companies                </td><td>NA                                           </td><td>Yes                                          </td><td>Quoted                                       </td><td>3059116                                      </td><td>NA                                           </td><td>CPAAU                                        </td><td>US2128962030                                 </td><td>U.S.A.                                       </td><td>USD                                          </td><td>NA                                           </td><td>467                                          </td><td>2                                            </td><td>NA                                           </td><td>Continental Stock Transfer &amp; Trust Co LLC</td><td>Transfer Agents                              </td></tr>\n",
       "\t<tr><td>CONYERS PARK II ACQUISITION CORP                                                     </td><td>1 Greenwich Office Park                                                              </td><td>2nd Floor                                                                            </td><td>Greenwich                                                                            </td><td>Connecticut CT                                                                       </td><td>06831                                                                                </td><td>United States                                                                        </td><td>NA                                                                                   </td><td>NA                                                                                   </td><td>NA                                                                                   </td><td>NA                                                                                   </td><td>NA                                                                                   </td><td>NA                                                                                   </td><td>NA                                                                                   </td><td>NA                                                                                   </td><td>NA                                                                                   </td><td>NA                                                                                   </td><td>NA                                                                                   </td><td>NA                                                                                   </td><td>NA                                                                                   </td><td>0001776661                                                                           </td><td>Blank Check / Shell Companies                                                        </td><td>NA                                                                                   </td><td>Yes                                                                                  </td><td>Quoted                                                                               </td><td>3059116                                                                              </td><td>NA                                                                                   </td><td>CPAAU                                                                                </td><td>US2128962030                                                                         </td><td>U.S.A.                                                                               </td><td>USD                                                                                  </td><td>NA                                                                                   </td><td>467                                                                                  </td><td>2                                                                                    </td><td>NA                                                                                   </td><td><span style=white-space:pre-wrap>Kirkland &amp; Ellis LLP (KE)                </span></td><td><span style=white-space:pre-wrap>Solicitors     </span>                              </td></tr>\n",
       "\t<tr><td>CONYERS PARK II ACQUISITION CORP         </td><td>1 Greenwich Office Park                  </td><td>2nd Floor                                </td><td>Greenwich                                </td><td>Connecticut CT                           </td><td>06831                                    </td><td>United States                            </td><td>NA                                       </td><td>NA                                       </td><td>NA                                       </td><td>NA                                       </td><td>NA                                       </td><td>NA                                       </td><td>NA                                       </td><td>NA                                       </td><td>NA                                       </td><td>NA                                       </td><td>NA                                       </td><td>NA                                       </td><td>NA                                       </td><td>0001776661                               </td><td>Blank Check / Shell Companies            </td><td>NA                                       </td><td>Yes                                      </td><td>Quoted                                   </td><td>3059116                                  </td><td>NA                                       </td><td>CPAAU                                    </td><td>US2128962030                             </td><td>U.S.A.                                   </td><td>USD                                      </td><td>NA                                       </td><td>467                                      </td><td>2                                        </td><td>NA                                       </td><td>WithumSmith+Brown PC                     </td><td>Auditors                                 </td></tr>\n",
       "</tbody>\n",
       "</table>\n"
      ],
      "text/latex": [
       "\\begin{tabular}{r|lllllllllllllllllllllllllllllllllllll}\n",
       " boardname & hoaddress1 & hoaddress2 & hoaddress3 & hoaddress4 & hoaddress5 & hocountryname & hotelnumber & hofaxnumber & hourl & financialurl & companypolicy & ccaddress1 & ccaddress2 & ccaddress3 & ccaddress4 & ccaddress5 & cccountryname & cctelnumber & ccfaxnumber & cikcode & sector & index & orgvisible & orgtype & boardid & clientcompanyid & ticker & isin & countryofquote & currency & revenuevaluedate & mktcapitalisation & noemployees & revenue & advisorname & advtypedesc\\\\\n",
       "\\hline\n",
       "\t CONYERS PARK II ACQUISITION CORP            & 1 Greenwich Office Park                     & 2nd Floor                                   & Greenwich                                   & Connecticut CT                              & 06831                                       & United States                               & NA                                          & NA                                          & NA                                          & NA                                          & NA                                          & NA                                          & NA                                          & NA                                          & NA                                          & NA                                          & NA                                          & NA                                          & NA                                          & 0001776661                                  & Blank Check / Shell Companies               & NA                                          & Yes                                         & Quoted                                      & 3059116                                     & NA                                          & CPAAU                                       & US2128962030                                & U.S.A.                                      & USD                                         & NA                                          & 467                                         & 2                                           & NA                                          & Continental Stock Transfer \\& Trust Co LLC & Transfer Agents                            \\\\\n",
       "\t CONYERS PARK II ACQUISITION CORP            & 1 Greenwich Office Park                     & 2nd Floor                                   & Greenwich                                   & Connecticut CT                              & 06831                                       & United States                               & NA                                          & NA                                          & NA                                          & NA                                          & NA                                          & NA                                          & NA                                          & NA                                          & NA                                          & NA                                          & NA                                          & NA                                          & NA                                          & 0001776661                                  & Blank Check / Shell Companies               & NA                                          & Yes                                         & Quoted                                      & 3059116                                     & NA                                          & CPAAU                                       & US2128962030                                & U.S.A.                                      & USD                                         & NA                                          & 467                                         & 2                                           & NA                                          & Kirkland \\& Ellis LLP (KE)                 & Solicitors                                 \\\\\n",
       "\t CONYERS PARK II ACQUISITION CORP          & 1 Greenwich Office Park                   & 2nd Floor                                 & Greenwich                                 & Connecticut CT                            & 06831                                     & United States                             & NA                                        & NA                                        & NA                                        & NA                                        & NA                                        & NA                                        & NA                                        & NA                                        & NA                                        & NA                                        & NA                                        & NA                                        & NA                                        & 0001776661                                & Blank Check / Shell Companies             & NA                                        & Yes                                       & Quoted                                    & 3059116                                   & NA                                        & CPAAU                                     & US2128962030                              & U.S.A.                                    & USD                                       & NA                                        & 467                                       & 2                                         & NA                                        & WithumSmith+Brown PC                      & Auditors                                 \\\\\n",
       "\\end{tabular}\n"
      ],
      "text/markdown": [
       "\n",
       "| boardname | hoaddress1 | hoaddress2 | hoaddress3 | hoaddress4 | hoaddress5 | hocountryname | hotelnumber | hofaxnumber | hourl | financialurl | companypolicy | ccaddress1 | ccaddress2 | ccaddress3 | ccaddress4 | ccaddress5 | cccountryname | cctelnumber | ccfaxnumber | cikcode | sector | index | orgvisible | orgtype | boardid | clientcompanyid | ticker | isin | countryofquote | currency | revenuevaluedate | mktcapitalisation | noemployees | revenue | advisorname | advtypedesc |\n",
       "|---|---|---|---|---|---|---|---|---|---|---|---|---|---|---|---|---|---|---|---|---|---|---|---|---|---|---|---|---|---|---|---|---|---|---|---|---|\n",
       "| CONYERS PARK II ACQUISITION CORP          | 1 Greenwich Office Park                   | 2nd Floor                                 | Greenwich                                 | Connecticut CT                            | 06831                                     | United States                             | NA                                        | NA                                        | NA                                        | NA                                        | NA                                        | NA                                        | NA                                        | NA                                        | NA                                        | NA                                        | NA                                        | NA                                        | NA                                        | 0001776661                                | Blank Check / Shell Companies             | NA                                        | Yes                                       | Quoted                                    | 3059116                                   | NA                                        | CPAAU                                     | US2128962030                              | U.S.A.                                    | USD                                       | NA                                        | 467                                       | 2                                         | NA                                        | Continental Stock Transfer & Trust Co LLC | Transfer Agents                           |\n",
       "| CONYERS PARK II ACQUISITION CORP          | 1 Greenwich Office Park                   | 2nd Floor                                 | Greenwich                                 | Connecticut CT                            | 06831                                     | United States                             | NA                                        | NA                                        | NA                                        | NA                                        | NA                                        | NA                                        | NA                                        | NA                                        | NA                                        | NA                                        | NA                                        | NA                                        | NA                                        | 0001776661                                | Blank Check / Shell Companies             | NA                                        | Yes                                       | Quoted                                    | 3059116                                   | NA                                        | CPAAU                                     | US2128962030                              | U.S.A.                                    | USD                                       | NA                                        | 467                                       | 2                                         | NA                                        | Kirkland & Ellis LLP (KE)                 | Solicitors                                |\n",
       "| CONYERS PARK II ACQUISITION CORP          | 1 Greenwich Office Park                   | 2nd Floor                                 | Greenwich                                 | Connecticut CT                            | 06831                                     | United States                             | NA                                        | NA                                        | NA                                        | NA                                        | NA                                        | NA                                        | NA                                        | NA                                        | NA                                        | NA                                        | NA                                        | NA                                        | NA                                        | 0001776661                                | Blank Check / Shell Companies             | NA                                        | Yes                                       | Quoted                                    | 3059116                                   | NA                                        | CPAAU                                     | US2128962030                              | U.S.A.                                    | USD                                       | NA                                        | 467                                       | 2                                         | NA                                        | WithumSmith+Brown PC                      | Auditors                                  |\n",
       "\n"
      ],
      "text/plain": [
       "  boardname                        hoaddress1              hoaddress2\n",
       "1 CONYERS PARK II ACQUISITION CORP 1 Greenwich Office Park 2nd Floor \n",
       "2 CONYERS PARK II ACQUISITION CORP 1 Greenwich Office Park 2nd Floor \n",
       "3 CONYERS PARK II ACQUISITION CORP 1 Greenwich Office Park 2nd Floor \n",
       "  hoaddress3 hoaddress4     hoaddress5 hocountryname hotelnumber hofaxnumber\n",
       "1 Greenwich  Connecticut CT 06831      United States NA          NA         \n",
       "2 Greenwich  Connecticut CT 06831      United States NA          NA         \n",
       "3 Greenwich  Connecticut CT 06831      United States NA          NA         \n",
       "  hourl financialurl companypolicy ccaddress1 ccaddress2 ccaddress3 ccaddress4\n",
       "1 NA    NA           NA            NA         NA         NA         NA        \n",
       "2 NA    NA           NA            NA         NA         NA         NA        \n",
       "3 NA    NA           NA            NA         NA         NA         NA        \n",
       "  ccaddress5 cccountryname cctelnumber ccfaxnumber cikcode   \n",
       "1 NA         NA            NA          NA          0001776661\n",
       "2 NA         NA            NA          NA          0001776661\n",
       "3 NA         NA            NA          NA          0001776661\n",
       "  sector                        index orgvisible orgtype boardid\n",
       "1 Blank Check / Shell Companies NA    Yes        Quoted  3059116\n",
       "2 Blank Check / Shell Companies NA    Yes        Quoted  3059116\n",
       "3 Blank Check / Shell Companies NA    Yes        Quoted  3059116\n",
       "  clientcompanyid ticker isin         countryofquote currency revenuevaluedate\n",
       "1 NA              CPAAU  US2128962030 U.S.A.         USD      <NA>            \n",
       "2 NA              CPAAU  US2128962030 U.S.A.         USD      <NA>            \n",
       "3 NA              CPAAU  US2128962030 U.S.A.         USD      <NA>            \n",
       "  mktcapitalisation noemployees revenue\n",
       "1 467               2           NA     \n",
       "2 467               2           NA     \n",
       "3 467               2           NA     \n",
       "  advisorname                               advtypedesc    \n",
       "1 Continental Stock Transfer & Trust Co LLC Transfer Agents\n",
       "2 Kirkland & Ellis LLP (KE)                 Solicitors     \n",
       "3 WithumSmith+Brown PC                      Auditors       "
      ]
     },
     "metadata": {},
     "output_type": "display_data"
    }
   ],
   "source": [
    "firm_prof_from_boardex[str_detect(boardname, 'CONYERS')]"
   ]
  },
  {
   "cell_type": "code",
   "execution_count": 19,
   "metadata": {},
   "outputs": [
    {
     "name": "stdout",
     "output_type": "stream",
     "text": [
      "-f_firm_prof- saved  (0.1 secs)\n"
     ]
    },
    {
     "data": {
      "text/html": [
       "<table>\n",
       "<thead><tr><th scope=col>company</th><th scope=col>company_id</th><th scope=col>sector</th><th scope=col>headoffice_address</th><th scope=col>communication_address</th><th scope=col>state</th><th scope=col>market_cap</th><th scope=col>n_employee</th><th scope=col>revenue</th></tr></thead>\n",
       "<tbody>\n",
       "\t<tr><td>MICROSOFT CORP                                                                                           </td><td>20601                                                                                                    </td><td>Software &amp; Computer Services                                                                         </td><td><span style=white-space:pre-wrap>One Microsoft Way Redmond  Washington WA 98052-6399 United States</span></td><td><span style=white-space:pre-wrap>One Microsoft Way Redmond  Washington WA 98052-6399 United States</span></td><td>Washington WA                                                                                            </td><td>1060781                                                                                                  </td><td>131000                                                                                                   </td><td>110360                                                                                                   </td></tr>\n",
       "</tbody>\n",
       "</table>\n"
      ],
      "text/latex": [
       "\\begin{tabular}{r|lllllllll}\n",
       " company & company\\_id & sector & headoffice\\_address & communication\\_address & state & market\\_cap & n\\_employee & revenue\\\\\n",
       "\\hline\n",
       "\t MICROSOFT CORP                                                    & 20601                                                             & Software \\& Computer Services                                    & One Microsoft Way Redmond  Washington WA 98052-6399 United States & One Microsoft Way Redmond  Washington WA 98052-6399 United States & Washington WA                                                     & 1060781                                                           & 131000                                                            & 110360                                                           \\\\\n",
       "\\end{tabular}\n"
      ],
      "text/markdown": [
       "\n",
       "| company | company_id | sector | headoffice_address | communication_address | state | market_cap | n_employee | revenue |\n",
       "|---|---|---|---|---|---|---|---|---|\n",
       "| MICROSOFT CORP                                                    | 20601                                                             | Software & Computer Services                                      | One Microsoft Way Redmond  Washington WA 98052-6399 United States | One Microsoft Way Redmond  Washington WA 98052-6399 United States | Washington WA                                                     | 1060781                                                           | 131000                                                            | 110360                                                            |\n",
       "\n"
      ],
      "text/plain": [
       "  company        company_id sector                      \n",
       "1 MICROSOFT CORP 20601      Software & Computer Services\n",
       "  headoffice_address                                               \n",
       "1 One Microsoft Way Redmond  Washington WA 98052-6399 United States\n",
       "  communication_address                                            \n",
       "1 One Microsoft Way Redmond  Washington WA 98052-6399 United States\n",
       "  state         market_cap n_employee revenue\n",
       "1 Washington WA 1060781    131000     110360 "
      ]
     },
     "metadata": {},
     "output_type": "display_data"
    }
   ],
   "source": [
    "cols = c('hoaddress1', 'hoaddress2', 'hoaddress3', 'hoaddress4', 'hoaddress5', 'hocountryname', 'ccaddress1', 'ccaddress2', 'ccaddress3', 'ccaddress4', 'ccaddress5', 'cccountryname')\n",
    "\n",
    "f_firm_prof = firm_prof_from_boardex[\n",
    "    countryofquote=='U.S.A.' & hocountryname=='United States'\n",
    "    ][, c(cols) := lapply(.SD, str_replace_na, ''), .SDcols=cols\n",
    "    ][, .(company=boardname, company_id=boardid, sector,\n",
    "      headoffice_address=str_c(\n",
    "        hoaddress1, hoaddress2, hoaddress3,\n",
    "        hoaddress4, hoaddress5, hocountryname, sep=' '),\n",
    "      communication_address=str_c(\n",
    "        ccaddress1, ccaddress2, ccaddress3,\n",
    "        ccaddress4, ccaddress5, cccountryname, sep=' '),\n",
    "      state=hoaddress4,\n",
    "      market_cap=mktcapitalisation,\n",
    "      n_employee=noemployees,\n",
    "      revenue)\n",
    "    ][state=='Alabama', state := 'Alabama AL'\n",
    "    ][order(-market_cap)] %>% unique()\n",
    "# fwrite(f_firm_prof, './data/f_firm_prof.csv')\n",
    "sv(f_firm_prof, path='.')\n",
    "f_firm_prof[1]"
   ]
  },
  {
   "cell_type": "code",
   "execution_count": 20,
   "metadata": {
    "scrolled": true
   },
   "outputs": [
    {
     "data": {
      "text/html": [
       "<table>\n",
       "<thead><tr><th scope=col>company</th><th scope=col>company_id</th><th scope=col>sector</th><th scope=col>headoffice_address</th><th scope=col>communication_address</th><th scope=col>state</th><th scope=col>market_cap</th><th scope=col>n_employee</th><th scope=col>revenue</th></tr></thead>\n",
       "<tbody>\n",
       "\t<tr><td><span style=white-space:pre-wrap>MICROSOFT CORP                                    </span>                          </td><td><span style=white-space:pre-wrap>  20601</span>                                                                     </td><td><span style=white-space:pre-wrap>Software &amp; Computer Services     </span>                                       </td><td><span style=white-space:pre-wrap>One Microsoft Way Redmond  Washington WA 98052-6399 United States           </span></td><td><span style=white-space:pre-wrap>One Microsoft Way Redmond  Washington WA 98052-6399 United States           </span></td><td>Washington WA                                                                                                       </td><td>1060781                                                                                                             </td><td> 131000                                                                                                             </td><td>110360                                                                                                              </td></tr>\n",
       "\t<tr><td>AMAZON.COM INC                                                              </td><td>   1703                                                                     </td><td>General Retailers                                                           </td><td>410 Terry Avenue North Seattle  Washington WA 98109-5210 United States      </td><td>410 Terry Avenue North Seattle  Washington WA 98109-5210 United States      </td><td>Washington WA                                                               </td><td> 894229                                                                     </td><td> 647500                                                                     </td><td>232887                                                                      </td></tr>\n",
       "\t<tr><td>APPLE INC (Apple Computer Inc prior to 01/2007)                             </td><td>   2355                                                                     </td><td>Information Technology Hardware                                             </td><td>One Apple Park Way Cupertino  California CA 95014 United States             </td><td>1 Infinite Loop Cupertino  California CA 95014 United States                </td><td>California CA                                                               </td><td> 888113                                                                     </td><td> 132000                                                                     </td><td>265595                                                                      </td></tr>\n",
       "\t<tr><td><span style=white-space:pre-wrap>ALPHABET INC (Google Inc prior to 10/2015)        </span>                          </td><td> 116351                                                                                                             </td><td><span style=white-space:pre-wrap>Software &amp; Computer Services     </span>                                       </td><td><span style=white-space:pre-wrap>1600 Amphitheatre Parkway Mountain View  California CA 94043 United States  </span></td><td><span style=white-space:pre-wrap>1600 Amphitheatre Parkway Mountain View  California CA 94043 United States  </span></td><td>California CA                                                                                                       </td><td> 776176                                                                                                             </td><td><span style=white-space:pre-wrap>  98771</span>                                                                     </td><td>136819                                                                                                              </td></tr>\n",
       "\t<tr><td>BERKSHIRE HATHAWAY INC                                                      </td><td>   4080                                                                     </td><td>Insurance                                                                   </td><td>3555 Farnam Street Omaha  Nebraska NE 68131 United States                   </td><td>3555 Farnam Street Omaha   68131 United States                              </td><td>Nebraska NE                                                                 </td><td> 491060                                                                     </td><td> 389000                                                                     </td><td>247837                                                                      </td></tr>\n",
       "\t<tr><td><span style=white-space:pre-wrap>FACEBOOK INC                                      </span>                          </td><td>1820060                                                                                                             </td><td><span style=white-space:pre-wrap>Software &amp; Computer Services     </span>                                       </td><td><span style=white-space:pre-wrap>1601 Willow Road Menlo Park  California CA 94025 United States              </span></td><td><span style=white-space:pre-wrap>1601 Willow Road Menlo Park  California CA 94025 United States              </span></td><td>California CA                                                                                                       </td><td> 457557                                                                                                             </td><td><span style=white-space:pre-wrap>  35587</span>                                                                     </td><td> 55838                                                                                                              </td></tr>\n",
       "\t<tr><td><span style=white-space:pre-wrap>JPMORGAN CHASE &amp; CO                               </span>                      </td><td><span style=white-space:pre-wrap>  17528</span>                                                                     </td><td><span style=white-space:pre-wrap>Banks                            </span>                                           </td><td><span style=white-space:pre-wrap>383 Madison Avenue   New York NY 10179-0001 United States                   </span></td><td><span style=white-space:pre-wrap>383 Madison Avenue    10179-0001 United States                              </span></td><td><span style=white-space:pre-wrap>New York NY  </span>                                                               </td><td> 354223                                                                                                             </td><td> 256105                                                                                                             </td><td>109029                                                                                                              </td></tr>\n",
       "\t<tr><td><span style=white-space:pre-wrap>JOHNSON &amp; JOHNSON                                 </span>                          </td><td><span style=white-space:pre-wrap>  17478</span>                                                                         </td><td>Pharmaceuticals and Biotechnology                                                                                       </td><td><span style=white-space:pre-wrap>One Johnson &amp; Johnson Plaza New Brunswick  New Jersey NJ 08933 United States</span></td><td><span style=white-space:pre-wrap>One Johnson &amp; Johnson Plaza New Brunswick  New Jersey NJ 08933 United States</span></td><td>New Jersey NJ                                                                                                           </td><td> 343247                                                                                                                 </td><td> 135100                                                                                                                 </td><td> 81581                                                                                                                  </td></tr>\n",
       "\t<tr><td>WALMART INC (Wal-Mart Stores Inc prior to 02/2018)                          </td><td>  33046                                                                     </td><td>General Retailers                                                           </td><td>702 Southwest 8th Street Bentonville  Arkansas AR 72716-0215 United States  </td><td>702 Southwest 8th Street Bentonville  Arkansas AR 72716 United States       </td><td>Arkansas AR                                                                 </td><td> 330613                                                                     </td><td>2200000                                                                     </td><td>514405                                                                      </td></tr>\n",
       "\t<tr><td><span style=white-space:pre-wrap>EXXON MOBIL CORP                                  </span>                          </td><td><span style=white-space:pre-wrap>  11430</span>                                                                     </td><td><span style=white-space:pre-wrap>Oil &amp; Gas                        </span>                                       </td><td><span style=white-space:pre-wrap>5959 Las Colinas Boulevard Irving  Texas TX 75039-2298 United States        </span></td><td><span style=white-space:pre-wrap>5959 Las Colinas Boulevard Irving  Texas TX 75039-2298 United States        </span></td><td><span style=white-space:pre-wrap>Texas TX     </span>                                                               </td><td> 306311                                                                                                             </td><td><span style=white-space:pre-wrap>  71100</span>                                                                     </td><td>290212                                                                                                              </td></tr>\n",
       "</tbody>\n",
       "</table>\n"
      ],
      "text/latex": [
       "\\begin{tabular}{r|lllllllll}\n",
       " company & company\\_id & sector & headoffice\\_address & communication\\_address & state & market\\_cap & n\\_employee & revenue\\\\\n",
       "\\hline\n",
       "\t MICROSOFT CORP                                                               &   20601                                                                      & Software \\& Computer Services                                               & One Microsoft Way Redmond  Washington WA 98052-6399 United States            & One Microsoft Way Redmond  Washington WA 98052-6399 United States            & Washington WA                                                                & 1060781                                                                      &  131000                                                                      & 110360                                                                      \\\\\n",
       "\t AMAZON.COM INC                                                               &    1703                                                                      & General Retailers                                                            & 410 Terry Avenue North Seattle  Washington WA 98109-5210 United States       & 410 Terry Avenue North Seattle  Washington WA 98109-5210 United States       & Washington WA                                                                &  894229                                                                      &  647500                                                                      & 232887                                                                      \\\\\n",
       "\t APPLE INC (Apple Computer Inc prior to 01/2007)                              &    2355                                                                      & Information Technology Hardware                                              & One Apple Park Way Cupertino  California CA 95014 United States              & 1 Infinite Loop Cupertino  California CA 95014 United States                 & California CA                                                                &  888113                                                                      &  132000                                                                      & 265595                                                                      \\\\\n",
       "\t ALPHABET INC (Google Inc prior to 10/2015)                                   &  116351                                                                      & Software \\& Computer Services                                               & 1600 Amphitheatre Parkway Mountain View  California CA 94043 United States   & 1600 Amphitheatre Parkway Mountain View  California CA 94043 United States   & California CA                                                                &  776176                                                                      &   98771                                                                      & 136819                                                                      \\\\\n",
       "\t BERKSHIRE HATHAWAY INC                                                       &    4080                                                                      & Insurance                                                                    & 3555 Farnam Street Omaha  Nebraska NE 68131 United States                    & 3555 Farnam Street Omaha   68131 United States                               & Nebraska NE                                                                  &  491060                                                                      &  389000                                                                      & 247837                                                                      \\\\\n",
       "\t FACEBOOK INC                                                                 & 1820060                                                                      & Software \\& Computer Services                                               & 1601 Willow Road Menlo Park  California CA 94025 United States               & 1601 Willow Road Menlo Park  California CA 94025 United States               & California CA                                                                &  457557                                                                      &   35587                                                                      &  55838                                                                      \\\\\n",
       "\t JPMORGAN CHASE \\& CO                                                        &   17528                                                                      & Banks                                                                        & 383 Madison Avenue   New York NY 10179-0001 United States                    & 383 Madison Avenue    10179-0001 United States                               & New York NY                                                                  &  354223                                                                      &  256105                                                                      & 109029                                                                      \\\\\n",
       "\t JOHNSON \\& JOHNSON                                                            &   17478                                                                        & Pharmaceuticals and Biotechnology                                              & One Johnson \\& Johnson Plaza New Brunswick  New Jersey NJ 08933 United States & One Johnson \\& Johnson Plaza New Brunswick  New Jersey NJ 08933 United States & New Jersey NJ                                                                  &  343247                                                                        &  135100                                                                        &  81581                                                                        \\\\\n",
       "\t WALMART INC (Wal-Mart Stores Inc prior to 02/2018)                           &   33046                                                                      & General Retailers                                                            & 702 Southwest 8th Street Bentonville  Arkansas AR 72716-0215 United States   & 702 Southwest 8th Street Bentonville  Arkansas AR 72716 United States        & Arkansas AR                                                                  &  330613                                                                      & 2200000                                                                      & 514405                                                                      \\\\\n",
       "\t EXXON MOBIL CORP                                                             &   11430                                                                      & Oil \\& Gas                                                                  & 5959 Las Colinas Boulevard Irving  Texas TX 75039-2298 United States         & 5959 Las Colinas Boulevard Irving  Texas TX 75039-2298 United States         & Texas TX                                                                     &  306311                                                                      &   71100                                                                      & 290212                                                                      \\\\\n",
       "\\end{tabular}\n"
      ],
      "text/markdown": [
       "\n",
       "| company | company_id | sector | headoffice_address | communication_address | state | market_cap | n_employee | revenue |\n",
       "|---|---|---|---|---|---|---|---|---|\n",
       "| MICROSOFT CORP                                                               |   20601                                                                      | Software & Computer Services                                                 | One Microsoft Way Redmond  Washington WA 98052-6399 United States            | One Microsoft Way Redmond  Washington WA 98052-6399 United States            | Washington WA                                                                | 1060781                                                                      |  131000                                                                      | 110360                                                                       |\n",
       "| AMAZON.COM INC                                                               |    1703                                                                      | General Retailers                                                            | 410 Terry Avenue North Seattle  Washington WA 98109-5210 United States       | 410 Terry Avenue North Seattle  Washington WA 98109-5210 United States       | Washington WA                                                                |  894229                                                                      |  647500                                                                      | 232887                                                                       |\n",
       "| APPLE INC (Apple Computer Inc prior to 01/2007)                              |    2355                                                                      | Information Technology Hardware                                              | One Apple Park Way Cupertino  California CA 95014 United States              | 1 Infinite Loop Cupertino  California CA 95014 United States                 | California CA                                                                |  888113                                                                      |  132000                                                                      | 265595                                                                       |\n",
       "| ALPHABET INC (Google Inc prior to 10/2015)                                   |  116351                                                                      | Software & Computer Services                                                 | 1600 Amphitheatre Parkway Mountain View  California CA 94043 United States   | 1600 Amphitheatre Parkway Mountain View  California CA 94043 United States   | California CA                                                                |  776176                                                                      |   98771                                                                      | 136819                                                                       |\n",
       "| BERKSHIRE HATHAWAY INC                                                       |    4080                                                                      | Insurance                                                                    | 3555 Farnam Street Omaha  Nebraska NE 68131 United States                    | 3555 Farnam Street Omaha   68131 United States                               | Nebraska NE                                                                  |  491060                                                                      |  389000                                                                      | 247837                                                                       |\n",
       "| FACEBOOK INC                                                                 | 1820060                                                                      | Software & Computer Services                                                 | 1601 Willow Road Menlo Park  California CA 94025 United States               | 1601 Willow Road Menlo Park  California CA 94025 United States               | California CA                                                                |  457557                                                                      |   35587                                                                      |  55838                                                                       |\n",
       "| JPMORGAN CHASE & CO                                                          |   17528                                                                      | Banks                                                                        | 383 Madison Avenue   New York NY 10179-0001 United States                    | 383 Madison Avenue    10179-0001 United States                               | New York NY                                                                  |  354223                                                                      |  256105                                                                      | 109029                                                                       |\n",
       "| JOHNSON & JOHNSON                                                            |   17478                                                                      | Pharmaceuticals and Biotechnology                                            | One Johnson & Johnson Plaza New Brunswick  New Jersey NJ 08933 United States | One Johnson & Johnson Plaza New Brunswick  New Jersey NJ 08933 United States | New Jersey NJ                                                                |  343247                                                                      |  135100                                                                      |  81581                                                                       |\n",
       "| WALMART INC (Wal-Mart Stores Inc prior to 02/2018)                           |   33046                                                                      | General Retailers                                                            | 702 Southwest 8th Street Bentonville  Arkansas AR 72716-0215 United States   | 702 Southwest 8th Street Bentonville  Arkansas AR 72716 United States        | Arkansas AR                                                                  |  330613                                                                      | 2200000                                                                      | 514405                                                                       |\n",
       "| EXXON MOBIL CORP                                                             |   11430                                                                      | Oil & Gas                                                                    | 5959 Las Colinas Boulevard Irving  Texas TX 75039-2298 United States         | 5959 Las Colinas Boulevard Irving  Texas TX 75039-2298 United States         | Texas TX                                                                     |  306311                                                                      |   71100                                                                      | 290212                                                                       |\n",
       "\n"
      ],
      "text/plain": [
       "   company                                            company_id\n",
       "1  MICROSOFT CORP                                       20601   \n",
       "2  AMAZON.COM INC                                        1703   \n",
       "3  APPLE INC (Apple Computer Inc prior to 01/2007)       2355   \n",
       "4  ALPHABET INC (Google Inc prior to 10/2015)          116351   \n",
       "5  BERKSHIRE HATHAWAY INC                                4080   \n",
       "6  FACEBOOK INC                                       1820060   \n",
       "7  JPMORGAN CHASE & CO                                  17528   \n",
       "8  JOHNSON & JOHNSON                                    17478   \n",
       "9  WALMART INC (Wal-Mart Stores Inc prior to 02/2018)   33046   \n",
       "10 EXXON MOBIL CORP                                     11430   \n",
       "   sector                           \n",
       "1  Software & Computer Services     \n",
       "2  General Retailers                \n",
       "3  Information Technology Hardware  \n",
       "4  Software & Computer Services     \n",
       "5  Insurance                        \n",
       "6  Software & Computer Services     \n",
       "7  Banks                            \n",
       "8  Pharmaceuticals and Biotechnology\n",
       "9  General Retailers                \n",
       "10 Oil & Gas                        \n",
       "   headoffice_address                                                          \n",
       "1  One Microsoft Way Redmond  Washington WA 98052-6399 United States           \n",
       "2  410 Terry Avenue North Seattle  Washington WA 98109-5210 United States      \n",
       "3  One Apple Park Way Cupertino  California CA 95014 United States             \n",
       "4  1600 Amphitheatre Parkway Mountain View  California CA 94043 United States  \n",
       "5  3555 Farnam Street Omaha  Nebraska NE 68131 United States                   \n",
       "6  1601 Willow Road Menlo Park  California CA 94025 United States              \n",
       "7  383 Madison Avenue   New York NY 10179-0001 United States                   \n",
       "8  One Johnson & Johnson Plaza New Brunswick  New Jersey NJ 08933 United States\n",
       "9  702 Southwest 8th Street Bentonville  Arkansas AR 72716-0215 United States  \n",
       "10 5959 Las Colinas Boulevard Irving  Texas TX 75039-2298 United States        \n",
       "   communication_address                                                       \n",
       "1  One Microsoft Way Redmond  Washington WA 98052-6399 United States           \n",
       "2  410 Terry Avenue North Seattle  Washington WA 98109-5210 United States      \n",
       "3  1 Infinite Loop Cupertino  California CA 95014 United States                \n",
       "4  1600 Amphitheatre Parkway Mountain View  California CA 94043 United States  \n",
       "5  3555 Farnam Street Omaha   68131 United States                              \n",
       "6  1601 Willow Road Menlo Park  California CA 94025 United States              \n",
       "7  383 Madison Avenue    10179-0001 United States                              \n",
       "8  One Johnson & Johnson Plaza New Brunswick  New Jersey NJ 08933 United States\n",
       "9  702 Southwest 8th Street Bentonville  Arkansas AR 72716 United States       \n",
       "10 5959 Las Colinas Boulevard Irving  Texas TX 75039-2298 United States        \n",
       "   state         market_cap n_employee revenue\n",
       "1  Washington WA 1060781     131000    110360 \n",
       "2  Washington WA  894229     647500    232887 \n",
       "3  California CA  888113     132000    265595 \n",
       "4  California CA  776176      98771    136819 \n",
       "5  Nebraska NE    491060     389000    247837 \n",
       "6  California CA  457557      35587     55838 \n",
       "7  New York NY    354223     256105    109029 \n",
       "8  New Jersey NJ  343247     135100     81581 \n",
       "9  Arkansas AR    330613    2200000    514405 \n",
       "10 Texas TX       306311      71100    290212 "
      ]
     },
     "metadata": {},
     "output_type": "display_data"
    }
   ],
   "source": [
    "f_firm_prof[order(-market_cap)][1:10]"
   ]
  },
  {
   "cell_type": "code",
   "execution_count": 21,
   "metadata": {
    "scrolled": true
   },
   "outputs": [
    {
     "data": {
      "text/html": [
       "<table>\n",
       "<thead><tr><th scope=col>sector</th><th scope=col>N</th></tr></thead>\n",
       "<tbody>\n",
       "\t<tr><td><span style=white-space:pre-wrap>Aerospace &amp; Defence              </span></td><td> 56                                                                          </td></tr>\n",
       "\t<tr><td><span style=white-space:pre-wrap>Automobiles &amp; Parts              </span></td><td> 72                                                                          </td></tr>\n",
       "\t<tr><td>Banks                            </td><td>848                              </td></tr>\n",
       "\t<tr><td>Beverages                        </td><td> 28                              </td></tr>\n",
       "\t<tr><td>Blank Check / Shell Companies    </td><td>122                              </td></tr>\n",
       "\t<tr><td>Business Services                </td><td>374                              </td></tr>\n",
       "\t<tr><td>Chemicals                        </td><td>173                              </td></tr>\n",
       "\t<tr><td><span style=white-space:pre-wrap>Clothing &amp; Personal Products     </span></td><td> 82                                                                          </td></tr>\n",
       "\t<tr><td>Construction &amp; Building Materials</td><td>148                                  </td></tr>\n",
       "\t<tr><td>Consumer Services                </td><td> 41                              </td></tr>\n",
       "\t<tr><td><span style=white-space:pre-wrap>Containers &amp; Packaging           </span></td><td> 26                                                                          </td></tr>\n",
       "\t<tr><td>Diversified Industrials          </td><td> 32                              </td></tr>\n",
       "\t<tr><td>Education                        </td><td> 33                              </td></tr>\n",
       "\t<tr><td>Electricity                      </td><td> 53                              </td></tr>\n",
       "\t<tr><td>Electronic &amp; Electrical Equipment</td><td>528                                  </td></tr>\n",
       "\t<tr><td><span style=white-space:pre-wrap>Engineering &amp; Machinery          </span></td><td>234                                                                          </td></tr>\n",
       "\t<tr><td><span style=white-space:pre-wrap>Food &amp; Drug Retailers            </span></td><td> 41                                                                          </td></tr>\n",
       "\t<tr><td><span style=white-space:pre-wrap>Food Producers &amp; Processors      </span></td><td>140                                                                          </td></tr>\n",
       "\t<tr><td><span style=white-space:pre-wrap>Forestry &amp; Paper                 </span></td><td> 44                                                                          </td></tr>\n",
       "\t<tr><td>General Retailers                </td><td>239                              </td></tr>\n",
       "\t<tr><td>Health                           </td><td>485                              </td></tr>\n",
       "\t<tr><td>Household Products               </td><td> 86                              </td></tr>\n",
       "\t<tr><td>Information Technology Hardware  </td><td>212                              </td></tr>\n",
       "\t<tr><td>Insurance                        </td><td>182                              </td></tr>\n",
       "\t<tr><td>Investment Companies             </td><td>200                              </td></tr>\n",
       "\t<tr><td><span style=white-space:pre-wrap>Leisure &amp; Hotels                 </span></td><td>243                                                                          </td></tr>\n",
       "\t<tr><td>Leisure Goods                    </td><td> 27                              </td></tr>\n",
       "\t<tr><td>Life Assurance                   </td><td> 13                              </td></tr>\n",
       "\t<tr><td><span style=white-space:pre-wrap>Media &amp; Entertainment            </span></td><td>163                                                                          </td></tr>\n",
       "\t<tr><td>Mining                           </td><td> 66                              </td></tr>\n",
       "\t<tr><td><span style=white-space:pre-wrap>Oil &amp; Gas                        </span></td><td>435                                                                          </td></tr>\n",
       "\t<tr><td>Pharmaceuticals and Biotechnology</td><td>758                              </td></tr>\n",
       "\t<tr><td>Private Equity                   </td><td> 23                              </td></tr>\n",
       "\t<tr><td>Publishing                       </td><td> 50                              </td></tr>\n",
       "\t<tr><td>Real Estate                      </td><td>377                              </td></tr>\n",
       "\t<tr><td>Renewable Energy                 </td><td> 63                              </td></tr>\n",
       "\t<tr><td><span style=white-space:pre-wrap>Software &amp; Computer Services     </span></td><td>561                                                                          </td></tr>\n",
       "\t<tr><td><span style=white-space:pre-wrap>Speciality &amp; Other Finance       </span></td><td>319                                                                          </td></tr>\n",
       "\t<tr><td><span style=white-space:pre-wrap>Steel &amp; Other Metals             </span></td><td> 64                                                                          </td></tr>\n",
       "\t<tr><td>Telecommunication Services       </td><td>205                              </td></tr>\n",
       "\t<tr><td>Tobacco                          </td><td> 10                              </td></tr>\n",
       "\t<tr><td>Transport                        </td><td>160                              </td></tr>\n",
       "\t<tr><td>Utilities - Other                </td><td>123                              </td></tr>\n",
       "\t<tr><td>Wholesale Trade                  </td><td> 53                              </td></tr>\n",
       "</tbody>\n",
       "</table>\n"
      ],
      "text/latex": [
       "\\begin{tabular}{r|ll}\n",
       " sector & N\\\\\n",
       "\\hline\n",
       "\t Aerospace \\& Defence               &  56                                \\\\\n",
       "\t Automobiles \\& Parts               &  72                                \\\\\n",
       "\t Banks                             & 848                              \\\\\n",
       "\t Beverages                         &  28                              \\\\\n",
       "\t Blank Check / Shell Companies     & 122                              \\\\\n",
       "\t Business Services                 & 374                              \\\\\n",
       "\t Chemicals                         & 173                              \\\\\n",
       "\t Clothing \\& Personal Products      &  82                                \\\\\n",
       "\t Construction \\& Building Materials & 148                                \\\\\n",
       "\t Consumer Services                 &  41                              \\\\\n",
       "\t Containers \\& Packaging            &  26                                \\\\\n",
       "\t Diversified Industrials           &  32                              \\\\\n",
       "\t Education                         &  33                              \\\\\n",
       "\t Electricity                       &  53                              \\\\\n",
       "\t Electronic \\& Electrical Equipment & 528                                \\\\\n",
       "\t Engineering \\& Machinery           & 234                                \\\\\n",
       "\t Food \\& Drug Retailers             &  41                                \\\\\n",
       "\t Food Producers \\& Processors       & 140                                \\\\\n",
       "\t Forestry \\& Paper                  &  44                                \\\\\n",
       "\t General Retailers                 & 239                              \\\\\n",
       "\t Health                            & 485                              \\\\\n",
       "\t Household Products                &  86                              \\\\\n",
       "\t Information Technology Hardware   & 212                              \\\\\n",
       "\t Insurance                         & 182                              \\\\\n",
       "\t Investment Companies              & 200                              \\\\\n",
       "\t Leisure \\& Hotels                  & 243                                \\\\\n",
       "\t Leisure Goods                     &  27                              \\\\\n",
       "\t Life Assurance                    &  13                              \\\\\n",
       "\t Media \\& Entertainment             & 163                                \\\\\n",
       "\t Mining                            &  66                              \\\\\n",
       "\t Oil \\& Gas                         & 435                                \\\\\n",
       "\t Pharmaceuticals and Biotechnology & 758                              \\\\\n",
       "\t Private Equity                    &  23                              \\\\\n",
       "\t Publishing                        &  50                              \\\\\n",
       "\t Real Estate                       & 377                              \\\\\n",
       "\t Renewable Energy                  &  63                              \\\\\n",
       "\t Software \\& Computer Services      & 561                                \\\\\n",
       "\t Speciality \\& Other Finance        & 319                                \\\\\n",
       "\t Steel \\& Other Metals              &  64                                \\\\\n",
       "\t Telecommunication Services        & 205                              \\\\\n",
       "\t Tobacco                           &  10                              \\\\\n",
       "\t Transport                         & 160                              \\\\\n",
       "\t Utilities - Other                 & 123                              \\\\\n",
       "\t Wholesale Trade                   &  53                              \\\\\n",
       "\\end{tabular}\n"
      ],
      "text/markdown": [
       "\n",
       "| sector | N |\n",
       "|---|---|\n",
       "| Aerospace & Defence               |  56                               |\n",
       "| Automobiles & Parts               |  72                               |\n",
       "| Banks                             | 848                               |\n",
       "| Beverages                         |  28                               |\n",
       "| Blank Check / Shell Companies     | 122                               |\n",
       "| Business Services                 | 374                               |\n",
       "| Chemicals                         | 173                               |\n",
       "| Clothing & Personal Products      |  82                               |\n",
       "| Construction & Building Materials | 148                               |\n",
       "| Consumer Services                 |  41                               |\n",
       "| Containers & Packaging            |  26                               |\n",
       "| Diversified Industrials           |  32                               |\n",
       "| Education                         |  33                               |\n",
       "| Electricity                       |  53                               |\n",
       "| Electronic & Electrical Equipment | 528                               |\n",
       "| Engineering & Machinery           | 234                               |\n",
       "| Food & Drug Retailers             |  41                               |\n",
       "| Food Producers & Processors       | 140                               |\n",
       "| Forestry & Paper                  |  44                               |\n",
       "| General Retailers                 | 239                               |\n",
       "| Health                            | 485                               |\n",
       "| Household Products                |  86                               |\n",
       "| Information Technology Hardware   | 212                               |\n",
       "| Insurance                         | 182                               |\n",
       "| Investment Companies              | 200                               |\n",
       "| Leisure & Hotels                  | 243                               |\n",
       "| Leisure Goods                     |  27                               |\n",
       "| Life Assurance                    |  13                               |\n",
       "| Media & Entertainment             | 163                               |\n",
       "| Mining                            |  66                               |\n",
       "| Oil & Gas                         | 435                               |\n",
       "| Pharmaceuticals and Biotechnology | 758                               |\n",
       "| Private Equity                    |  23                               |\n",
       "| Publishing                        |  50                               |\n",
       "| Real Estate                       | 377                               |\n",
       "| Renewable Energy                  |  63                               |\n",
       "| Software & Computer Services      | 561                               |\n",
       "| Speciality & Other Finance        | 319                               |\n",
       "| Steel & Other Metals              |  64                               |\n",
       "| Telecommunication Services        | 205                               |\n",
       "| Tobacco                           |  10                               |\n",
       "| Transport                         | 160                               |\n",
       "| Utilities - Other                 | 123                               |\n",
       "| Wholesale Trade                   |  53                               |\n",
       "\n"
      ],
      "text/plain": [
       "   sector                            N  \n",
       "1  Aerospace & Defence                56\n",
       "2  Automobiles & Parts                72\n",
       "3  Banks                             848\n",
       "4  Beverages                          28\n",
       "5  Blank Check / Shell Companies     122\n",
       "6  Business Services                 374\n",
       "7  Chemicals                         173\n",
       "8  Clothing & Personal Products       82\n",
       "9  Construction & Building Materials 148\n",
       "10 Consumer Services                  41\n",
       "11 Containers & Packaging             26\n",
       "12 Diversified Industrials            32\n",
       "13 Education                          33\n",
       "14 Electricity                        53\n",
       "15 Electronic & Electrical Equipment 528\n",
       "16 Engineering & Machinery           234\n",
       "17 Food & Drug Retailers              41\n",
       "18 Food Producers & Processors       140\n",
       "19 Forestry & Paper                   44\n",
       "20 General Retailers                 239\n",
       "21 Health                            485\n",
       "22 Household Products                 86\n",
       "23 Information Technology Hardware   212\n",
       "24 Insurance                         182\n",
       "25 Investment Companies              200\n",
       "26 Leisure & Hotels                  243\n",
       "27 Leisure Goods                      27\n",
       "28 Life Assurance                     13\n",
       "29 Media & Entertainment             163\n",
       "30 Mining                             66\n",
       "31 Oil & Gas                         435\n",
       "32 Pharmaceuticals and Biotechnology 758\n",
       "33 Private Equity                     23\n",
       "34 Publishing                         50\n",
       "35 Real Estate                       377\n",
       "36 Renewable Energy                   63\n",
       "37 Software & Computer Services      561\n",
       "38 Speciality & Other Finance        319\n",
       "39 Steel & Other Metals               64\n",
       "40 Telecommunication Services        205\n",
       "41 Tobacco                            10\n",
       "42 Transport                         160\n",
       "43 Utilities - Other                 123\n",
       "44 Wholesale Trade                    53"
      ]
     },
     "metadata": {},
     "output_type": "display_data"
    }
   ],
   "source": [
    "f_firm_prof[, table(sector)] %>% as.data.table() "
   ]
  },
  {
   "cell_type": "markdown",
   "metadata": {},
   "source": [
    "## firm_net\n",
    "\n",
    "Table `f_firm_net`\n",
    "- Network between firms. Perhapse the most import table in our analysis.\n",
    "- Each line stands for one link from the `from_company` to the `to_company`\n",
    "- Definition of company link: if one person has served both in company A and company B (not necessarily at the same time), then we say a link has be established from A to B through the person.\n",
    "- For demo of `f_firm_net` please see the end of this section\n",
    "- `from_company`: the start company of the link.\n",
    "- `from_company_id`: the unque id for the `from_company`\n",
    "- `to_company`: the end company of the link.\n",
    "- `to_company_id`: the unique id for the `to_company`. \n",
    "- `name`: the name of the individual that established the link\n",
    "- `name_id`: unique id for `name`.\n",
    "- `role_in_from_company`: the role of the individual when he/she is in the `from_company`.\n",
    "- `role_in_from_company_start_date`: the date when the individual started his/her role in the `from_company` \n",
    "- `role_in_from_company_end_date`: the date when the individual ended his/her role in the `from_company` \n",
    "- `role_in_to_company`: the role of the individual when he/she is in the `to_company`.\n",
    "- `role_in_to_company_start_date`: the date when the individual started his/her role in the `to_company` \n",
    "- `role_in_to_company_end_date`: the date when the individual ended his/her role in the `to_company`"
   ]
  },
  {
   "cell_type": "code",
   "execution_count": 11,
   "metadata": {},
   "outputs": [
    {
     "name": "stdout",
     "output_type": "stream",
     "text": [
      "-firm_net- loaded  (11.14 secs)\n"
     ]
    },
    {
     "data": {
      "text/html": [
       "<table>\n",
       "<thead><tr><th scope=col>from_company</th><th scope=col>from_company_id</th><th scope=col>to_company</th><th scope=col>to_company_id</th><th scope=col>name</th><th scope=col>name_id</th><th scope=col>role_in_from_company</th><th scope=col>role_in_from_company_start_date</th><th scope=col>role_in_from_company_end_date</th><th scope=col>role_in_to_company</th><th scope=col>role_in_to_company_start_date</th><th scope=col>role_in_to_company_end_date</th></tr></thead>\n",
       "<tbody>\n",
       "\t<tr><td>GREENHILL &amp; CO INC                </td><td>40757                                 </td><td>1 800 CONTACTS INC (De-listed 09/2007)</td><td>3                                     </td><td>Steve Key                             </td><td>59796                                 </td><td>Independent Director (Brd) (SD)       </td><td>2004-05-01                            </td><td>NA                                    </td><td>Independent Director (Brd) (SD)       </td><td>2005-07-28                            </td><td>2007-09-07                            </td></tr>\n",
       "</tbody>\n",
       "</table>\n"
      ],
      "text/latex": [
       "\\begin{tabular}{r|llllllllllll}\n",
       " from\\_company & from\\_company\\_id & to\\_company & to\\_company\\_id & name & name\\_id & role\\_in\\_from\\_company & role\\_in\\_from\\_company\\_start\\_date & role\\_in\\_from\\_company\\_end\\_date & role\\_in\\_to\\_company & role\\_in\\_to\\_company\\_start\\_date & role\\_in\\_to\\_company\\_end\\_date\\\\\n",
       "\\hline\n",
       "\t GREENHILL \\& CO INC                   & 40757                                  & 1 800 CONTACTS INC (De-listed 09/2007) & 3                                      & Steve Key                              & 59796                                  & Independent Director (Brd) (SD)        & 2004-05-01                             & NA                                     & Independent Director (Brd) (SD)        & 2005-07-28                             & 2007-09-07                            \\\\\n",
       "\\end{tabular}\n"
      ],
      "text/markdown": [
       "\n",
       "| from_company | from_company_id | to_company | to_company_id | name | name_id | role_in_from_company | role_in_from_company_start_date | role_in_from_company_end_date | role_in_to_company | role_in_to_company_start_date | role_in_to_company_end_date |\n",
       "|---|---|---|---|---|---|---|---|---|---|---|---|\n",
       "| GREENHILL & CO INC                     | 40757                                  | 1 800 CONTACTS INC (De-listed 09/2007) | 3                                      | Steve Key                              | 59796                                  | Independent Director (Brd) (SD)        | 2004-05-01                             | NA                                     | Independent Director (Brd) (SD)        | 2005-07-28                             | 2007-09-07                             |\n",
       "\n"
      ],
      "text/plain": [
       "  from_company       from_company_id to_company                            \n",
       "1 GREENHILL & CO INC 40757           1 800 CONTACTS INC (De-listed 09/2007)\n",
       "  to_company_id name      name_id role_in_from_company           \n",
       "1 3             Steve Key 59796   Independent Director (Brd) (SD)\n",
       "  role_in_from_company_start_date role_in_from_company_end_date\n",
       "1 2004-05-01                      <NA>                         \n",
       "  role_in_to_company              role_in_to_company_start_date\n",
       "1 Independent Director (Brd) (SD) 2005-07-28                   \n",
       "  role_in_to_company_end_date\n",
       "1 2007-09-07                 "
      ]
     },
     "metadata": {},
     "output_type": "display_data"
    }
   ],
   "source": [
    "ld(firm_net, force=T)\n",
    "f_firm_net = firm_net[,\n",
    "    .(from_company=boardname, from_company_id=boardid,\n",
    "      to_company=companyname, to_company_id=companyid,\n",
    "      name=directorname, name_id=directorid,\n",
    "      role_in_from_company=role,\n",
    "      role_in_from_company_start_date=startcompanydatestartrole,\n",
    "      role_in_from_company_end_date=startcompanydateendrole,\n",
    "      role_in_to_company=associatedrole,\n",
    "      role_in_to_company_start_date=conncompanydatestartrole,\n",
    "      role_in_to_company_end_date=conncompanydateendrole)] %>%\n",
    "    unique()\n",
    "fwrite(f_firm_net, './data/f_firm_net.csv')\n",
    "# sv(f_firm_net)\n",
    "f_firm_net[1]"
   ]
  },
  {
   "cell_type": "markdown",
   "metadata": {},
   "source": [
    "# Develop"
   ]
  },
  {
   "cell_type": "markdown",
   "metadata": {},
   "source": [
    "## f_ind_emp"
   ]
  },
  {
   "cell_type": "code",
   "execution_count": 148,
   "metadata": {},
   "outputs": [
    {
     "name": "stdout",
     "output_type": "stream",
     "text": [
      "-f_ind_emp- already exists, will NOT load again!  (0 secs)\n"
     ]
    }
   ],
   "source": [
    "processed_company_data = fread('processed_company_data.csv')\n",
    "ld(f_ind_emp, path='.')\n",
    "\n",
    "f_ind_emp = f_ind_emp[company_id %in% processed_company_data[, unique(company_id)]]"
   ]
  },
  {
   "cell_type": "code",
   "execution_count": 63,
   "metadata": {},
   "outputs": [
    {
     "name": "stdout",
     "output_type": "stream",
     "text": [
      "-f_ind_emp- saved  (3.24 secs)\n"
     ]
    }
   ],
   "source": [
    "sv(f_ind_emp, path='.')\n",
    "fwrite(f_ind_emp, 'f_ind_emp.csv')"
   ]
  },
  {
   "cell_type": "markdown",
   "metadata": {},
   "source": [
    "## f_ind_prof"
   ]
  },
  {
   "cell_type": "code",
   "execution_count": 234,
   "metadata": {},
   "outputs": [
    {
     "name": "stdout",
     "output_type": "stream",
     "text": [
      "-f_ind_prof- loaded  (0.34 secs)\n"
     ]
    }
   ],
   "source": [
    "ld(f_ind_prof, path='.', force=T)\n",
    "f_ind_emp = fread('f_ind_emp.csv')\n",
    "f_ind_prof = f_ind_prof[name_id %in% f_ind_emp[, unique(name_id)]]"
   ]
  },
  {
   "cell_type": "code",
   "execution_count": 235,
   "metadata": {},
   "outputs": [
    {
     "name": "stdout",
     "output_type": "stream",
     "text": [
      "-f_ind_prof- saved  (0.87 secs)\n"
     ]
    }
   ],
   "source": [
    "sv(f_ind_prof, path='.')\n",
    "fwrite(f_ind_prof, 'f_ind_prof.csv')"
   ]
  },
  {
   "cell_type": "markdown",
   "metadata": {},
   "source": [
    "## f_ind_edu"
   ]
  },
  {
   "cell_type": "code",
   "execution_count": 65,
   "metadata": {},
   "outputs": [
    {
     "name": "stdout",
     "output_type": "stream",
     "text": [
      "-f_ind_edu- already exists, will NOT load again!  (0 secs)\n"
     ]
    }
   ],
   "source": [
    "ld(f_ind_edu, path='.')\n",
    "f_ind_emp = fread('f_ind_emp.csv')\n",
    "\n",
    "degree_bachelor = regex('(BS)|(BA)|(BE)|(Bachelor)')\n",
    "degree_master = regex('(MS)|(Master)|(MA)|(MD)')\n",
    "degree_phd = regex('(PhD)|(JD)|(MD)')\n",
    "\n",
    "f_ind_edu = f_ind_edu[, ':='(degree='A', is_mba=0)\n",
    "    ][str_detect(qualification, degree_bachelor) , ':='(degree='Bachelor')\n",
    "    ][str_detect(qualification, degree_master) , ':='(degree='Master')\n",
    "    ][str_detect(qualification, degree_phd) , ':='(degree='PhD')\n",
    "    ][str_detect(qualification, 'MBA') , ':='(is_mba=1)\n",
    "    ][order(name_id, -degree)\n",
    "    ][, .SD[1], keyby=.(name_id)\n",
    "    ][degree=='A', degree := 'Others']"
   ]
  },
  {
   "cell_type": "code",
   "execution_count": 66,
   "metadata": {},
   "outputs": [
    {
     "name": "stdout",
     "output_type": "stream",
     "text": [
      "-f_ind_edu- saved  (3.83 secs)\n"
     ]
    }
   ],
   "source": [
    "sv(f_ind_edu, path='.')\n",
    "fwrite(f_ind_edu, 'f_ind_edu.csv')"
   ]
  },
  {
   "cell_type": "markdown",
   "metadata": {},
   "source": [
    "## f_firm_prof"
   ]
  },
  {
   "cell_type": "code",
   "execution_count": 231,
   "metadata": {},
   "outputs": [
    {
     "name": "stdout",
     "output_type": "stream",
     "text": [
      "-f_firm_prof- loaded  (0.01 secs)\n",
      "-f_ind_emp- loaded  (1.15 secs)\n",
      "-f_ind_prof- loaded  (0.41 secs)\n"
     ]
    }
   ],
   "source": [
    "ld(f_firm_prof, force=T, path='.')\n",
    "ld(f_ind_emp, force=T, path='.')\n",
    "ld(f_ind_prof, force=T, path='.')\n",
    "processed_company_data = fread('processed_company_data.csv')\n",
    "\n",
    "f_ind_emp = f_ind_emp[in_board %in% c('Yes', 'Inside')\n",
    "    ][, ':='(role_start_date=ymd(role_start_date))\n",
    "    ][order(name_id, company, role_start_date)\n",
    "    ][, .SD[1], keyby=.(name_id, company_id)\n",
    "    ][, .(name_id, company_id, role_start_year=year(role_start_date))]"
   ]
  },
  {
   "cell_type": "code",
   "execution_count": 227,
   "metadata": {},
   "outputs": [
    {
     "data": {
      "text/html": [
       "39203"
      ],
      "text/latex": [
       "39203"
      ],
      "text/markdown": [
       "39203"
      ],
      "text/plain": [
       "[1] 39203"
      ]
     },
     "metadata": {},
     "output_type": "display_data"
    },
    {
     "data": {
      "text/html": [
       "41826"
      ],
      "text/latex": [
       "41826"
      ],
      "text/markdown": [
       "41826"
      ],
      "text/plain": [
       "[1] 41826"
      ]
     },
     "metadata": {},
     "output_type": "display_data"
    },
    {
     "data": {
      "text/html": [
       "39165"
      ],
      "text/latex": [
       "39165"
      ],
      "text/markdown": [
       "39165"
      ],
      "text/plain": [
       "[1] 39165"
      ]
     },
     "metadata": {},
     "output_type": "display_data"
    }
   ],
   "source": [
    "x1 = f_ind_emp[processed_company_data, on=.(company_id), nomatch=0\n",
    "    ][f_ind_edu[, .(name_id, is_mba, degree)], on=.(name_id), nomatch=0]\n",
    "\n",
    "x2 = f_ind_emp[processed_company_data, on=.(company_id), nomatch=0]\n",
    "x2 = f_ind_edu[, .(name_id, is_mba, degree)\n",
    "    ][x2, on=.(name_id)]\n",
    "\n",
    "x3 = f_ind_emp[processed_company_data, on=.(company_id), nomatch=0\n",
    "    ][f_ind_edu[, .(name_id, is_mba, degree)], on=.(name_id), nomatch=0\n",
    "    ][f_ind_prof[, .(name_id, yob=2019-age, gender, nationality)], on=.(name_id), nomatch=0]\n",
    "\n",
    "\n",
    "nrow(x1)\n",
    "nrow(x2)\n",
    "nrow(x3)"
   ]
  },
  {
   "cell_type": "code",
   "execution_count": 223,
   "metadata": {},
   "outputs": [
    {
     "data": {
      "text/html": [
       "0.062200956937799"
      ],
      "text/latex": [
       "0.062200956937799"
      ],
      "text/markdown": [
       "0.062200956937799"
      ],
      "text/plain": [
       "[1] 0.06220096"
      ]
     },
     "metadata": {},
     "output_type": "display_data"
    }
   ],
   "source": [
    "1-392/418"
   ]
  },
  {
   "cell_type": "code",
   "execution_count": 228,
   "metadata": {},
   "outputs": [
    {
     "data": {
      "text/html": [
       "0.000956342944579926"
      ],
      "text/latex": [
       "0.000956342944579926"
      ],
      "text/markdown": [
       "0.000956342944579926"
      ],
      "text/plain": [
       "[1] 0.0009563429"
      ]
     },
     "metadata": {},
     "output_type": "display_data"
    }
   ],
   "source": [
    "40/41826"
   ]
  },
  {
   "cell_type": "code",
   "execution_count": 232,
   "metadata": {
    "scrolled": true
   },
   "outputs": [],
   "source": [
    "f_firm_prof = f_ind_emp[processed_company_data, on=.(company_id), nomatch=0\n",
    "    ][f_ind_edu[, .(name_id, is_mba, degree)], on=.(name_id), nomatch=0\n",
    "    ][f_ind_prof[, .(name_id, yob=2019-age, gender, nationality)], on=.(name_id), nomatch=0\n",
    "    ][, ':='(age=role_start_year-yob)\n",
    "    ][, .(company=company[1], sector=sector[1], market_cap=market_cap[1], revenue=revenue[1], \n",
    "          n_employee=n_employee[1], state=state[1], headoffice_address=headoffice_address[1], \n",
    "          lat=lat[1], lng=lng[1],\n",
    "          mba_pct=sum(is_mba)/.N, \n",
    "          non_mba_pct=sum(!is_mba)/.N,\n",
    "          degree_bachelor_pct=sum(degree=='Bachelor')/.N, \n",
    "          degree_master_pct=sum(degree=='Master')/.N,\n",
    "          degree_phd_pct=sum(degree=='PhD')/.N,\n",
    "          degree_others_pct=sum(!degree %in% c('Bachelor', 'Master', 'PhD'))/.N,\n",
    "          male_pct=sum(gender=='M')/.N,\n",
    "          female_pct=sum(gender=='F')/.N,\n",
    "          us_pct=sum(nationality=='American', na.rm=T)/.N,\n",
    "          non_us_pct=sum(nationality!='American', na.rm=T)/.N,\n",
    "          na_nationality_pct=sum(is.na(nationality))/.N),\n",
    "      keyby=.(company_id)]"
   ]
  },
  {
   "cell_type": "code",
   "execution_count": 233,
   "metadata": {},
   "outputs": [
    {
     "name": "stdout",
     "output_type": "stream",
     "text": [
      "-f_firm_prof- saved  (0.04 secs)\n"
     ]
    }
   ],
   "source": [
    "sv(f_firm_prof, path='.')\n",
    "fwrite(f_firm_prof, 'f_firm_prof.csv')"
   ]
  },
  {
   "cell_type": "markdown",
   "metadata": {},
   "source": [
    "## link: firm-uni"
   ]
  },
  {
   "cell_type": "code",
   "execution_count": 18,
   "metadata": {},
   "outputs": [
    {
     "name": "stdout",
     "output_type": "stream",
     "text": [
      "-f_ind_emp- already exists, will NOT load again!  (0 secs)\n",
      "-f_firm_prof- already exists, will NOT load again!  (0 secs)\n",
      "-f_ind_edu- loaded  (2.06 secs)\n"
     ]
    }
   ],
   "source": [
    "ld(f_ind_emp, path='.')\n",
    "ld(f_firm_prof, path='.')\n",
    "ld(f_ind_edu, path='.')"
   ]
  },
  {
   "cell_type": "code",
   "execution_count": 15,
   "metadata": {},
   "outputs": [
    {
     "name": "stdout",
     "output_type": "stream",
     "text": [
      "-f_ind_emp- already exists, will NOT load again!  (0 secs)\n",
      "-f_firm_prof- already exists, will NOT load again!  (0 secs)\n"
     ]
    },
    {
     "data": {
      "text/html": [
       "<table>\n",
       "<thead><tr><th scope=col>university_id</th><th scope=col>university_lat</th><th scope=col>university_lng</th></tr></thead>\n",
       "<tbody>\n",
       "\t<tr><td>62520    </td><td>43.13895 </td><td>-70.93703</td></tr>\n",
       "</tbody>\n",
       "</table>\n"
      ],
      "text/latex": [
       "\\begin{tabular}{r|lll}\n",
       " university\\_id & university\\_lat & university\\_lng\\\\\n",
       "\\hline\n",
       "\t 62520     & 43.13895  & -70.93703\\\\\n",
       "\\end{tabular}\n"
      ],
      "text/markdown": [
       "\n",
       "| university_id | university_lat | university_lng |\n",
       "|---|---|---|\n",
       "| 62520     | 43.13895  | -70.93703 |\n",
       "\n"
      ],
      "text/plain": [
       "  university_id university_lat university_lng\n",
       "1 62520         43.13895       -70.93703     "
      ]
     },
     "metadata": {},
     "output_type": "display_data"
    },
    {
     "name": "stdout",
     "output_type": "stream",
     "text": [
      "-uni_coord- saved  (0 secs)\n"
     ]
    }
   ],
   "source": [
    "uni_coord = fread('tmp_university.csv')[, .(university_id=id, university_lat=lat, university_lng=lng)]\n",
    "uni_coord[1]\n",
    "sv(uni_coord, path='.')"
   ]
  },
  {
   "cell_type": "code",
   "execution_count": 19,
   "metadata": {},
   "outputs": [
    {
     "data": {
      "text/html": [
       "<table>\n",
       "<thead><tr><th scope=col>company_id</th><th scope=col>university_id</th><th scope=col>company</th><th scope=col>university</th><th scope=col>n_grad</th><th scope=col>company_lat</th><th scope=col>company_lng</th><th scope=col>university_lat</th><th scope=col>university_lng</th></tr></thead>\n",
       "<tbody>\n",
       "\t<tr><td>14355                                                   </td><td>62520                                                   </td><td>L3HARRIS TECHNOLOGIES INC (Harris Corp prior to 07/2019)</td><td>University of New Hampshire                             </td><td>1                                                       </td><td>28.09078                                                </td><td>-80.63855                                               </td><td>43.13895                                                </td><td>-70.93703                                               </td></tr>\n",
       "</tbody>\n",
       "</table>\n"
      ],
      "text/latex": [
       "\\begin{tabular}{r|lllllllll}\n",
       " company\\_id & university\\_id & company & university & n\\_grad & company\\_lat & company\\_lng & university\\_lat & university\\_lng\\\\\n",
       "\\hline\n",
       "\t 14355                                                    & 62520                                                    & L3HARRIS TECHNOLOGIES INC (Harris Corp prior to 07/2019) & University of New Hampshire                              & 1                                                        & 28.09078                                                 & -80.63855                                                & 43.13895                                                 & -70.93703                                               \\\\\n",
       "\\end{tabular}\n"
      ],
      "text/markdown": [
       "\n",
       "| company_id | university_id | company | university | n_grad | company_lat | company_lng | university_lat | university_lng |\n",
       "|---|---|---|---|---|---|---|---|---|\n",
       "| 14355                                                    | 62520                                                    | L3HARRIS TECHNOLOGIES INC (Harris Corp prior to 07/2019) | University of New Hampshire                              | 1                                                        | 28.09078                                                 | -80.63855                                                | 43.13895                                                 | -70.93703                                                |\n",
       "\n"
      ],
      "text/plain": [
       "  company_id university_id\n",
       "1 14355      62520        \n",
       "  company                                                 \n",
       "1 L3HARRIS TECHNOLOGIES INC (Harris Corp prior to 07/2019)\n",
       "  university                  n_grad company_lat company_lng university_lat\n",
       "1 University of New Hampshire 1      28.09078    -80.63855   43.13895      \n",
       "  university_lng\n",
       "1 -70.93703     "
      ]
     },
     "metadata": {},
     "output_type": "display_data"
    },
    {
     "name": "stdout",
     "output_type": "stream",
     "text": [
      "-link_firm_uni- saved  (0.03 secs)\n"
     ]
    }
   ],
   "source": [
    "top1k_company_id = f_firm_prof[1:1000, company_id]\n",
    "\n",
    "link_firm_uni = f_ind_emp[in_board=='Yes' & company_id %in% top1k_company_id,\n",
    "    .(name_id, company, company_id)\n",
    "    ][f_ind_edu[university_id != 0, \n",
    "                .(name_id, university, university_id)], \n",
    "      nomatch=0,\n",
    "      on=.(name_id)\n",
    "    ][, .(company=company[1], university=university[1],\n",
    "          n_grad=uniqueN(name_id)), \n",
    "      keyby=.(company_id, university_id)\n",
    "    ][f_firm_prof[, .(company_id, company_lat=lat, company_lng=lng)],\n",
    "      on=.(company_id)\n",
    "    ][uni_coord, nomatch=0, on=.(university_id)]\n",
    "\n",
    "link_firm_uni[1]\n",
    "sv(link_firm_uni, path='.')\n",
    "fwrite(link_firm_uni, 'link_firm_uni.csv')"
   ]
  },
  {
   "cell_type": "markdown",
   "metadata": {},
   "source": [
    "## uni_prof"
   ]
  },
  {
   "cell_type": "code",
   "execution_count": 44,
   "metadata": {},
   "outputs": [
    {
     "name": "stdout",
     "output_type": "stream",
     "text": [
      "-link_firm_uni- already exists, will NOT load again!  (0 secs)\n"
     ]
    }
   ],
   "source": [
    "ld(link_firm_uni)"
   ]
  },
  {
   "cell_type": "code",
   "execution_count": 20,
   "metadata": {},
   "outputs": [
    {
     "data": {
      "text/html": [
       "<table>\n",
       "<thead><tr><th scope=col>university_id</th><th scope=col>university</th><th scope=col>n_grad</th></tr></thead>\n",
       "<tbody>\n",
       "\t<tr><td>63013                  </td><td>Harvard Business School</td><td>2140                   </td></tr>\n",
       "</tbody>\n",
       "</table>\n"
      ],
      "text/latex": [
       "\\begin{tabular}{r|lll}\n",
       " university\\_id & university & n\\_grad\\\\\n",
       "\\hline\n",
       "\t 63013                   & Harvard Business School & 2140                   \\\\\n",
       "\\end{tabular}\n"
      ],
      "text/markdown": [
       "\n",
       "| university_id | university | n_grad |\n",
       "|---|---|---|\n",
       "| 63013                   | Harvard Business School | 2140                    |\n",
       "\n"
      ],
      "text/plain": [
       "  university_id university              n_grad\n",
       "1 63013         Harvard Business School 2140  "
      ]
     },
     "metadata": {},
     "output_type": "display_data"
    },
    {
     "name": "stdout",
     "output_type": "stream",
     "text": [
      "-top500_uni- saved  (0 secs)\n"
     ]
    }
   ],
   "source": [
    "top500_uni = link_firm_uni[, \n",
    "     .(university=university[1], n_grad=sum(n_grad)), \n",
    "     keyby=.(university_id)\n",
    "    ][order(-n_grad)]\n",
    "top500_uni[1]\n",
    "sv(top500_uni, path='.')\n",
    "fwrite(top500_uni, 'top500_uni.csv')"
   ]
  },
  {
   "cell_type": "markdown",
   "metadata": {},
   "source": [
    "## link: firm-firm"
   ]
  },
  {
   "cell_type": "markdown",
   "metadata": {},
   "source": [
    "We do two things here:\n",
    "\n",
    "- remove company name\n",
    "- only keep companies that exist in `processed_company_data.csv`"
   ]
  },
  {
   "cell_type": "code",
   "execution_count": 106,
   "metadata": {},
   "outputs": [
    {
     "name": "stdout",
     "output_type": "stream",
     "text": [
      "-f_firm_net- loaded  (8.3 secs)\n"
     ]
    }
   ],
   "source": [
    "ld(f_firm_net, path='.', force=T)"
   ]
  },
  {
   "cell_type": "code",
   "execution_count": 112,
   "metadata": {},
   "outputs": [],
   "source": [
    "processed_company_id = fread('processed_company_data.csv')[, unique(company_id)]\n",
    "\n",
    "f_firm_net = f_firm_net[from_company_id %in% processed_company_id & to_company_id %in% processed_company_id\n",
    "    ][, ':='(from_company, to_company)]\n",
    "\n",
    "fwrite(f_firm_net, 'f_firm_net.csv')"
   ]
  },
  {
   "cell_type": "code",
   "execution_count": 107,
   "metadata": {},
   "outputs": [
    {
     "data": {
      "text/html": [
       "<table>\n",
       "<thead><tr><th scope=col>from_company</th><th scope=col>from_company_id</th><th scope=col>to_company</th><th scope=col>to_company_id</th><th scope=col>name</th><th scope=col>name_id</th><th scope=col>role_in_from_company</th><th scope=col>role_in_from_company_start_date</th><th scope=col>role_in_from_company_end_date</th><th scope=col>role_in_to_company</th><th scope=col>role_in_to_company_start_date</th><th scope=col>role_in_to_company_end_date</th></tr></thead>\n",
       "<tbody>\n",
       "\t<tr><td>GREENHILL &amp; CO INC                </td><td>40757                                 </td><td>1 800 CONTACTS INC (De-listed 09/2007)</td><td>3                                     </td><td>Steve Key                             </td><td>59796                                 </td><td>Independent Director (Brd) (SD)       </td><td>2004-05-01                            </td><td>NA                                    </td><td>Independent Director (Brd) (SD)       </td><td>2005-07-28                            </td><td>2007-09-07                            </td></tr>\n",
       "</tbody>\n",
       "</table>\n"
      ],
      "text/latex": [
       "\\begin{tabular}{r|llllllllllll}\n",
       " from\\_company & from\\_company\\_id & to\\_company & to\\_company\\_id & name & name\\_id & role\\_in\\_from\\_company & role\\_in\\_from\\_company\\_start\\_date & role\\_in\\_from\\_company\\_end\\_date & role\\_in\\_to\\_company & role\\_in\\_to\\_company\\_start\\_date & role\\_in\\_to\\_company\\_end\\_date\\\\\n",
       "\\hline\n",
       "\t GREENHILL \\& CO INC                   & 40757                                  & 1 800 CONTACTS INC (De-listed 09/2007) & 3                                      & Steve Key                              & 59796                                  & Independent Director (Brd) (SD)        & 2004-05-01                             & NA                                     & Independent Director (Brd) (SD)        & 2005-07-28                             & 2007-09-07                            \\\\\n",
       "\\end{tabular}\n"
      ],
      "text/markdown": [
       "\n",
       "| from_company | from_company_id | to_company | to_company_id | name | name_id | role_in_from_company | role_in_from_company_start_date | role_in_from_company_end_date | role_in_to_company | role_in_to_company_start_date | role_in_to_company_end_date |\n",
       "|---|---|---|---|---|---|---|---|---|---|---|---|\n",
       "| GREENHILL & CO INC                     | 40757                                  | 1 800 CONTACTS INC (De-listed 09/2007) | 3                                      | Steve Key                              | 59796                                  | Independent Director (Brd) (SD)        | 2004-05-01                             | NA                                     | Independent Director (Brd) (SD)        | 2005-07-28                             | 2007-09-07                             |\n",
       "\n"
      ],
      "text/plain": [
       "  from_company       from_company_id to_company                            \n",
       "1 GREENHILL & CO INC 40757           1 800 CONTACTS INC (De-listed 09/2007)\n",
       "  to_company_id name      name_id role_in_from_company           \n",
       "1 3             Steve Key 59796   Independent Director (Brd) (SD)\n",
       "  role_in_from_company_start_date role_in_from_company_end_date\n",
       "1 2004-05-01                      <NA>                         \n",
       "  role_in_to_company              role_in_to_company_start_date\n",
       "1 Independent Director (Brd) (SD) 2005-07-28                   \n",
       "  role_in_to_company_end_date\n",
       "1 2007-09-07                 "
      ]
     },
     "metadata": {},
     "output_type": "display_data"
    }
   ],
   "source": [
    "f_firm_net[1]"
   ]
  },
  {
   "cell_type": "markdown",
   "metadata": {},
   "source": [
    "## link: sector-sector"
   ]
  },
  {
   "cell_type": "code",
   "execution_count": 101,
   "metadata": {},
   "outputs": [
    {
     "name": "stdout",
     "output_type": "stream",
     "text": [
      "-f_firm_prof- loaded  (0.03 secs)\n",
      "-f_firm_net- loaded  (8.96 secs)\n"
     ]
    }
   ],
   "source": [
    "ld(f_firm_prof, path='.', force=T)\n",
    "ld(f_firm_net, path='.', force=T)\n",
    "company_id_pool = f_firm_prof[, unique(company_id)]"
   ]
  },
  {
   "cell_type": "code",
   "execution_count": 102,
   "metadata": {
    "scrolled": true
   },
   "outputs": [],
   "source": [
    "f_firm_net_1 = f_firm_net[role_in_from_company_end_date<=role_in_to_company_start_date\n",
    "    ][, .(from_company_id=from_company_id,\n",
    "          to_company_id=to_company_id)]\n",
    "\n",
    "f_firm_net_2 = f_firm_net[role_in_from_company_start_date>=role_in_to_company_end_date\n",
    "    ][, .(from_company_id=to_company_id,\n",
    "          to_company_id=from_company_id)]\n",
    "\n",
    "f_ind_net = rbindlist(list(f_firm_net_1, f_firm_net_2), fill=T)[f_firm_prof[, .(company_id, sector)], \n",
    "      .(from_company_id, to_company_id, from_sector=sector),\n",
    "      on=c('from_company_id==company_id'),\n",
    "      nomatch=NULL\n",
    "    ][f_firm_prof[, .(company_id, sector)],\n",
    "      .(from_company_id, to_company_id, from_sector, to_sector=sector),\n",
    "      on=c('to_company_id==company_id'),\n",
    "      nomatch=NULL\n",
    "    ][, .(n=.N), keyby=.(from_sector, to_sector)\n",
    "    ][order(from_sector, -n),\n",
    "      .SD[1:3],\n",
    "      keyby=.(from_sector)]\n",
    "\n",
    "f_ind_net_full = rbindlist(list(f_firm_net_1, f_firm_net_2), fill=T)[f_firm_prof[, .(company_id, sector)], \n",
    "      .(from_company_id, to_company_id, from_sector=sector),\n",
    "      on=c('from_company_id==company_id'),\n",
    "      nomatch=NULL\n",
    "    ][f_firm_prof[, .(company_id, sector)],\n",
    "      .(from_company_id, to_company_id, from_sector, to_sector=sector),\n",
    "      on=c('to_company_id==company_id'),\n",
    "      nomatch=NULL\n",
    "    ][, .(n=.N), keyby=.(from_sector, to_sector)\n",
    "    ][order(from_sector, -n)]"
   ]
  },
  {
   "cell_type": "code",
   "execution_count": 103,
   "metadata": {
    "scrolled": true
   },
   "outputs": [
    {
     "data": {
      "text/html": [
       "44"
      ],
      "text/latex": [
       "44"
      ],
      "text/markdown": [
       "44"
      ],
      "text/plain": [
       "[1] 44"
      ]
     },
     "metadata": {},
     "output_type": "display_data"
    },
    {
     "data": {
      "text/html": [
       "<table>\n",
       "<thead><tr><th scope=col>from_sector</th><th scope=col>to_sector</th><th scope=col>n</th><th scope=col>id</th></tr></thead>\n",
       "<tbody>\n",
       "\t<tr><td>1 </td><td>15</td><td>66</td><td> 1</td></tr>\n",
       "\t<tr><td>1 </td><td> 1</td><td>56</td><td> 2</td></tr>\n",
       "\t<tr><td>1 </td><td> 7</td><td>54</td><td> 3</td></tr>\n",
       "\t<tr><td>1 </td><td>16</td><td>51</td><td> 4</td></tr>\n",
       "\t<tr><td>1 </td><td>37</td><td>32</td><td> 5</td></tr>\n",
       "\t<tr><td>1 </td><td> 6</td><td>21</td><td> 6</td></tr>\n",
       "\t<tr><td>1 </td><td>12</td><td>20</td><td> 7</td></tr>\n",
       "\t<tr><td>1 </td><td>21</td><td>20</td><td> 8</td></tr>\n",
       "\t<tr><td>1 </td><td> 3</td><td>18</td><td> 9</td></tr>\n",
       "\t<tr><td>1 </td><td>23</td><td>16</td><td>10</td></tr>\n",
       "</tbody>\n",
       "</table>\n"
      ],
      "text/latex": [
       "\\begin{tabular}{r|llll}\n",
       " from\\_sector & to\\_sector & n & id\\\\\n",
       "\\hline\n",
       "\t 1  & 15 & 66 &  1\\\\\n",
       "\t 1  &  1 & 56 &  2\\\\\n",
       "\t 1  &  7 & 54 &  3\\\\\n",
       "\t 1  & 16 & 51 &  4\\\\\n",
       "\t 1  & 37 & 32 &  5\\\\\n",
       "\t 1  &  6 & 21 &  6\\\\\n",
       "\t 1  & 12 & 20 &  7\\\\\n",
       "\t 1  & 21 & 20 &  8\\\\\n",
       "\t 1  &  3 & 18 &  9\\\\\n",
       "\t 1  & 23 & 16 & 10\\\\\n",
       "\\end{tabular}\n"
      ],
      "text/markdown": [
       "\n",
       "| from_sector | to_sector | n | id |\n",
       "|---|---|---|---|\n",
       "| 1  | 15 | 66 |  1 |\n",
       "| 1  |  1 | 56 |  2 |\n",
       "| 1  |  7 | 54 |  3 |\n",
       "| 1  | 16 | 51 |  4 |\n",
       "| 1  | 37 | 32 |  5 |\n",
       "| 1  |  6 | 21 |  6 |\n",
       "| 1  | 12 | 20 |  7 |\n",
       "| 1  | 21 | 20 |  8 |\n",
       "| 1  |  3 | 18 |  9 |\n",
       "| 1  | 23 | 16 | 10 |\n",
       "\n"
      ],
      "text/plain": [
       "   from_sector to_sector n  id\n",
       "1  1           15        66  1\n",
       "2  1            1        56  2\n",
       "3  1            7        54  3\n",
       "4  1           16        51  4\n",
       "5  1           37        32  5\n",
       "6  1            6        21  6\n",
       "7  1           12        20  7\n",
       "8  1           21        20  8\n",
       "9  1            3        18  9\n",
       "10 1           23        16 10"
      ]
     },
     "metadata": {},
     "output_type": "display_data"
    }
   ],
   "source": [
    "sectors = f_ind_net[, sort(unique(c(from_sector, to_sector)))]\n",
    "length(sectors)\n",
    "\n",
    "f_ind_net[, ':='(from_sector=match(from_sector, sectors),\n",
    "                 to_sector=match(to_sector, sectors),\n",
    "                 id=1:.N)]\n",
    "f_ind_net_full[, ':='(from_sector=match(from_sector, sectors),\n",
    "                 to_sector=match(to_sector, sectors),\n",
    "                 id=1:.N)]\n",
    "f_ind_net_full[1:10]          "
   ]
  },
  {
   "cell_type": "code",
   "execution_count": 104,
   "metadata": {
    "scrolled": true
   },
   "outputs": [
    {
     "data": {
      "text/html": [
       "<table>\n",
       "<tbody>\n",
       "\t<tr><td>56   </td><td>14   </td><td> 18  </td><td> 0   </td><td> 0   </td><td> 21  </td><td> 54  </td><td> 2   </td><td>13   </td><td> 0   </td><td> 0   </td><td>20   </td><td> 2   </td><td>  0  </td><td> 66  </td><td> 51  </td><td> 2   </td><td>  8  </td><td> 3   </td><td>  2  </td><td> 20  </td><td> 8   </td><td> 16  </td><td> 12  </td><td>    0</td><td>  4  </td><td> 0   </td><td> 0   </td><td> 2   </td><td> 6   </td><td>   2 </td><td>   8 </td><td> 0   </td><td> 0   </td><td> 12  </td><td> 4   </td><td>  32 </td><td>  0  </td><td>10   </td><td>  8  </td><td>0    </td><td>12   </td><td> 12  </td><td> 6   </td></tr>\n",
       "\t<tr><td> 8   </td><td>52   </td><td>  4  </td><td> 0   </td><td> 4   </td><td> 18  </td><td> 38  </td><td> 6   </td><td>32   </td><td> 0   </td><td> 8   </td><td>16   </td><td> 4   </td><td>  2  </td><td> 74  </td><td> 52  </td><td> 2   </td><td>  2  </td><td>10   </td><td> 12  </td><td> 12  </td><td>10   </td><td> 14  </td><td>  2  </td><td>    0</td><td>  8  </td><td> 2   </td><td> 4   </td><td> 6   </td><td> 2   </td><td>  10 </td><td>  18 </td><td> 0   </td><td> 6   </td><td> 14  </td><td>21   </td><td>  14 </td><td> 20  </td><td>12   </td><td>  6  </td><td>0    </td><td>36   </td><td> 14  </td><td> 0   </td></tr>\n",
       "\t<tr><td> 8   </td><td>14   </td><td>451  </td><td> 8   </td><td> 2   </td><td> 51  </td><td> 18  </td><td>18   </td><td>24   </td><td> 4   </td><td> 4   </td><td>12   </td><td>10   </td><td> 28  </td><td> 50  </td><td> 26  </td><td>16   </td><td> 12  </td><td> 6   </td><td> 54  </td><td> 18  </td><td> 4   </td><td> 16  </td><td> 74  </td><td>   14</td><td> 36  </td><td> 0   </td><td> 6   </td><td>18   </td><td>10   </td><td>  24 </td><td>   8 </td><td> 8   </td><td>12   </td><td> 60  </td><td> 6   </td><td>  48 </td><td>158  </td><td> 5   </td><td> 30  </td><td>6    </td><td> 8   </td><td> 94  </td><td>10   </td></tr>\n",
       "\t<tr><td> 4   </td><td> 8   </td><td> 30  </td><td>14   </td><td> 0   </td><td>  6  </td><td>  2  </td><td>10   </td><td> 4   </td><td> 0   </td><td> 4   </td><td> 4   </td><td> 0   </td><td>  2  </td><td>  6  </td><td>  0  </td><td> 0   </td><td> 18  </td><td> 4   </td><td>  4  </td><td>  2  </td><td> 6   </td><td>  4  </td><td>  2  </td><td>    0</td><td> 25  </td><td> 0   </td><td> 0   </td><td> 4   </td><td> 0   </td><td>   0 </td><td>   2 </td><td> 0   </td><td> 0   </td><td>  0  </td><td> 0   </td><td>   8 </td><td> 10  </td><td> 0   </td><td>  2  </td><td>2    </td><td> 2   </td><td> 12  </td><td> 2   </td></tr>\n",
       "\t<tr><td> 0   </td><td> 0   </td><td>  0  </td><td> 2   </td><td> 0   </td><td>  0  </td><td>  0  </td><td> 0   </td><td> 2   </td><td> 0   </td><td> 0   </td><td> 0   </td><td> 0   </td><td>  0  </td><td>  4  </td><td>  0  </td><td> 0   </td><td>  2  </td><td> 0   </td><td>  0  </td><td>  0  </td><td> 0   </td><td>  0  </td><td>  0  </td><td>    0</td><td>  0  </td><td> 0   </td><td> 0   </td><td> 0   </td><td> 0   </td><td>   0 </td><td>   0 </td><td> 0   </td><td> 0   </td><td>  0  </td><td> 0   </td><td>   0 </td><td>  8  </td><td> 0   </td><td>  0  </td><td>0    </td><td> 0   </td><td>  0  </td><td> 0   </td></tr>\n",
       "\t<tr><td>18   </td><td> 4   </td><td> 28  </td><td> 2   </td><td> 6   </td><td>160  </td><td> 16  </td><td>12   </td><td>30   </td><td> 6   </td><td> 2   </td><td> 6   </td><td> 6   </td><td> 12  </td><td> 98  </td><td> 42  </td><td> 8   </td><td> 22  </td><td> 6   </td><td> 26  </td><td> 44  </td><td>40   </td><td> 50  </td><td> 56  </td><td>   10</td><td> 34  </td><td> 4   </td><td> 6   </td><td>12   </td><td> 4   </td><td>  18 </td><td>  46 </td><td> 2   </td><td>20   </td><td> 22  </td><td> 6   </td><td> 132 </td><td> 46  </td><td> 0   </td><td> 32  </td><td>0    </td><td>10   </td><td> 40  </td><td> 4   </td></tr>\n",
       "\t<tr><td>26   </td><td> 6   </td><td> 28  </td><td> 0   </td><td> 0   </td><td> 24  </td><td>188  </td><td> 4   </td><td>52   </td><td> 2   </td><td>34   </td><td>10   </td><td> 2   </td><td> 16  </td><td> 68  </td><td> 57  </td><td> 0   </td><td> 28  </td><td>20   </td><td> 16  </td><td> 16  </td><td>14   </td><td> 18  </td><td> 12  </td><td>    2</td><td>  1  </td><td> 0   </td><td> 0   </td><td> 2   </td><td>25   </td><td>  23 </td><td> 130 </td><td> 0   </td><td>23   </td><td>  6  </td><td>10   </td><td>  34 </td><td> 22  </td><td>24   </td><td> 20  </td><td>0    </td><td>18   </td><td> 34  </td><td> 4   </td></tr>\n",
       "\t<tr><td> 0   </td><td> 0   </td><td> 22  </td><td>14   </td><td> 0   </td><td>  6  </td><td>  2  </td><td>44   </td><td>12   </td><td> 4   </td><td> 4   </td><td> 2   </td><td> 0   </td><td>  0  </td><td> 32  </td><td>  6  </td><td> 0   </td><td> 32  </td><td>10   </td><td> 89  </td><td> 24  </td><td>20   </td><td> 30  </td><td>  8  </td><td>   12</td><td> 49  </td><td> 8   </td><td> 0   </td><td>18   </td><td> 0   </td><td>   6 </td><td>   4 </td><td> 0   </td><td> 2   </td><td>  8  </td><td> 0   </td><td>  18 </td><td> 10  </td><td> 4   </td><td>  6  </td><td>0    </td><td>10   </td><td>  8  </td><td> 4   </td></tr>\n",
       "\t<tr><td> 4   </td><td>16   </td><td> 14  </td><td> 0   </td><td> 2   </td><td> 32  </td><td> 40  </td><td> 0   </td><td>47   </td><td>10   </td><td> 2   </td><td> 4   </td><td> 2   </td><td>  2  </td><td> 36  </td><td> 58  </td><td>12   </td><td> 20  </td><td> 6   </td><td>  9  </td><td>  2  </td><td>12   </td><td> 20  </td><td>  6  </td><td>    0</td><td> 32  </td><td> 4   </td><td> 0   </td><td> 2   </td><td> 6   </td><td>  29 </td><td>   4 </td><td> 0   </td><td> 6   </td><td> 24  </td><td>10   </td><td>  20 </td><td> 32  </td><td> 6   </td><td> 10  </td><td>0    </td><td>18   </td><td> 32  </td><td> 0   </td></tr>\n",
       "\t<tr><td> 0   </td><td> 2   </td><td>  0  </td><td> 0   </td><td> 0   </td><td>  4  </td><td>  0  </td><td> 0   </td><td>10   </td><td> 2   </td><td> 0   </td><td> 2   </td><td> 0   </td><td>  2  </td><td>  0  </td><td>  4  </td><td> 2   </td><td>  8  </td><td> 0   </td><td>  8  </td><td>  6  </td><td> 0   </td><td>  2  </td><td>  0  </td><td>    0</td><td>  8  </td><td> 2   </td><td> 0   </td><td> 0   </td><td> 0   </td><td>   0 </td><td>   0 </td><td> 0   </td><td> 2   </td><td>  2  </td><td> 0   </td><td>   0 </td><td> 12  </td><td> 0   </td><td>  2  </td><td>0    </td><td> 8   </td><td>  0  </td><td> 0   </td></tr>\n",
       "\t<tr><td> 2   </td><td> 8   </td><td>  2  </td><td> 1   </td><td> 0   </td><td>  4  </td><td> 14  </td><td> 2   </td><td>10   </td><td> 4   </td><td> 6   </td><td> 0   </td><td> 0   </td><td>  0  </td><td> 44  </td><td>  4  </td><td> 0   </td><td>  0  </td><td> 6   </td><td>  4  </td><td>  2  </td><td> 6   </td><td>  0  </td><td>  8  </td><td>    0</td><td>  8  </td><td> 0   </td><td> 0   </td><td> 0   </td><td> 2   </td><td>   2 </td><td>   4 </td><td> 0   </td><td> 0   </td><td> 10  </td><td> 4   </td><td>   2 </td><td>  6  </td><td> 4   </td><td>  2  </td><td>0    </td><td> 0   </td><td>  0  </td><td> 2   </td></tr>\n",
       "\t<tr><td>12   </td><td> 4   </td><td> 30  </td><td> 0   </td><td> 2   </td><td>  4  </td><td> 16  </td><td> 4   </td><td>16   </td><td> 2   </td><td> 6   </td><td>14   </td><td> 0   </td><td>  2  </td><td> 28  </td><td> 36  </td><td> 0   </td><td>  6  </td><td> 0   </td><td> 12  </td><td> 12  </td><td> 4   </td><td> 16  </td><td>  8  </td><td>    2</td><td>  4  </td><td> 4   </td><td> 0   </td><td> 4   </td><td> 0   </td><td>  20 </td><td>  16 </td><td> 0   </td><td> 2   </td><td>  4  </td><td> 0   </td><td>  28 </td><td> 12  </td><td>14   </td><td>  4  </td><td>4    </td><td>14   </td><td>  6  </td><td> 2   </td></tr>\n",
       "\t<tr><td> 0   </td><td> 0   </td><td>  6  </td><td> 0   </td><td> 0   </td><td> 10  </td><td>  2  </td><td> 0   </td><td> 0   </td><td> 0   </td><td> 0   </td><td> 0   </td><td>14   </td><td>  0  </td><td>  2  </td><td>  4  </td><td> 0   </td><td>  1  </td><td> 2   </td><td>  2  </td><td>  0  </td><td> 0   </td><td>  2  </td><td>  4  </td><td>    0</td><td>  0  </td><td> 0   </td><td> 0   </td><td> 0   </td><td> 0   </td><td>   0 </td><td>   0 </td><td> 0   </td><td> 0   </td><td>  4  </td><td> 0   </td><td>   2 </td><td>  2  </td><td> 0   </td><td>  0  </td><td>0    </td><td> 2   </td><td>  6  </td><td> 0   </td></tr>\n",
       "\t<tr><td> 4   </td><td> 4   </td><td>  4  </td><td> 0   </td><td> 0   </td><td> 12  </td><td>  6  </td><td> 2   </td><td> 0   </td><td> 0   </td><td> 0   </td><td> 6   </td><td> 0   </td><td> 74  </td><td>  4  </td><td> 12  </td><td> 0   </td><td>  4  </td><td> 2   </td><td>  0  </td><td>  4  </td><td> 0   </td><td>  4  </td><td>  6  </td><td>    0</td><td>  6  </td><td> 0   </td><td> 0   </td><td> 0   </td><td> 0   </td><td>  38 </td><td>   0 </td><td> 0   </td><td> 0   </td><td>  2  </td><td> 2   </td><td>   8 </td><td>  2  </td><td> 0   </td><td>  6  </td><td>2    </td><td>14   </td><td>143  </td><td> 0   </td></tr>\n",
       "\t<tr><td>22   </td><td>36   </td><td> 38  </td><td> 0   </td><td> 0   </td><td> 52  </td><td> 35  </td><td>22   </td><td>68   </td><td> 6   </td><td> 8   </td><td>14   </td><td> 2   </td><td>  0  </td><td>729  </td><td>162  </td><td> 4   </td><td> 31  </td><td>10   </td><td> 26  </td><td>196  </td><td>24   </td><td>217  </td><td> 24  </td><td>   16</td><td> 24  </td><td>10   </td><td> 2   </td><td>22   </td><td>14   </td><td>  14 </td><td> 124 </td><td> 4   </td><td> 4   </td><td>  6  </td><td>22   </td><td> 267 </td><td> 10  </td><td>14   </td><td> 43  </td><td>0    </td><td>36   </td><td> 40  </td><td>14   </td></tr>\n",
       "\t<tr><td>18   </td><td>12   </td><td> 28  </td><td>12   </td><td> 0   </td><td> 12  </td><td> 36  </td><td> 0   </td><td>86   </td><td> 4   </td><td> 2   </td><td>10   </td><td> 0   </td><td>  6  </td><td>175  </td><td>172  </td><td> 0   </td><td> 17  </td><td> 2   </td><td> 16  </td><td> 19  </td><td>16   </td><td> 60  </td><td>  6  </td><td>    4</td><td>  6  </td><td> 0   </td><td> 0   </td><td> 9   </td><td>22   </td><td>  45 </td><td>  18 </td><td> 0   </td><td> 4   </td><td> 18  </td><td> 6   </td><td> 106 </td><td>  4  </td><td>30   </td><td> 16  </td><td>0    </td><td>30   </td><td> 30  </td><td> 2   </td></tr>\n",
       "\t<tr><td> 0   </td><td> 2   </td><td>  4  </td><td> 0   </td><td> 0   </td><td>  2  </td><td>  0  </td><td> 2   </td><td> 6   </td><td> 4   </td><td> 0   </td><td> 0   </td><td> 0   </td><td>  4  </td><td>  0  </td><td>  6  </td><td>14   </td><td> 10  </td><td>12   </td><td> 32  </td><td> 12  </td><td> 0   </td><td>  0  </td><td>  2  </td><td>    0</td><td>  0  </td><td> 2   </td><td> 0   </td><td> 2   </td><td> 0   </td><td>  10 </td><td>   0 </td><td> 0   </td><td> 0   </td><td>  0  </td><td> 0   </td><td>  12 </td><td>  4  </td><td> 0   </td><td>  1  </td><td>2    </td><td> 8   </td><td>  2  </td><td> 0   </td></tr>\n",
       "\t<tr><td> 6   </td><td>10   </td><td> 10  </td><td>18   </td><td> 2   </td><td> 14  </td><td> 44  </td><td>38   </td><td>30   </td><td>10   </td><td> 4   </td><td>14   </td><td> 2   </td><td>  0  </td><td> 26  </td><td>  8  </td><td> 4   </td><td>106  </td><td> 0   </td><td> 34  </td><td> 10  </td><td>16   </td><td>  8  </td><td> 18  </td><td>    4</td><td> 16  </td><td> 0   </td><td> 0   </td><td> 6   </td><td> 2   </td><td>   8 </td><td>  15 </td><td> 0   </td><td> 8   </td><td>  4  </td><td> 0   </td><td>   8 </td><td> 25  </td><td> 4   </td><td>  2  </td><td>6    </td><td>22   </td><td> 18  </td><td> 0   </td></tr>\n",
       "\t<tr><td> 2   </td><td> 2   </td><td>  2  </td><td> 0   </td><td> 0   </td><td>  2  </td><td> 16  </td><td> 0   </td><td> 6   </td><td> 0   </td><td> 6   </td><td> 4   </td><td> 2   </td><td>  0  </td><td> 56  </td><td> 10  </td><td> 4   </td><td>  4  </td><td>20   </td><td>  6  </td><td>  2  </td><td> 4   </td><td>  6  </td><td>  6  </td><td>    0</td><td>  4  </td><td> 0   </td><td> 0   </td><td> 0   </td><td> 2   </td><td>   4 </td><td>   6 </td><td> 0   </td><td> 4   </td><td> 12  </td><td> 2   </td><td>   8 </td><td>  6  </td><td> 4   </td><td>  0  </td><td>0    </td><td>16   </td><td>  2  </td><td> 0   </td></tr>\n",
       "\t<tr><td> 4   </td><td>35   </td><td> 58  </td><td> 6   </td><td> 6   </td><td> 34  </td><td> 16  </td><td>54   </td><td> 7   </td><td>18   </td><td> 2   </td><td> 2   </td><td> 2   </td><td>  2  </td><td> 40  </td><td> 32  </td><td>46   </td><td> 18  </td><td> 4   </td><td>441  </td><td> 20  </td><td>22   </td><td> 26  </td><td> 24  </td><td>    0</td><td> 92  </td><td> 4   </td><td> 0   </td><td>32   </td><td> 1   </td><td>  20 </td><td>   8 </td><td> 0   </td><td>14   </td><td> 30  </td><td> 4   </td><td>  84 </td><td> 18  </td><td> 0   </td><td> 18  </td><td>6    </td><td>14   </td><td> 12  </td><td>12   </td></tr>\n",
       "\t<tr><td> 6   </td><td> 2   </td><td> 18  </td><td> 2   </td><td> 4   </td><td> 57  </td><td> 36  </td><td> 4   </td><td> 6   </td><td>23   </td><td>10   </td><td> 0   </td><td>12   </td><td>  8  </td><td>136  </td><td> 20  </td><td> 0   </td><td> 12  </td><td> 2   </td><td> 22  </td><td>335  </td><td> 2   </td><td> 18  </td><td> 20  </td><td>    8</td><td> 32  </td><td> 0   </td><td> 0   </td><td> 6   </td><td> 2   </td><td>  24 </td><td> 293 </td><td> 2   </td><td> 2   </td><td> 31  </td><td> 4   </td><td>  56 </td><td> 36  </td><td> 2   </td><td> 24  </td><td>0    </td><td>24   </td><td>  6  </td><td>10   </td></tr>\n",
       "\t<tr><td> 0   </td><td> 4   </td><td>  6  </td><td>14   </td><td> 0   </td><td> 12  </td><td> 22  </td><td>10   </td><td>16   </td><td> 4   </td><td> 3   </td><td> 6   </td><td> 2   </td><td>  0  </td><td> 34  </td><td> 22  </td><td> 2   </td><td> 32  </td><td> 0   </td><td> 36  </td><td> 10  </td><td>31   </td><td> 30  </td><td>  4  </td><td>    0</td><td> 20  </td><td> 6   </td><td> 0   </td><td>12   </td><td> 0   </td><td>   2 </td><td>  16 </td><td> 0   </td><td> 4   </td><td>  6  </td><td> 0   </td><td>  15 </td><td> 10  </td><td> 4   </td><td> 14  </td><td>2    </td><td>24   </td><td>  2  </td><td> 0   </td></tr>\n",
       "\t<tr><td>12   </td><td>18   </td><td> 12  </td><td> 4   </td><td> 2   </td><td> 64  </td><td> 10  </td><td>16   </td><td>58   </td><td> 0   </td><td> 2   </td><td>16   </td><td> 6   </td><td>  0  </td><td>351  </td><td> 64  </td><td> 2   </td><td> 10  </td><td> 2   </td><td> 34  </td><td> 40  </td><td>16   </td><td>289  </td><td>  6  </td><td>    4</td><td> 30  </td><td> 2   </td><td> 0   </td><td>20   </td><td>24   </td><td>   4 </td><td>  54 </td><td> 0   </td><td> 6   </td><td> 18  </td><td>25   </td><td> 385 </td><td> 22  </td><td> 4   </td><td> 79  </td><td>2    </td><td>16   </td><td>  6  </td><td> 3   </td></tr>\n",
       "\t<tr><td>10   </td><td> 2   </td><td> 40  </td><td> 0   </td><td> 0   </td><td> 64  </td><td> 18  </td><td> 6   </td><td>12   </td><td> 2   </td><td> 2   </td><td> 4   </td><td>14   </td><td>  0  </td><td> 22  </td><td> 18  </td><td> 2   </td><td>  6  </td><td> 6   </td><td> 30  </td><td> 54  </td><td>10   </td><td>  8  </td><td>188  </td><td>   26</td><td> 14  </td><td> 0   </td><td>56   </td><td> 4   </td><td> 0   </td><td>  16 </td><td>  18 </td><td> 2   </td><td>12   </td><td> 28  </td><td>14   </td><td>  44 </td><td> 68  </td><td> 2   </td><td> 10  </td><td>0    </td><td>14   </td><td> 20  </td><td> 4   </td></tr>\n",
       "\t<tr><td> 0   </td><td> 0   </td><td> 34  </td><td> 0   </td><td> 2   </td><td> 17  </td><td>  2  </td><td> 4   </td><td> 0   </td><td> 0   </td><td> 0   </td><td> 2   </td><td> 0   </td><td>  0  </td><td> 10  </td><td>  2  </td><td> 0   </td><td>  2  </td><td> 0   </td><td>  0  </td><td>  0  </td><td> 0   </td><td>  0  </td><td>  4  </td><td>11515</td><td>  4  </td><td> 0   </td><td> 0   </td><td> 0   </td><td> 0   </td><td>   0 </td><td>   4 </td><td> 2   </td><td> 2   </td><td> 50  </td><td> 0   </td><td>  22 </td><td>123  </td><td> 0   </td><td>  2  </td><td>0    </td><td> 2   </td><td>  4  </td><td>14   </td></tr>\n",
       "\t<tr><td> 4   </td><td> 6   </td><td> 22  </td><td> 4   </td><td> 2   </td><td> 26  </td><td>  4  </td><td>38   </td><td>24   </td><td>26   </td><td> 2   </td><td> 2   </td><td> 4   </td><td>  2  </td><td> 15  </td><td> 10  </td><td>10   </td><td> 14  </td><td> 4   </td><td> 72  </td><td> 12  </td><td>18   </td><td> 14  </td><td> 32  </td><td>    2</td><td>225  </td><td> 2   </td><td> 2   </td><td>44   </td><td> 4   </td><td>  12 </td><td>  14 </td><td> 0   </td><td> 4   </td><td> 62  </td><td> 0   </td><td>  22 </td><td> 28  </td><td> 2   </td><td> 20  </td><td>2    </td><td>20   </td><td> 12  </td><td> 4   </td></tr>\n",
       "\t<tr><td> 4   </td><td> 0   </td><td>  0  </td><td> 0   </td><td> 0   </td><td> 12  </td><td>  0  </td><td> 4   </td><td> 0   </td><td> 2   </td><td> 0   </td><td> 0   </td><td>14   </td><td>  0  </td><td>  4  </td><td>  0  </td><td> 0   </td><td>  0  </td><td> 0   </td><td> 17  </td><td>  0  </td><td> 0   </td><td>  8  </td><td>  2  </td><td>    0</td><td>  6  </td><td> 8   </td><td> 0   </td><td> 2   </td><td> 0   </td><td>   0 </td><td>   6 </td><td> 2   </td><td> 8   </td><td>  0  </td><td> 2   </td><td>  14 </td><td>  2  </td><td> 0   </td><td>  0  </td><td>0    </td><td> 6   </td><td>  0  </td><td> 0   </td></tr>\n",
       "\t<tr><td> 0   </td><td> 0   </td><td>  6  </td><td> 0   </td><td> 2   </td><td>  4  </td><td>  0  </td><td> 0   </td><td> 0   </td><td> 0   </td><td> 0   </td><td> 0   </td><td> 0   </td><td>  2  </td><td>  4  </td><td>  0  </td><td> 0   </td><td>  0  </td><td> 0   </td><td>  0  </td><td>  2  </td><td> 0   </td><td>  0  </td><td> 26  </td><td>    0</td><td>  0  </td><td> 0   </td><td> 2   </td><td> 0   </td><td> 0   </td><td>   0 </td><td>   2 </td><td> 0   </td><td> 0   </td><td>  0  </td><td> 0   </td><td>   2 </td><td>  4  </td><td> 0   </td><td>  0  </td><td>0    </td><td> 0   </td><td>  0  </td><td> 0   </td></tr>\n",
       "\t<tr><td>24   </td><td> 2   </td><td> 16  </td><td> 2   </td><td> 0   </td><td> 28  </td><td>  2  </td><td> 2   </td><td> 3   </td><td> 0   </td><td> 0   </td><td>10   </td><td> 2   </td><td>  0  </td><td> 18  </td><td> 16  </td><td> 0   </td><td>  2  </td><td> 0   </td><td> 35  </td><td>  4  </td><td> 6   </td><td> 17  </td><td> 12  </td><td>    0</td><td> 56  </td><td>10   </td><td> 0   </td><td>67   </td><td> 0   </td><td>   2 </td><td>   0 </td><td> 0   </td><td> 7   </td><td>  8  </td><td> 2   </td><td>  46 </td><td> 16  </td><td> 2   </td><td> 38  </td><td>0    </td><td> 2   </td><td> 12  </td><td> 4   </td></tr>\n",
       "\t<tr><td> 2   </td><td> 0   </td><td> 10  </td><td> 2   </td><td> 0   </td><td>  4  </td><td>  4  </td><td> 0   </td><td> 8   </td><td> 0   </td><td> 2   </td><td> 2   </td><td> 0   </td><td>  4  </td><td>  2  </td><td> 14  </td><td> 0   </td><td>  2  </td><td> 8   </td><td>  2  </td><td>  4  </td><td> 2   </td><td>  4  </td><td>  0  </td><td>   22</td><td>  0  </td><td> 0   </td><td> 0   </td><td> 0   </td><td>46   </td><td>  50 </td><td>   0 </td><td> 0   </td><td> 0   </td><td>  8  </td><td> 4   </td><td>   0 </td><td>  0  </td><td> 0   </td><td>  4  </td><td>0    </td><td> 0   </td><td>  0  </td><td> 0   </td></tr>\n",
       "\t<tr><td> 4   </td><td> 4   </td><td> 20  </td><td> 0   </td><td> 0   </td><td> 20  </td><td> 42  </td><td> 2   </td><td>40   </td><td> 2   </td><td> 0   </td><td>14   </td><td> 0   </td><td> 26  </td><td> 10  </td><td> 35  </td><td> 2   </td><td>  0  </td><td> 0   </td><td> 10  </td><td> 16  </td><td> 2   </td><td>  4  </td><td>  4  </td><td>    8</td><td> 14  </td><td> 2   </td><td> 0   </td><td> 2   </td><td>31   </td><td>1080 </td><td>   2 </td><td> 2   </td><td> 4   </td><td> 20  </td><td> 6   </td><td>  10 </td><td> 18  </td><td>10   </td><td>  0  </td><td>0    </td><td>28   </td><td>118  </td><td> 0   </td></tr>\n",
       "\t<tr><td>10   </td><td>10   </td><td>  4  </td><td>10   </td><td> 4   </td><td> 60  </td><td>103  </td><td>16   </td><td>10   </td><td> 6   </td><td> 4   </td><td>10   </td><td> 2   </td><td>  0  </td><td>125  </td><td> 14  </td><td> 4   </td><td> 34  </td><td> 2   </td><td> 12  </td><td>370  </td><td> 6   </td><td> 22  </td><td> 22  </td><td>    4</td><td>  6  </td><td> 2   </td><td> 8   </td><td> 6   </td><td> 8   </td><td>   6 </td><td>1876 </td><td> 6   </td><td>22   </td><td> 14  </td><td> 8   </td><td>  32 </td><td> 16  </td><td> 0   </td><td> 14  </td><td>0    </td><td> 4   </td><td> 16  </td><td> 6   </td></tr>\n",
       "\t<tr><td> 0   </td><td> 0   </td><td>  2  </td><td> 0   </td><td> 0   </td><td>  4  </td><td>  0  </td><td> 0   </td><td> 0   </td><td> 0   </td><td> 0   </td><td> 0   </td><td> 4   </td><td>  0  </td><td>  0  </td><td>  0  </td><td> 0   </td><td>  2  </td><td> 0   </td><td>  0  </td><td>  0  </td><td> 0   </td><td>  2  </td><td>  2  </td><td>    5</td><td>  0  </td><td> 0   </td><td> 0   </td><td> 0   </td><td> 0   </td><td>   0 </td><td>   0 </td><td> 4   </td><td> 0   </td><td> 18  </td><td> 0   </td><td>   6 </td><td> 42  </td><td> 0   </td><td>  4  </td><td>0    </td><td> 0   </td><td>  0  </td><td> 0   </td></tr>\n",
       "\t<tr><td> 2   </td><td>12   </td><td>  4  </td><td> 0   </td><td> 0   </td><td> 10  </td><td> 16  </td><td> 5   </td><td> 2   </td><td> 0   </td><td> 0   </td><td> 0   </td><td> 0   </td><td>  0  </td><td> 24  </td><td> 10  </td><td> 0   </td><td>  6  </td><td> 0   </td><td> 16  </td><td>  6  </td><td> 6   </td><td>  2  </td><td>  6  </td><td>    0</td><td> 16  </td><td> 0   </td><td> 0   </td><td>24   </td><td> 0   </td><td>  12 </td><td>  34 </td><td> 4   </td><td>44   </td><td>  6  </td><td> 0   </td><td>  18 </td><td> 12  </td><td> 0   </td><td>  4  </td><td>0    </td><td> 2   </td><td>  4  </td><td> 0   </td></tr>\n",
       "\t<tr><td> 4   </td><td> 2   </td><td> 34  </td><td> 0   </td><td> 4   </td><td> 15  </td><td> 12  </td><td>10   </td><td>26   </td><td> 2   </td><td> 6   </td><td> 0   </td><td> 4   </td><td>  0  </td><td> 10  </td><td> 20  </td><td> 0   </td><td>  4  </td><td>14   </td><td> 16  </td><td> 28  </td><td> 0   </td><td>  8  </td><td>  8  </td><td>   52</td><td> 50  </td><td> 0   </td><td> 0   </td><td> 2   </td><td>10   </td><td>  28 </td><td>   8 </td><td> 4   </td><td> 2   </td><td>658  </td><td> 8   </td><td>  14 </td><td> 74  </td><td> 0   </td><td> 12  </td><td>0    </td><td> 6   </td><td> 10  </td><td> 0   </td></tr>\n",
       "\t<tr><td> 0   </td><td> 4   </td><td> 10  </td><td> 0   </td><td> 0   </td><td>  4  </td><td>  0  </td><td> 0   </td><td>12   </td><td> 0   </td><td> 0   </td><td> 2   </td><td> 0   </td><td>  2  </td><td> 14  </td><td>  0  </td><td> 0   </td><td>  4  </td><td> 0   </td><td>  0  </td><td>  0  </td><td> 0   </td><td>  2  </td><td>  8  </td><td>    0</td><td>  0  </td><td> 2   </td><td> 0   </td><td> 2   </td><td> 2   </td><td>  14 </td><td>   6 </td><td> 0   </td><td> 0   </td><td>  4  </td><td>12   </td><td>   6 </td><td>  4  </td><td> 0   </td><td>  0  </td><td>0    </td><td> 0   </td><td>  6  </td><td> 0   </td></tr>\n",
       "\t<tr><td>44   </td><td>22   </td><td> 28  </td><td> 6   </td><td> 2   </td><td>178  </td><td> 10  </td><td>16   </td><td> 8   </td><td>10   </td><td> 6   </td><td>14   </td><td>16   </td><td>  8  </td><td>259  </td><td> 62  </td><td> 6   </td><td> 30  </td><td> 2   </td><td> 78  </td><td> 64  </td><td> 4   </td><td>246  </td><td> 41  </td><td>   13</td><td> 62  </td><td>18   </td><td> 0   </td><td>70   </td><td> 4   </td><td>   9 </td><td>  38 </td><td>22   </td><td>25   </td><td> 38  </td><td> 4   </td><td>1046 </td><td> 64  </td><td> 6   </td><td> 96  </td><td>0    </td><td>28   </td><td> 10  </td><td>14   </td></tr>\n",
       "\t<tr><td> 4   </td><td>10   </td><td>145  </td><td> 6   </td><td>10   </td><td> 51  </td><td>  6  </td><td>10   </td><td>14   </td><td> 0   </td><td> 6   </td><td> 4   </td><td>16   </td><td>  2  </td><td> 39  </td><td>  8  </td><td> 2   </td><td> 14  </td><td> 4   </td><td> 28  </td><td> 28  </td><td>12   </td><td> 14  </td><td> 51  </td><td>  151</td><td> 46  </td><td> 0   </td><td> 2   </td><td>28   </td><td>10   </td><td>  62 </td><td>  21 </td><td> 6   </td><td>10   </td><td>129  </td><td> 2   </td><td>  52 </td><td>307  </td><td> 2   </td><td> 18  </td><td>0    </td><td>14   </td><td> 14  </td><td> 6   </td></tr>\n",
       "\t<tr><td> 4   </td><td> 2   </td><td> 10  </td><td> 0   </td><td> 0   </td><td>  8  </td><td> 34  </td><td> 0   </td><td>12   </td><td> 0   </td><td> 0   </td><td>12   </td><td> 2   </td><td>  0  </td><td> 18  </td><td> 14  </td><td> 0   </td><td>  4  </td><td> 0   </td><td>  2  </td><td>  2  </td><td> 2   </td><td>  2  </td><td>  2  </td><td>    0</td><td>  0  </td><td> 0   </td><td> 0   </td><td> 0   </td><td> 4   </td><td>  34 </td><td>   0 </td><td> 0   </td><td> 0   </td><td>  2  </td><td> 0   </td><td>   0 </td><td>  8  </td><td>34   </td><td>  8  </td><td>0    </td><td>10   </td><td>  0  </td><td> 4   </td></tr>\n",
       "\t<tr><td>16   </td><td> 8   </td><td> 26  </td><td> 0   </td><td> 1   </td><td> 56  </td><td> 14  </td><td> 4   </td><td> 0   </td><td>12   </td><td> 2   </td><td>10   </td><td> 4   </td><td> 20  </td><td>109  </td><td> 18  </td><td> 0   </td><td>  4  </td><td> 4   </td><td> 48  </td><td> 26  </td><td>20   </td><td> 72  </td><td> 20  </td><td>    6</td><td> 40  </td><td>10   </td><td> 2   </td><td>78   </td><td> 6   </td><td>  10 </td><td>  38 </td><td> 4   </td><td>21   </td><td> 14  </td><td> 8   </td><td> 126 </td><td> 21  </td><td> 6   </td><td>241  </td><td>0    </td><td> 8   </td><td> 34  </td><td> 6   </td></tr>\n",
       "\t<tr><td> 0   </td><td> 0   </td><td>  2  </td><td> 0   </td><td> 0   </td><td>  2  </td><td>  0  </td><td> 0   </td><td> 0   </td><td> 0   </td><td> 0   </td><td> 2   </td><td> 0   </td><td>  0  </td><td>  0  </td><td>  2  </td><td> 0   </td><td>  4  </td><td> 0   </td><td>  2  </td><td>  0  </td><td> 4   </td><td>  2  </td><td>  0  </td><td>    0</td><td>  2  </td><td> 0   </td><td> 0   </td><td> 0   </td><td> 0   </td><td>   0 </td><td>   2 </td><td> 0   </td><td> 2   </td><td>  0  </td><td> 2   </td><td>   2 </td><td>  0  </td><td> 0   </td><td>  2  </td><td>0    </td><td> 0   </td><td>  0  </td><td> 0   </td></tr>\n",
       "\t<tr><td>14   </td><td>25   </td><td> 28  </td><td> 4   </td><td> 0   </td><td> 14  </td><td> 18  </td><td> 4   </td><td>18   </td><td> 0   </td><td> 2   </td><td> 6   </td><td> 2   </td><td>  4  </td><td> 32  </td><td> 49  </td><td> 0   </td><td>  6  </td><td> 4   </td><td> 16  </td><td> 10  </td><td> 6   </td><td>  8  </td><td> 24  </td><td>    4</td><td> 22  </td><td> 6   </td><td> 2   </td><td> 6   </td><td> 2   </td><td>  26 </td><td>  14 </td><td> 0   </td><td>10   </td><td>  8  </td><td> 0   </td><td>  24 </td><td>  4  </td><td> 2   </td><td>  0  </td><td>2    </td><td>96   </td><td> 18  </td><td>10   </td></tr>\n",
       "\t<tr><td>10   </td><td> 6   </td><td> 24  </td><td> 0   </td><td> 0   </td><td> 42  </td><td> 32  </td><td> 6   </td><td>32   </td><td> 6   </td><td> 8   </td><td>10   </td><td> 6   </td><td>174  </td><td> 20  </td><td> 16  </td><td> 0   </td><td>  8  </td><td> 4   </td><td> 12  </td><td> 10  </td><td> 2   </td><td>  2  </td><td> 28  </td><td>    4</td><td>  8  </td><td> 0   </td><td> 0   </td><td>14   </td><td>16   </td><td> 212 </td><td>   4 </td><td> 0   </td><td> 6   </td><td> 18  </td><td> 8   </td><td>  12 </td><td>  4  </td><td> 0   </td><td>  6  </td><td>0    </td><td>30   </td><td> 74  </td><td> 0   </td></tr>\n",
       "\t<tr><td> 0   </td><td> 0   </td><td>  2  </td><td> 0   </td><td> 0   </td><td> 12  </td><td>  8  </td><td>12   </td><td> 0   </td><td> 0   </td><td> 0   </td><td> 0   </td><td> 0   </td><td>  2  </td><td> 10  </td><td>  8  </td><td> 2   </td><td>  2  </td><td> 8   </td><td>  4  </td><td>  4  </td><td> 0   </td><td>  3  </td><td>  2  </td><td>    4</td><td> 12  </td><td> 0   </td><td> 0   </td><td> 8   </td><td> 0   </td><td>   2 </td><td>   8 </td><td> 0   </td><td> 2   </td><td>  0  </td><td> 0   </td><td>   6 </td><td>  2  </td><td> 0   </td><td>  6  </td><td>0    </td><td> 6   </td><td>  6  </td><td> 4   </td></tr>\n",
       "</tbody>\n",
       "</table>\n"
      ],
      "text/latex": [
       "\\begin{tabular}{llllllllllllllllllllllllllllllllllllllllllll}\n",
       "\t 56    & 14    &  18   &  0    &  0    &  21   &  54   &  2    & 13    &  0    &  0    & 20    &  2    &   0   &  66   &  51   &  2    &   8   &  3    &   2   &  20   &  8    &  16   &  12   &     0 &   4   &  0    &  0    &  2    &  6    &    2  &    8  &  0    &  0    &  12   &  4    &   32  &   0   & 10    &   8   & 0     & 12    &  12   &  6   \\\\\n",
       "\t  8    & 52    &   4   &  0    &  4    &  18   &  38   &  6    & 32    &  0    &  8    & 16    &  4    &   2   &  74   &  52   &  2    &   2   & 10    &  12   &  12   & 10    &  14   &   2   &     0 &   8   &  2    &  4    &  6    &  2    &   10  &   18  &  0    &  6    &  14   & 21    &   14  &  20   & 12    &   6   & 0     & 36    &  14   &  0   \\\\\n",
       "\t  8    & 14    & 451   &  8    &  2    &  51   &  18   & 18    & 24    &  4    &  4    & 12    & 10    &  28   &  50   &  26   & 16    &  12   &  6    &  54   &  18   &  4    &  16   &  74   &    14 &  36   &  0    &  6    & 18    & 10    &   24  &    8  &  8    & 12    &  60   &  6    &   48  & 158   &  5    &  30   & 6     &  8    &  94   & 10   \\\\\n",
       "\t  4    &  8    &  30   & 14    &  0    &   6   &   2   & 10    &  4    &  0    &  4    &  4    &  0    &   2   &   6   &   0   &  0    &  18   &  4    &   4   &   2   &  6    &   4   &   2   &     0 &  25   &  0    &  0    &  4    &  0    &    0  &    2  &  0    &  0    &   0   &  0    &    8  &  10   &  0    &   2   & 2     &  2    &  12   &  2   \\\\\n",
       "\t  0    &  0    &   0   &  2    &  0    &   0   &   0   &  0    &  2    &  0    &  0    &  0    &  0    &   0   &   4   &   0   &  0    &   2   &  0    &   0   &   0   &  0    &   0   &   0   &     0 &   0   &  0    &  0    &  0    &  0    &    0  &    0  &  0    &  0    &   0   &  0    &    0  &   8   &  0    &   0   & 0     &  0    &   0   &  0   \\\\\n",
       "\t 18    &  4    &  28   &  2    &  6    & 160   &  16   & 12    & 30    &  6    &  2    &  6    &  6    &  12   &  98   &  42   &  8    &  22   &  6    &  26   &  44   & 40    &  50   &  56   &    10 &  34   &  4    &  6    & 12    &  4    &   18  &   46  &  2    & 20    &  22   &  6    &  132  &  46   &  0    &  32   & 0     & 10    &  40   &  4   \\\\\n",
       "\t 26    &  6    &  28   &  0    &  0    &  24   & 188   &  4    & 52    &  2    & 34    & 10    &  2    &  16   &  68   &  57   &  0    &  28   & 20    &  16   &  16   & 14    &  18   &  12   &     2 &   1   &  0    &  0    &  2    & 25    &   23  &  130  &  0    & 23    &   6   & 10    &   34  &  22   & 24    &  20   & 0     & 18    &  34   &  4   \\\\\n",
       "\t  0    &  0    &  22   & 14    &  0    &   6   &   2   & 44    & 12    &  4    &  4    &  2    &  0    &   0   &  32   &   6   &  0    &  32   & 10    &  89   &  24   & 20    &  30   &   8   &    12 &  49   &  8    &  0    & 18    &  0    &    6  &    4  &  0    &  2    &   8   &  0    &   18  &  10   &  4    &   6   & 0     & 10    &   8   &  4   \\\\\n",
       "\t  4    & 16    &  14   &  0    &  2    &  32   &  40   &  0    & 47    & 10    &  2    &  4    &  2    &   2   &  36   &  58   & 12    &  20   &  6    &   9   &   2   & 12    &  20   &   6   &     0 &  32   &  4    &  0    &  2    &  6    &   29  &    4  &  0    &  6    &  24   & 10    &   20  &  32   &  6    &  10   & 0     & 18    &  32   &  0   \\\\\n",
       "\t  0    &  2    &   0   &  0    &  0    &   4   &   0   &  0    & 10    &  2    &  0    &  2    &  0    &   2   &   0   &   4   &  2    &   8   &  0    &   8   &   6   &  0    &   2   &   0   &     0 &   8   &  2    &  0    &  0    &  0    &    0  &    0  &  0    &  2    &   2   &  0    &    0  &  12   &  0    &   2   & 0     &  8    &   0   &  0   \\\\\n",
       "\t  2    &  8    &   2   &  1    &  0    &   4   &  14   &  2    & 10    &  4    &  6    &  0    &  0    &   0   &  44   &   4   &  0    &   0   &  6    &   4   &   2   &  6    &   0   &   8   &     0 &   8   &  0    &  0    &  0    &  2    &    2  &    4  &  0    &  0    &  10   &  4    &    2  &   6   &  4    &   2   & 0     &  0    &   0   &  2   \\\\\n",
       "\t 12    &  4    &  30   &  0    &  2    &   4   &  16   &  4    & 16    &  2    &  6    & 14    &  0    &   2   &  28   &  36   &  0    &   6   &  0    &  12   &  12   &  4    &  16   &   8   &     2 &   4   &  4    &  0    &  4    &  0    &   20  &   16  &  0    &  2    &   4   &  0    &   28  &  12   & 14    &   4   & 4     & 14    &   6   &  2   \\\\\n",
       "\t  0    &  0    &   6   &  0    &  0    &  10   &   2   &  0    &  0    &  0    &  0    &  0    & 14    &   0   &   2   &   4   &  0    &   1   &  2    &   2   &   0   &  0    &   2   &   4   &     0 &   0   &  0    &  0    &  0    &  0    &    0  &    0  &  0    &  0    &   4   &  0    &    2  &   2   &  0    &   0   & 0     &  2    &   6   &  0   \\\\\n",
       "\t  4    &  4    &   4   &  0    &  0    &  12   &   6   &  2    &  0    &  0    &  0    &  6    &  0    &  74   &   4   &  12   &  0    &   4   &  2    &   0   &   4   &  0    &   4   &   6   &     0 &   6   &  0    &  0    &  0    &  0    &   38  &    0  &  0    &  0    &   2   &  2    &    8  &   2   &  0    &   6   & 2     & 14    & 143   &  0   \\\\\n",
       "\t 22    & 36    &  38   &  0    &  0    &  52   &  35   & 22    & 68    &  6    &  8    & 14    &  2    &   0   & 729   & 162   &  4    &  31   & 10    &  26   & 196   & 24    & 217   &  24   &    16 &  24   & 10    &  2    & 22    & 14    &   14  &  124  &  4    &  4    &   6   & 22    &  267  &  10   & 14    &  43   & 0     & 36    &  40   & 14   \\\\\n",
       "\t 18    & 12    &  28   & 12    &  0    &  12   &  36   &  0    & 86    &  4    &  2    & 10    &  0    &   6   & 175   & 172   &  0    &  17   &  2    &  16   &  19   & 16    &  60   &   6   &     4 &   6   &  0    &  0    &  9    & 22    &   45  &   18  &  0    &  4    &  18   &  6    &  106  &   4   & 30    &  16   & 0     & 30    &  30   &  2   \\\\\n",
       "\t  0    &  2    &   4   &  0    &  0    &   2   &   0   &  2    &  6    &  4    &  0    &  0    &  0    &   4   &   0   &   6   & 14    &  10   & 12    &  32   &  12   &  0    &   0   &   2   &     0 &   0   &  2    &  0    &  2    &  0    &   10  &    0  &  0    &  0    &   0   &  0    &   12  &   4   &  0    &   1   & 2     &  8    &   2   &  0   \\\\\n",
       "\t  6    & 10    &  10   & 18    &  2    &  14   &  44   & 38    & 30    & 10    &  4    & 14    &  2    &   0   &  26   &   8   &  4    & 106   &  0    &  34   &  10   & 16    &   8   &  18   &     4 &  16   &  0    &  0    &  6    &  2    &    8  &   15  &  0    &  8    &   4   &  0    &    8  &  25   &  4    &   2   & 6     & 22    &  18   &  0   \\\\\n",
       "\t  2    &  2    &   2   &  0    &  0    &   2   &  16   &  0    &  6    &  0    &  6    &  4    &  2    &   0   &  56   &  10   &  4    &   4   & 20    &   6   &   2   &  4    &   6   &   6   &     0 &   4   &  0    &  0    &  0    &  2    &    4  &    6  &  0    &  4    &  12   &  2    &    8  &   6   &  4    &   0   & 0     & 16    &   2   &  0   \\\\\n",
       "\t  4    & 35    &  58   &  6    &  6    &  34   &  16   & 54    &  7    & 18    &  2    &  2    &  2    &   2   &  40   &  32   & 46    &  18   &  4    & 441   &  20   & 22    &  26   &  24   &     0 &  92   &  4    &  0    & 32    &  1    &   20  &    8  &  0    & 14    &  30   &  4    &   84  &  18   &  0    &  18   & 6     & 14    &  12   & 12   \\\\\n",
       "\t  6    &  2    &  18   &  2    &  4    &  57   &  36   &  4    &  6    & 23    & 10    &  0    & 12    &   8   & 136   &  20   &  0    &  12   &  2    &  22   & 335   &  2    &  18   &  20   &     8 &  32   &  0    &  0    &  6    &  2    &   24  &  293  &  2    &  2    &  31   &  4    &   56  &  36   &  2    &  24   & 0     & 24    &   6   & 10   \\\\\n",
       "\t  0    &  4    &   6   & 14    &  0    &  12   &  22   & 10    & 16    &  4    &  3    &  6    &  2    &   0   &  34   &  22   &  2    &  32   &  0    &  36   &  10   & 31    &  30   &   4   &     0 &  20   &  6    &  0    & 12    &  0    &    2  &   16  &  0    &  4    &   6   &  0    &   15  &  10   &  4    &  14   & 2     & 24    &   2   &  0   \\\\\n",
       "\t 12    & 18    &  12   &  4    &  2    &  64   &  10   & 16    & 58    &  0    &  2    & 16    &  6    &   0   & 351   &  64   &  2    &  10   &  2    &  34   &  40   & 16    & 289   &   6   &     4 &  30   &  2    &  0    & 20    & 24    &    4  &   54  &  0    &  6    &  18   & 25    &  385  &  22   &  4    &  79   & 2     & 16    &   6   &  3   \\\\\n",
       "\t 10    &  2    &  40   &  0    &  0    &  64   &  18   &  6    & 12    &  2    &  2    &  4    & 14    &   0   &  22   &  18   &  2    &   6   &  6    &  30   &  54   & 10    &   8   & 188   &    26 &  14   &  0    & 56    &  4    &  0    &   16  &   18  &  2    & 12    &  28   & 14    &   44  &  68   &  2    &  10   & 0     & 14    &  20   &  4   \\\\\n",
       "\t  0    &  0    &  34   &  0    &  2    &  17   &   2   &  4    &  0    &  0    &  0    &  2    &  0    &   0   &  10   &   2   &  0    &   2   &  0    &   0   &   0   &  0    &   0   &   4   & 11515 &   4   &  0    &  0    &  0    &  0    &    0  &    4  &  2    &  2    &  50   &  0    &   22  & 123   &  0    &   2   & 0     &  2    &   4   & 14   \\\\\n",
       "\t  4    &  6    &  22   &  4    &  2    &  26   &   4   & 38    & 24    & 26    &  2    &  2    &  4    &   2   &  15   &  10   & 10    &  14   &  4    &  72   &  12   & 18    &  14   &  32   &     2 & 225   &  2    &  2    & 44    &  4    &   12  &   14  &  0    &  4    &  62   &  0    &   22  &  28   &  2    &  20   & 2     & 20    &  12   &  4   \\\\\n",
       "\t  4    &  0    &   0   &  0    &  0    &  12   &   0   &  4    &  0    &  2    &  0    &  0    & 14    &   0   &   4   &   0   &  0    &   0   &  0    &  17   &   0   &  0    &   8   &   2   &     0 &   6   &  8    &  0    &  2    &  0    &    0  &    6  &  2    &  8    &   0   &  2    &   14  &   2   &  0    &   0   & 0     &  6    &   0   &  0   \\\\\n",
       "\t  0    &  0    &   6   &  0    &  2    &   4   &   0   &  0    &  0    &  0    &  0    &  0    &  0    &   2   &   4   &   0   &  0    &   0   &  0    &   0   &   2   &  0    &   0   &  26   &     0 &   0   &  0    &  2    &  0    &  0    &    0  &    2  &  0    &  0    &   0   &  0    &    2  &   4   &  0    &   0   & 0     &  0    &   0   &  0   \\\\\n",
       "\t 24    &  2    &  16   &  2    &  0    &  28   &   2   &  2    &  3    &  0    &  0    & 10    &  2    &   0   &  18   &  16   &  0    &   2   &  0    &  35   &   4   &  6    &  17   &  12   &     0 &  56   & 10    &  0    & 67    &  0    &    2  &    0  &  0    &  7    &   8   &  2    &   46  &  16   &  2    &  38   & 0     &  2    &  12   &  4   \\\\\n",
       "\t  2    &  0    &  10   &  2    &  0    &   4   &   4   &  0    &  8    &  0    &  2    &  2    &  0    &   4   &   2   &  14   &  0    &   2   &  8    &   2   &   4   &  2    &   4   &   0   &    22 &   0   &  0    &  0    &  0    & 46    &   50  &    0  &  0    &  0    &   8   &  4    &    0  &   0   &  0    &   4   & 0     &  0    &   0   &  0   \\\\\n",
       "\t  4    &  4    &  20   &  0    &  0    &  20   &  42   &  2    & 40    &  2    &  0    & 14    &  0    &  26   &  10   &  35   &  2    &   0   &  0    &  10   &  16   &  2    &   4   &   4   &     8 &  14   &  2    &  0    &  2    & 31    & 1080  &    2  &  2    &  4    &  20   &  6    &   10  &  18   & 10    &   0   & 0     & 28    & 118   &  0   \\\\\n",
       "\t 10    & 10    &   4   & 10    &  4    &  60   & 103   & 16    & 10    &  6    &  4    & 10    &  2    &   0   & 125   &  14   &  4    &  34   &  2    &  12   & 370   &  6    &  22   &  22   &     4 &   6   &  2    &  8    &  6    &  8    &    6  & 1876  &  6    & 22    &  14   &  8    &   32  &  16   &  0    &  14   & 0     &  4    &  16   &  6   \\\\\n",
       "\t  0    &  0    &   2   &  0    &  0    &   4   &   0   &  0    &  0    &  0    &  0    &  0    &  4    &   0   &   0   &   0   &  0    &   2   &  0    &   0   &   0   &  0    &   2   &   2   &     5 &   0   &  0    &  0    &  0    &  0    &    0  &    0  &  4    &  0    &  18   &  0    &    6  &  42   &  0    &   4   & 0     &  0    &   0   &  0   \\\\\n",
       "\t  2    & 12    &   4   &  0    &  0    &  10   &  16   &  5    &  2    &  0    &  0    &  0    &  0    &   0   &  24   &  10   &  0    &   6   &  0    &  16   &   6   &  6    &   2   &   6   &     0 &  16   &  0    &  0    & 24    &  0    &   12  &   34  &  4    & 44    &   6   &  0    &   18  &  12   &  0    &   4   & 0     &  2    &   4   &  0   \\\\\n",
       "\t  4    &  2    &  34   &  0    &  4    &  15   &  12   & 10    & 26    &  2    &  6    &  0    &  4    &   0   &  10   &  20   &  0    &   4   & 14    &  16   &  28   &  0    &   8   &   8   &    52 &  50   &  0    &  0    &  2    & 10    &   28  &    8  &  4    &  2    & 658   &  8    &   14  &  74   &  0    &  12   & 0     &  6    &  10   &  0   \\\\\n",
       "\t  0    &  4    &  10   &  0    &  0    &   4   &   0   &  0    & 12    &  0    &  0    &  2    &  0    &   2   &  14   &   0   &  0    &   4   &  0    &   0   &   0   &  0    &   2   &   8   &     0 &   0   &  2    &  0    &  2    &  2    &   14  &    6  &  0    &  0    &   4   & 12    &    6  &   4   &  0    &   0   & 0     &  0    &   6   &  0   \\\\\n",
       "\t 44    & 22    &  28   &  6    &  2    & 178   &  10   & 16    &  8    & 10    &  6    & 14    & 16    &   8   & 259   &  62   &  6    &  30   &  2    &  78   &  64   &  4    & 246   &  41   &    13 &  62   & 18    &  0    & 70    &  4    &    9  &   38  & 22    & 25    &  38   &  4    & 1046  &  64   &  6    &  96   & 0     & 28    &  10   & 14   \\\\\n",
       "\t  4    & 10    & 145   &  6    & 10    &  51   &   6   & 10    & 14    &  0    &  6    &  4    & 16    &   2   &  39   &   8   &  2    &  14   &  4    &  28   &  28   & 12    &  14   &  51   &   151 &  46   &  0    &  2    & 28    & 10    &   62  &   21  &  6    & 10    & 129   &  2    &   52  & 307   &  2    &  18   & 0     & 14    &  14   &  6   \\\\\n",
       "\t  4    &  2    &  10   &  0    &  0    &   8   &  34   &  0    & 12    &  0    &  0    & 12    &  2    &   0   &  18   &  14   &  0    &   4   &  0    &   2   &   2   &  2    &   2   &   2   &     0 &   0   &  0    &  0    &  0    &  4    &   34  &    0  &  0    &  0    &   2   &  0    &    0  &   8   & 34    &   8   & 0     & 10    &   0   &  4   \\\\\n",
       "\t 16    &  8    &  26   &  0    &  1    &  56   &  14   &  4    &  0    & 12    &  2    & 10    &  4    &  20   & 109   &  18   &  0    &   4   &  4    &  48   &  26   & 20    &  72   &  20   &     6 &  40   & 10    &  2    & 78    &  6    &   10  &   38  &  4    & 21    &  14   &  8    &  126  &  21   &  6    & 241   & 0     &  8    &  34   &  6   \\\\\n",
       "\t  0    &  0    &   2   &  0    &  0    &   2   &   0   &  0    &  0    &  0    &  0    &  2    &  0    &   0   &   0   &   2   &  0    &   4   &  0    &   2   &   0   &  4    &   2   &   0   &     0 &   2   &  0    &  0    &  0    &  0    &    0  &    2  &  0    &  2    &   0   &  2    &    2  &   0   &  0    &   2   & 0     &  0    &   0   &  0   \\\\\n",
       "\t 14    & 25    &  28   &  4    &  0    &  14   &  18   &  4    & 18    &  0    &  2    &  6    &  2    &   4   &  32   &  49   &  0    &   6   &  4    &  16   &  10   &  6    &   8   &  24   &     4 &  22   &  6    &  2    &  6    &  2    &   26  &   14  &  0    & 10    &   8   &  0    &   24  &   4   &  2    &   0   & 2     & 96    &  18   & 10   \\\\\n",
       "\t 10    &  6    &  24   &  0    &  0    &  42   &  32   &  6    & 32    &  6    &  8    & 10    &  6    & 174   &  20   &  16   &  0    &   8   &  4    &  12   &  10   &  2    &   2   &  28   &     4 &   8   &  0    &  0    & 14    & 16    &  212  &    4  &  0    &  6    &  18   &  8    &   12  &   4   &  0    &   6   & 0     & 30    &  74   &  0   \\\\\n",
       "\t  0    &  0    &   2   &  0    &  0    &  12   &   8   & 12    &  0    &  0    &  0    &  0    &  0    &   2   &  10   &   8   &  2    &   2   &  8    &   4   &   4   &  0    &   3   &   2   &     4 &  12   &  0    &  0    &  8    &  0    &    2  &    8  &  0    &  2    &   0   &  0    &    6  &   2   &  0    &   6   & 0     &  6    &   6   &  4   \\\\\n",
       "\\end{tabular}\n"
      ],
      "text/markdown": [
       "\n",
       "| 56    | 14    |  18   |  0    |  0    |  21   |  54   |  2    | 13    |  0    |  0    | 20    |  2    |   0   |  66   |  51   |  2    |   8   |  3    |   2   |  20   |  8    |  16   |  12   |     0 |   4   |  0    |  0    |  2    |  6    |    2  |    8  |  0    |  0    |  12   |  4    |   32  |   0   | 10    |   8   | 0     | 12    |  12   |  6    |\n",
       "|  8    | 52    |   4   |  0    |  4    |  18   |  38   |  6    | 32    |  0    |  8    | 16    |  4    |   2   |  74   |  52   |  2    |   2   | 10    |  12   |  12   | 10    |  14   |   2   |     0 |   8   |  2    |  4    |  6    |  2    |   10  |   18  |  0    |  6    |  14   | 21    |   14  |  20   | 12    |   6   | 0     | 36    |  14   |  0    |\n",
       "|  8    | 14    | 451   |  8    |  2    |  51   |  18   | 18    | 24    |  4    |  4    | 12    | 10    |  28   |  50   |  26   | 16    |  12   |  6    |  54   |  18   |  4    |  16   |  74   |    14 |  36   |  0    |  6    | 18    | 10    |   24  |    8  |  8    | 12    |  60   |  6    |   48  | 158   |  5    |  30   | 6     |  8    |  94   | 10    |\n",
       "|  4    |  8    |  30   | 14    |  0    |   6   |   2   | 10    |  4    |  0    |  4    |  4    |  0    |   2   |   6   |   0   |  0    |  18   |  4    |   4   |   2   |  6    |   4   |   2   |     0 |  25   |  0    |  0    |  4    |  0    |    0  |    2  |  0    |  0    |   0   |  0    |    8  |  10   |  0    |   2   | 2     |  2    |  12   |  2    |\n",
       "|  0    |  0    |   0   |  2    |  0    |   0   |   0   |  0    |  2    |  0    |  0    |  0    |  0    |   0   |   4   |   0   |  0    |   2   |  0    |   0   |   0   |  0    |   0   |   0   |     0 |   0   |  0    |  0    |  0    |  0    |    0  |    0  |  0    |  0    |   0   |  0    |    0  |   8   |  0    |   0   | 0     |  0    |   0   |  0    |\n",
       "| 18    |  4    |  28   |  2    |  6    | 160   |  16   | 12    | 30    |  6    |  2    |  6    |  6    |  12   |  98   |  42   |  8    |  22   |  6    |  26   |  44   | 40    |  50   |  56   |    10 |  34   |  4    |  6    | 12    |  4    |   18  |   46  |  2    | 20    |  22   |  6    |  132  |  46   |  0    |  32   | 0     | 10    |  40   |  4    |\n",
       "| 26    |  6    |  28   |  0    |  0    |  24   | 188   |  4    | 52    |  2    | 34    | 10    |  2    |  16   |  68   |  57   |  0    |  28   | 20    |  16   |  16   | 14    |  18   |  12   |     2 |   1   |  0    |  0    |  2    | 25    |   23  |  130  |  0    | 23    |   6   | 10    |   34  |  22   | 24    |  20   | 0     | 18    |  34   |  4    |\n",
       "|  0    |  0    |  22   | 14    |  0    |   6   |   2   | 44    | 12    |  4    |  4    |  2    |  0    |   0   |  32   |   6   |  0    |  32   | 10    |  89   |  24   | 20    |  30   |   8   |    12 |  49   |  8    |  0    | 18    |  0    |    6  |    4  |  0    |  2    |   8   |  0    |   18  |  10   |  4    |   6   | 0     | 10    |   8   |  4    |\n",
       "|  4    | 16    |  14   |  0    |  2    |  32   |  40   |  0    | 47    | 10    |  2    |  4    |  2    |   2   |  36   |  58   | 12    |  20   |  6    |   9   |   2   | 12    |  20   |   6   |     0 |  32   |  4    |  0    |  2    |  6    |   29  |    4  |  0    |  6    |  24   | 10    |   20  |  32   |  6    |  10   | 0     | 18    |  32   |  0    |\n",
       "|  0    |  2    |   0   |  0    |  0    |   4   |   0   |  0    | 10    |  2    |  0    |  2    |  0    |   2   |   0   |   4   |  2    |   8   |  0    |   8   |   6   |  0    |   2   |   0   |     0 |   8   |  2    |  0    |  0    |  0    |    0  |    0  |  0    |  2    |   2   |  0    |    0  |  12   |  0    |   2   | 0     |  8    |   0   |  0    |\n",
       "|  2    |  8    |   2   |  1    |  0    |   4   |  14   |  2    | 10    |  4    |  6    |  0    |  0    |   0   |  44   |   4   |  0    |   0   |  6    |   4   |   2   |  6    |   0   |   8   |     0 |   8   |  0    |  0    |  0    |  2    |    2  |    4  |  0    |  0    |  10   |  4    |    2  |   6   |  4    |   2   | 0     |  0    |   0   |  2    |\n",
       "| 12    |  4    |  30   |  0    |  2    |   4   |  16   |  4    | 16    |  2    |  6    | 14    |  0    |   2   |  28   |  36   |  0    |   6   |  0    |  12   |  12   |  4    |  16   |   8   |     2 |   4   |  4    |  0    |  4    |  0    |   20  |   16  |  0    |  2    |   4   |  0    |   28  |  12   | 14    |   4   | 4     | 14    |   6   |  2    |\n",
       "|  0    |  0    |   6   |  0    |  0    |  10   |   2   |  0    |  0    |  0    |  0    |  0    | 14    |   0   |   2   |   4   |  0    |   1   |  2    |   2   |   0   |  0    |   2   |   4   |     0 |   0   |  0    |  0    |  0    |  0    |    0  |    0  |  0    |  0    |   4   |  0    |    2  |   2   |  0    |   0   | 0     |  2    |   6   |  0    |\n",
       "|  4    |  4    |   4   |  0    |  0    |  12   |   6   |  2    |  0    |  0    |  0    |  6    |  0    |  74   |   4   |  12   |  0    |   4   |  2    |   0   |   4   |  0    |   4   |   6   |     0 |   6   |  0    |  0    |  0    |  0    |   38  |    0  |  0    |  0    |   2   |  2    |    8  |   2   |  0    |   6   | 2     | 14    | 143   |  0    |\n",
       "| 22    | 36    |  38   |  0    |  0    |  52   |  35   | 22    | 68    |  6    |  8    | 14    |  2    |   0   | 729   | 162   |  4    |  31   | 10    |  26   | 196   | 24    | 217   |  24   |    16 |  24   | 10    |  2    | 22    | 14    |   14  |  124  |  4    |  4    |   6   | 22    |  267  |  10   | 14    |  43   | 0     | 36    |  40   | 14    |\n",
       "| 18    | 12    |  28   | 12    |  0    |  12   |  36   |  0    | 86    |  4    |  2    | 10    |  0    |   6   | 175   | 172   |  0    |  17   |  2    |  16   |  19   | 16    |  60   |   6   |     4 |   6   |  0    |  0    |  9    | 22    |   45  |   18  |  0    |  4    |  18   |  6    |  106  |   4   | 30    |  16   | 0     | 30    |  30   |  2    |\n",
       "|  0    |  2    |   4   |  0    |  0    |   2   |   0   |  2    |  6    |  4    |  0    |  0    |  0    |   4   |   0   |   6   | 14    |  10   | 12    |  32   |  12   |  0    |   0   |   2   |     0 |   0   |  2    |  0    |  2    |  0    |   10  |    0  |  0    |  0    |   0   |  0    |   12  |   4   |  0    |   1   | 2     |  8    |   2   |  0    |\n",
       "|  6    | 10    |  10   | 18    |  2    |  14   |  44   | 38    | 30    | 10    |  4    | 14    |  2    |   0   |  26   |   8   |  4    | 106   |  0    |  34   |  10   | 16    |   8   |  18   |     4 |  16   |  0    |  0    |  6    |  2    |    8  |   15  |  0    |  8    |   4   |  0    |    8  |  25   |  4    |   2   | 6     | 22    |  18   |  0    |\n",
       "|  2    |  2    |   2   |  0    |  0    |   2   |  16   |  0    |  6    |  0    |  6    |  4    |  2    |   0   |  56   |  10   |  4    |   4   | 20    |   6   |   2   |  4    |   6   |   6   |     0 |   4   |  0    |  0    |  0    |  2    |    4  |    6  |  0    |  4    |  12   |  2    |    8  |   6   |  4    |   0   | 0     | 16    |   2   |  0    |\n",
       "|  4    | 35    |  58   |  6    |  6    |  34   |  16   | 54    |  7    | 18    |  2    |  2    |  2    |   2   |  40   |  32   | 46    |  18   |  4    | 441   |  20   | 22    |  26   |  24   |     0 |  92   |  4    |  0    | 32    |  1    |   20  |    8  |  0    | 14    |  30   |  4    |   84  |  18   |  0    |  18   | 6     | 14    |  12   | 12    |\n",
       "|  6    |  2    |  18   |  2    |  4    |  57   |  36   |  4    |  6    | 23    | 10    |  0    | 12    |   8   | 136   |  20   |  0    |  12   |  2    |  22   | 335   |  2    |  18   |  20   |     8 |  32   |  0    |  0    |  6    |  2    |   24  |  293  |  2    |  2    |  31   |  4    |   56  |  36   |  2    |  24   | 0     | 24    |   6   | 10    |\n",
       "|  0    |  4    |   6   | 14    |  0    |  12   |  22   | 10    | 16    |  4    |  3    |  6    |  2    |   0   |  34   |  22   |  2    |  32   |  0    |  36   |  10   | 31    |  30   |   4   |     0 |  20   |  6    |  0    | 12    |  0    |    2  |   16  |  0    |  4    |   6   |  0    |   15  |  10   |  4    |  14   | 2     | 24    |   2   |  0    |\n",
       "| 12    | 18    |  12   |  4    |  2    |  64   |  10   | 16    | 58    |  0    |  2    | 16    |  6    |   0   | 351   |  64   |  2    |  10   |  2    |  34   |  40   | 16    | 289   |   6   |     4 |  30   |  2    |  0    | 20    | 24    |    4  |   54  |  0    |  6    |  18   | 25    |  385  |  22   |  4    |  79   | 2     | 16    |   6   |  3    |\n",
       "| 10    |  2    |  40   |  0    |  0    |  64   |  18   |  6    | 12    |  2    |  2    |  4    | 14    |   0   |  22   |  18   |  2    |   6   |  6    |  30   |  54   | 10    |   8   | 188   |    26 |  14   |  0    | 56    |  4    |  0    |   16  |   18  |  2    | 12    |  28   | 14    |   44  |  68   |  2    |  10   | 0     | 14    |  20   |  4    |\n",
       "|  0    |  0    |  34   |  0    |  2    |  17   |   2   |  4    |  0    |  0    |  0    |  2    |  0    |   0   |  10   |   2   |  0    |   2   |  0    |   0   |   0   |  0    |   0   |   4   | 11515 |   4   |  0    |  0    |  0    |  0    |    0  |    4  |  2    |  2    |  50   |  0    |   22  | 123   |  0    |   2   | 0     |  2    |   4   | 14    |\n",
       "|  4    |  6    |  22   |  4    |  2    |  26   |   4   | 38    | 24    | 26    |  2    |  2    |  4    |   2   |  15   |  10   | 10    |  14   |  4    |  72   |  12   | 18    |  14   |  32   |     2 | 225   |  2    |  2    | 44    |  4    |   12  |   14  |  0    |  4    |  62   |  0    |   22  |  28   |  2    |  20   | 2     | 20    |  12   |  4    |\n",
       "|  4    |  0    |   0   |  0    |  0    |  12   |   0   |  4    |  0    |  2    |  0    |  0    | 14    |   0   |   4   |   0   |  0    |   0   |  0    |  17   |   0   |  0    |   8   |   2   |     0 |   6   |  8    |  0    |  2    |  0    |    0  |    6  |  2    |  8    |   0   |  2    |   14  |   2   |  0    |   0   | 0     |  6    |   0   |  0    |\n",
       "|  0    |  0    |   6   |  0    |  2    |   4   |   0   |  0    |  0    |  0    |  0    |  0    |  0    |   2   |   4   |   0   |  0    |   0   |  0    |   0   |   2   |  0    |   0   |  26   |     0 |   0   |  0    |  2    |  0    |  0    |    0  |    2  |  0    |  0    |   0   |  0    |    2  |   4   |  0    |   0   | 0     |  0    |   0   |  0    |\n",
       "| 24    |  2    |  16   |  2    |  0    |  28   |   2   |  2    |  3    |  0    |  0    | 10    |  2    |   0   |  18   |  16   |  0    |   2   |  0    |  35   |   4   |  6    |  17   |  12   |     0 |  56   | 10    |  0    | 67    |  0    |    2  |    0  |  0    |  7    |   8   |  2    |   46  |  16   |  2    |  38   | 0     |  2    |  12   |  4    |\n",
       "|  2    |  0    |  10   |  2    |  0    |   4   |   4   |  0    |  8    |  0    |  2    |  2    |  0    |   4   |   2   |  14   |  0    |   2   |  8    |   2   |   4   |  2    |   4   |   0   |    22 |   0   |  0    |  0    |  0    | 46    |   50  |    0  |  0    |  0    |   8   |  4    |    0  |   0   |  0    |   4   | 0     |  0    |   0   |  0    |\n",
       "|  4    |  4    |  20   |  0    |  0    |  20   |  42   |  2    | 40    |  2    |  0    | 14    |  0    |  26   |  10   |  35   |  2    |   0   |  0    |  10   |  16   |  2    |   4   |   4   |     8 |  14   |  2    |  0    |  2    | 31    | 1080  |    2  |  2    |  4    |  20   |  6    |   10  |  18   | 10    |   0   | 0     | 28    | 118   |  0    |\n",
       "| 10    | 10    |   4   | 10    |  4    |  60   | 103   | 16    | 10    |  6    |  4    | 10    |  2    |   0   | 125   |  14   |  4    |  34   |  2    |  12   | 370   |  6    |  22   |  22   |     4 |   6   |  2    |  8    |  6    |  8    |    6  | 1876  |  6    | 22    |  14   |  8    |   32  |  16   |  0    |  14   | 0     |  4    |  16   |  6    |\n",
       "|  0    |  0    |   2   |  0    |  0    |   4   |   0   |  0    |  0    |  0    |  0    |  0    |  4    |   0   |   0   |   0   |  0    |   2   |  0    |   0   |   0   |  0    |   2   |   2   |     5 |   0   |  0    |  0    |  0    |  0    |    0  |    0  |  4    |  0    |  18   |  0    |    6  |  42   |  0    |   4   | 0     |  0    |   0   |  0    |\n",
       "|  2    | 12    |   4   |  0    |  0    |  10   |  16   |  5    |  2    |  0    |  0    |  0    |  0    |   0   |  24   |  10   |  0    |   6   |  0    |  16   |   6   |  6    |   2   |   6   |     0 |  16   |  0    |  0    | 24    |  0    |   12  |   34  |  4    | 44    |   6   |  0    |   18  |  12   |  0    |   4   | 0     |  2    |   4   |  0    |\n",
       "|  4    |  2    |  34   |  0    |  4    |  15   |  12   | 10    | 26    |  2    |  6    |  0    |  4    |   0   |  10   |  20   |  0    |   4   | 14    |  16   |  28   |  0    |   8   |   8   |    52 |  50   |  0    |  0    |  2    | 10    |   28  |    8  |  4    |  2    | 658   |  8    |   14  |  74   |  0    |  12   | 0     |  6    |  10   |  0    |\n",
       "|  0    |  4    |  10   |  0    |  0    |   4   |   0   |  0    | 12    |  0    |  0    |  2    |  0    |   2   |  14   |   0   |  0    |   4   |  0    |   0   |   0   |  0    |   2   |   8   |     0 |   0   |  2    |  0    |  2    |  2    |   14  |    6  |  0    |  0    |   4   | 12    |    6  |   4   |  0    |   0   | 0     |  0    |   6   |  0    |\n",
       "| 44    | 22    |  28   |  6    |  2    | 178   |  10   | 16    |  8    | 10    |  6    | 14    | 16    |   8   | 259   |  62   |  6    |  30   |  2    |  78   |  64   |  4    | 246   |  41   |    13 |  62   | 18    |  0    | 70    |  4    |    9  |   38  | 22    | 25    |  38   |  4    | 1046  |  64   |  6    |  96   | 0     | 28    |  10   | 14    |\n",
       "|  4    | 10    | 145   |  6    | 10    |  51   |   6   | 10    | 14    |  0    |  6    |  4    | 16    |   2   |  39   |   8   |  2    |  14   |  4    |  28   |  28   | 12    |  14   |  51   |   151 |  46   |  0    |  2    | 28    | 10    |   62  |   21  |  6    | 10    | 129   |  2    |   52  | 307   |  2    |  18   | 0     | 14    |  14   |  6    |\n",
       "|  4    |  2    |  10   |  0    |  0    |   8   |  34   |  0    | 12    |  0    |  0    | 12    |  2    |   0   |  18   |  14   |  0    |   4   |  0    |   2   |   2   |  2    |   2   |   2   |     0 |   0   |  0    |  0    |  0    |  4    |   34  |    0  |  0    |  0    |   2   |  0    |    0  |   8   | 34    |   8   | 0     | 10    |   0   |  4    |\n",
       "| 16    |  8    |  26   |  0    |  1    |  56   |  14   |  4    |  0    | 12    |  2    | 10    |  4    |  20   | 109   |  18   |  0    |   4   |  4    |  48   |  26   | 20    |  72   |  20   |     6 |  40   | 10    |  2    | 78    |  6    |   10  |   38  |  4    | 21    |  14   |  8    |  126  |  21   |  6    | 241   | 0     |  8    |  34   |  6    |\n",
       "|  0    |  0    |   2   |  0    |  0    |   2   |   0   |  0    |  0    |  0    |  0    |  2    |  0    |   0   |   0   |   2   |  0    |   4   |  0    |   2   |   0   |  4    |   2   |   0   |     0 |   2   |  0    |  0    |  0    |  0    |    0  |    2  |  0    |  2    |   0   |  2    |    2  |   0   |  0    |   2   | 0     |  0    |   0   |  0    |\n",
       "| 14    | 25    |  28   |  4    |  0    |  14   |  18   |  4    | 18    |  0    |  2    |  6    |  2    |   4   |  32   |  49   |  0    |   6   |  4    |  16   |  10   |  6    |   8   |  24   |     4 |  22   |  6    |  2    |  6    |  2    |   26  |   14  |  0    | 10    |   8   |  0    |   24  |   4   |  2    |   0   | 2     | 96    |  18   | 10    |\n",
       "| 10    |  6    |  24   |  0    |  0    |  42   |  32   |  6    | 32    |  6    |  8    | 10    |  6    | 174   |  20   |  16   |  0    |   8   |  4    |  12   |  10   |  2    |   2   |  28   |     4 |   8   |  0    |  0    | 14    | 16    |  212  |    4  |  0    |  6    |  18   |  8    |   12  |   4   |  0    |   6   | 0     | 30    |  74   |  0    |\n",
       "|  0    |  0    |   2   |  0    |  0    |  12   |   8   | 12    |  0    |  0    |  0    |  0    |  0    |   2   |  10   |   8   |  2    |   2   |  8    |   4   |   4   |  0    |   3   |   2   |     4 |  12   |  0    |  0    |  8    |  0    |    2  |    8  |  0    |  2    |   0   |  0    |    6  |   2   |  0    |   6   | 0     |  6    |   6   |  4    |\n",
       "\n"
      ],
      "text/plain": [
       "      [,1] [,2] [,3] [,4] [,5] [,6] [,7] [,8] [,9] [,10] [,11] [,12] [,13]\n",
       " [1,] 56   14    18   0    0    21   54   2   13    0     0    20     2   \n",
       " [2,]  8   52     4   0    4    18   38   6   32    0     8    16     4   \n",
       " [3,]  8   14   451   8    2    51   18  18   24    4     4    12    10   \n",
       " [4,]  4    8    30  14    0     6    2  10    4    0     4     4     0   \n",
       " [5,]  0    0     0   2    0     0    0   0    2    0     0     0     0   \n",
       " [6,] 18    4    28   2    6   160   16  12   30    6     2     6     6   \n",
       " [7,] 26    6    28   0    0    24  188   4   52    2    34    10     2   \n",
       " [8,]  0    0    22  14    0     6    2  44   12    4     4     2     0   \n",
       " [9,]  4   16    14   0    2    32   40   0   47   10     2     4     2   \n",
       "[10,]  0    2     0   0    0     4    0   0   10    2     0     2     0   \n",
       "[11,]  2    8     2   1    0     4   14   2   10    4     6     0     0   \n",
       "[12,] 12    4    30   0    2     4   16   4   16    2     6    14     0   \n",
       "[13,]  0    0     6   0    0    10    2   0    0    0     0     0    14   \n",
       "[14,]  4    4     4   0    0    12    6   2    0    0     0     6     0   \n",
       "[15,] 22   36    38   0    0    52   35  22   68    6     8    14     2   \n",
       "[16,] 18   12    28  12    0    12   36   0   86    4     2    10     0   \n",
       "[17,]  0    2     4   0    0     2    0   2    6    4     0     0     0   \n",
       "[18,]  6   10    10  18    2    14   44  38   30   10     4    14     2   \n",
       "[19,]  2    2     2   0    0     2   16   0    6    0     6     4     2   \n",
       "[20,]  4   35    58   6    6    34   16  54    7   18     2     2     2   \n",
       "[21,]  6    2    18   2    4    57   36   4    6   23    10     0    12   \n",
       "[22,]  0    4     6  14    0    12   22  10   16    4     3     6     2   \n",
       "      [,14] [,15] [,16] [,17] [,18] [,19] [,20] [,21] [,22] [,23] [,24] [,25]\n",
       " [1,]   0    66    51    2      8    3      2    20    8     16    12       0\n",
       " [2,]   2    74    52    2      2   10     12    12   10     14     2       0\n",
       " [3,]  28    50    26   16     12    6     54    18    4     16    74      14\n",
       " [4,]   2     6     0    0     18    4      4     2    6      4     2       0\n",
       " [5,]   0     4     0    0      2    0      0     0    0      0     0       0\n",
       " [6,]  12    98    42    8     22    6     26    44   40     50    56      10\n",
       " [7,]  16    68    57    0     28   20     16    16   14     18    12       2\n",
       " [8,]   0    32     6    0     32   10     89    24   20     30     8      12\n",
       " [9,]   2    36    58   12     20    6      9     2   12     20     6       0\n",
       "[10,]   2     0     4    2      8    0      8     6    0      2     0       0\n",
       "[11,]   0    44     4    0      0    6      4     2    6      0     8       0\n",
       "[12,]   2    28    36    0      6    0     12    12    4     16     8       2\n",
       "[13,]   0     2     4    0      1    2      2     0    0      2     4       0\n",
       "[14,]  74     4    12    0      4    2      0     4    0      4     6       0\n",
       "[15,]   0   729   162    4     31   10     26   196   24    217    24      16\n",
       "[16,]   6   175   172    0     17    2     16    19   16     60     6       4\n",
       "[17,]   4     0     6   14     10   12     32    12    0      0     2       0\n",
       "[18,]   0    26     8    4    106    0     34    10   16      8    18       4\n",
       "[19,]   0    56    10    4      4   20      6     2    4      6     6       0\n",
       "[20,]   2    40    32   46     18    4    441    20   22     26    24       0\n",
       "[21,]   8   136    20    0     12    2     22   335    2     18    20       8\n",
       "[22,]   0    34    22    2     32    0     36    10   31     30     4       0\n",
       "      [,26] [,27] [,28] [,29] [,30] [,31] [,32] [,33] [,34] [,35] [,36] [,37]\n",
       " [1,]   4    0     0     2     6       2     8   0     0     12    4      32 \n",
       " [2,]   8    2     4     6     2      10    18   0     6     14   21      14 \n",
       " [3,]  36    0     6    18    10      24     8   8    12     60    6      48 \n",
       " [4,]  25    0     0     4     0       0     2   0     0      0    0       8 \n",
       " [5,]   0    0     0     0     0       0     0   0     0      0    0       0 \n",
       " [6,]  34    4     6    12     4      18    46   2    20     22    6     132 \n",
       " [7,]   1    0     0     2    25      23   130   0    23      6   10      34 \n",
       " [8,]  49    8     0    18     0       6     4   0     2      8    0      18 \n",
       " [9,]  32    4     0     2     6      29     4   0     6     24   10      20 \n",
       "[10,]   8    2     0     0     0       0     0   0     2      2    0       0 \n",
       "[11,]   8    0     0     0     2       2     4   0     0     10    4       2 \n",
       "[12,]   4    4     0     4     0      20    16   0     2      4    0      28 \n",
       "[13,]   0    0     0     0     0       0     0   0     0      4    0       2 \n",
       "[14,]   6    0     0     0     0      38     0   0     0      2    2       8 \n",
       "[15,]  24   10     2    22    14      14   124   4     4      6   22     267 \n",
       "[16,]   6    0     0     9    22      45    18   0     4     18    6     106 \n",
       "[17,]   0    2     0     2     0      10     0   0     0      0    0      12 \n",
       "[18,]  16    0     0     6     2       8    15   0     8      4    0       8 \n",
       "[19,]   4    0     0     0     2       4     6   0     4     12    2       8 \n",
       "[20,]  92    4     0    32     1      20     8   0    14     30    4      84 \n",
       "[21,]  32    0     0     6     2      24   293   2     2     31    4      56 \n",
       "[22,]  20    6     0    12     0       2    16   0     4      6    0      15 \n",
       "      [,38] [,39] [,40] [,41] [,42] [,43] [,44]\n",
       " [1,]   0   10      8   0     12     12    6   \n",
       " [2,]  20   12      6   0     36     14    0   \n",
       " [3,] 158    5     30   6      8     94   10   \n",
       " [4,]  10    0      2   2      2     12    2   \n",
       " [5,]   8    0      0   0      0      0    0   \n",
       " [6,]  46    0     32   0     10     40    4   \n",
       " [7,]  22   24     20   0     18     34    4   \n",
       " [8,]  10    4      6   0     10      8    4   \n",
       " [9,]  32    6     10   0     18     32    0   \n",
       "[10,]  12    0      2   0      8      0    0   \n",
       "[11,]   6    4      2   0      0      0    2   \n",
       "[12,]  12   14      4   4     14      6    2   \n",
       "[13,]   2    0      0   0      2      6    0   \n",
       "[14,]   2    0      6   2     14    143    0   \n",
       "[15,]  10   14     43   0     36     40   14   \n",
       "[16,]   4   30     16   0     30     30    2   \n",
       "[17,]   4    0      1   2      8      2    0   \n",
       "[18,]  25    4      2   6     22     18    0   \n",
       "[19,]   6    4      0   0     16      2    0   \n",
       "[20,]  18    0     18   6     14     12   12   \n",
       "[21,]  36    2     24   0     24      6   10   \n",
       "[22,]  10    4     14   2     24      2    0   \n",
       " [ reached getOption(\"max.print\") -- omitted 22 rows ]"
      ]
     },
     "metadata": {},
     "output_type": "display_data"
    },
    {
     "name": "stderr",
     "output_type": "stream",
     "text": [
      "x being coerced from class: matrix to data.table\n",
      "x being coerced from class: matrix to data.table\n"
     ]
    }
   ],
   "source": [
    "ind_matrix = matrix(0, nrow=44, ncol=44)\n",
    "for (i in 1:nrow(f_ind_net)) {\n",
    "    rowid=f_ind_net[i, from_sector]\n",
    "    colid=f_ind_net[i, to_sector]\n",
    "    n=f_ind_net[i, n]\n",
    "    ind_matrix[rowid, colid]=n\n",
    "}\n",
    "\n",
    "ind_matrix_full = matrix(0, nrow=44, ncol=44)\n",
    "for (i in 1:nrow(f_ind_net_full)) {\n",
    "    rowid=f_ind_net_full[i, from_sector]\n",
    "    colid=f_ind_net_full[i, to_sector]\n",
    "    n=f_ind_net_full[i, n]\n",
    "    ind_matrix_full[rowid, colid]=n\n",
    "}\n",
    "\n",
    "ind_matrix_full\n",
    "fwrite(ind_matrix, 'ind_matrix.csv', col.names=F)\n",
    "fwrite(ind_matrix_full, 'ind_matrix_full.csv', col.names=F)"
   ]
  }
 ],
 "metadata": {
  "kernelspec": {
   "display_name": "MRO-3.5.3",
   "language": "R",
   "name": "ir353"
  },
  "language_info": {
   "codemirror_mode": "r",
   "file_extension": ".r",
   "mimetype": "text/x-r-source",
   "name": "R",
   "pygments_lexer": "r",
   "version": "3.5.3"
  },
  "toc-autonumbering": true
 },
 "nbformat": 4,
 "nbformat_minor": 4
}
